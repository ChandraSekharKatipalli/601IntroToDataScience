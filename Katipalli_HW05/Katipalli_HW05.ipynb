{
 "cells": [
  {
   "cell_type": "markdown",
   "id": "7b64915d",
   "metadata": {},
   "source": [
    "## I) Analyzing Sales Data**\n",
    "\n",
    "Let's assume you have a dataset containing sales records for an e-commerce platform. You want to calculate the total revenue for each product category, handle potential exceptions in the data, and write the results to a CSV file."
   ]
  },
  {
   "cell_type": "code",
   "execution_count": 3,
   "id": "4267eb68",
   "metadata": {},
   "outputs": [
    {
     "name": "stdout",
     "output_type": "stream",
     "text": [
      "Data written to category_revenue.csv successfully.\n"
     ]
    }
   ],
   "source": [
    "import csv\n",
    "\n",
    "# \n",
    "sales_data = [\n",
    "    {\"Product\": \"Laptop\", \"Category\": \"Electronics\", \"Revenue\": 1500},\n",
    "    {\"Product\": \"Tablet\", \"Category\": \"Electronics\", \"Revenue\": 500},\n",
    "    {\"Product\": \"Shirt\", \"Category\": \"Apparel\", \"Revenue\": 30},\n",
    "    {\"Product\": \"TShirt\", \"Category\": \"Apparel\", \"Revenue\": 50},\n",
    "    {\"Product\": \"Hoodie\", \"Category\": \"Apparel\", \"Revenue\": 200},\n",
    "    {\"Product\": \"Watch\", \"Category\": \"Apparel\", \"Revenue\": 1000},\n",
    "    {\"Product\": \"Phone\", \"Category\": \"Electronics\", \"Revenue\": 1300},\n",
    "    {\"Product\": \"TV\", \"Category\": \"Electronics\", \"Revenue\": 1000},\n",
    "    {\"Product\": \"Shirt\", \"Category\": \"Apparel\", \"Revenue\": 30},\n",
    "    {\"Product\": \"Chair\", \"Category\": \"Home\", \"Revenue\": 50},\n",
    "    {\"Product\": \"Table\", \"Category\": \"Home\", \"Revenue\": 100},\n",
    "    {\"Product\": \"Lamp\", \"Category\": \"Home\", \"Revenue\": 40},\n",
    "    {\"Product\": \"Fruits\", \"Category\": \"Groceries\", \"Revenue\": 30},\n",
    "    {\"Product\": \"Vegetables\", \"Category\": \"Groceries\", \"Revenue\": 30},\n",
    "    {\"Product\": \"Rice\", \"Category\": \"Groceries\", \"Revenue\": 60},\n",
    "    {\"Product\": \"Engine Oil\", \"Category\": \"Automotive\", \"Revenue\": 300},\n",
    "    {\"Product\": \"Baseball\", \"Category\": \"Sports\", \"Revenue\": 20},\n",
    "    {\"Product\": \"Basket Ball\", \"Category\": \"Sports\", \"Revenue\": 40},\n",
    "    {\"Product\": \"Wipers\", \"Category\": \"Automotive\", \"Revenue\": 300},\n",
    "]\n",
    "\n",
    "#\n",
    "class Product:\n",
    "    def __init__(self, product_name, category, revenue):\n",
    "        self.product_name = product_name\n",
    "        self.category = category\n",
    "        self.revenue = revenue\n",
    "\n",
    "# \n",
    "products = [Product(item[\"Product\"], item[\"Category\"], item[\"Revenue\"]) for item in sales_data]\n",
    "\n",
    "# \n",
    "category_revenue = {}\n",
    "\n",
    "# \n",
    "for product in products:\n",
    "    category = product.category\n",
    "    revenue = product.revenue\n",
    "    category_revenue[category] = category_revenue.get(category, 0) + revenue\n",
    "\n",
    "# \n",
    "try:\n",
    "    # \n",
    "    with open(\"category_revenue.csv\", mode=\"w\", newline=\"\") as file:\n",
    "        writer = csv.writer(file)\n",
    "        \n",
    "        # Write headers\n",
    "        writer.writerow([\"Category\", \"Total Revenue\"])\n",
    "        \n",
    "        # \n",
    "        for category, revenue in category_revenue.items():\n",
    "            writer.writerow([category, revenue])\n",
    "    print(\"Data written to category_revenue.csv successfully.\")\n",
    "except IOError:\n",
    "    print(\"An error occurred while writing the data to the file.\")\n",
    "except Exception as e:\n",
    "    print(f\"An unexpected error occurred: {str(e)}\")\n"
   ]
  },
  {
   "cell_type": "markdown",
   "id": "46f5da57",
   "metadata": {},
   "source": [
    "Question 1: What does this code do, and what is its purpose?"
   ]
  },
  {
   "cell_type": "code",
   "execution_count": null,
   "id": "3d9f42a3",
   "metadata": {},
   "outputs": [],
   "source": [
    "import csv"
   ]
  },
  {
   "cell_type": "markdown",
   "id": "4c894a7b",
   "metadata": {},
   "source": [
    "#### CSV is an Module which used to read, write and investigate .CSV files."
   ]
  },
  {
   "cell_type": "markdown",
   "id": "bb5ba7d6",
   "metadata": {},
   "source": [
    "Question 2: What is the purpose of the sales_data list, and what does it contain?"
   ]
  },
  {
   "cell_type": "code",
   "execution_count": null,
   "id": "594dbcfe",
   "metadata": {},
   "outputs": [],
   "source": [
    "sales_data = [\n",
    "    {\"Product\": \"Laptop\", \"Category\": \"Electronics\", \"Revenue\": 1500},\n",
    "    {\"Product\": \"Tablet\", \"Category\": \"Electronics\", \"Revenue\": 500},\n",
    "    {\"Product\": \"Shirt\", \"Category\": \"Apparel\", \"Revenue\": 30},\n",
    "    # More sales data...\n",
    "]"
   ]
  },
  {
   "cell_type": "markdown",
   "id": "b146b219",
   "metadata": {},
   "source": [
    "##### Sales_data is a list of dictionaries which contain details of a peoduct like category, product name, and their revenue. This sales_data is used to analyse and draw insight regarding products and categories."
   ]
  },
  {
   "cell_type": "markdown",
   "id": "d7edf273",
   "metadata": {},
   "source": [
    "Question 3: What is the purpose of the Product class?"
   ]
  },
  {
   "cell_type": "code",
   "execution_count": null,
   "id": "f226a5f4",
   "metadata": {},
   "outputs": [],
   "source": [
    "class Product:\n",
    "    def __init__(self, product_name, category, revenue):\n",
    "        self.product_name = product_name\n",
    "        self.category = category\n",
    "        self.revenue = revenue\n"
   ]
  },
  {
   "cell_type": "markdown",
   "id": "6030a7ef",
   "metadata": {},
   "source": [
    "##### The class Product takes Product_name, category and revenue as the arguments and it is used as a template or a blue print of a product and its details."
   ]
  },
  {
   "cell_type": "markdown",
   "id": "67d7b111",
   "metadata": {},
   "source": [
    "Question 4: What does this line of code do, and why is it used?"
   ]
  },
  {
   "cell_type": "code",
   "execution_count": null,
   "id": "72e42692",
   "metadata": {},
   "outputs": [],
   "source": [
    "products = [Product(item[\"Product\"], item[\"Category\"], item[\"Revenue\"]) for item in sales_data]\n"
   ]
  },
  {
   "cell_type": "markdown",
   "id": "19404e4a",
   "metadata": {},
   "source": [
    "##### Using Sales_data it is creating a list of Product(object) and assigning it to products. Where we are also using List Comprehension to create a list."
   ]
  },
  {
   "cell_type": "markdown",
   "id": "aca62ba5",
   "metadata": {},
   "source": [
    "Question 5: What is the purpose of the category_revenue dictionary, and what does it store?"
   ]
  },
  {
   "cell_type": "code",
   "execution_count": null,
   "id": "5183117c",
   "metadata": {},
   "outputs": [],
   "source": [
    "category_revenue = {}\n"
   ]
  },
  {
   "cell_type": "markdown",
   "id": "a668079e",
   "metadata": {},
   "source": [
    "##### The purpose of Category_revenue dictionary is to store category wise revenue of the products."
   ]
  },
  {
   "cell_type": "markdown",
   "id": "3d083325",
   "metadata": {},
   "source": [
    "Question 6: What does the following block of code do, and why is it important?"
   ]
  },
  {
   "cell_type": "code",
   "execution_count": null,
   "id": "a0a29da6",
   "metadata": {},
   "outputs": [],
   "source": [
    "for product in products:\n",
    "    category = product.category\n",
    "    revenue = product.revenue\n",
    "    category_revenue[category] = category_revenue.get(category, 0) + revenue\n"
   ]
  },
  {
   "cell_type": "markdown",
   "id": "e9e1a5e0",
   "metadata": {},
   "source": [
    "- Iterating through the products objects list.\n",
    "- assigning product's category to 'category'.\n",
    "- assigning product's revenue to 'revenue'.\n",
    "- and then based on the current product category it checks if the category already exists, if so it get the category and the revenue to it or it creates a new category and revenue.\n",
    "\n",
    "##### This code is important because the main object of the whole code is to get the category wise revenue of the products and this few lines of code groups the products by its categories and there total revenue.\n"
   ]
  },
  {
   "cell_type": "markdown",
   "id": "aea5bfa7",
   "metadata": {},
   "source": [
    "Question 7: What is the purpose of the following code block, and how does it help ensure code reliability?"
   ]
  },
  {
   "cell_type": "code",
   "execution_count": null,
   "id": "7a2369b5",
   "metadata": {},
   "outputs": [],
   "source": [
    "# \n",
    "try:\n",
    "    # \n",
    "    with open(\"category_revenue.csv\", mode=\"w\", newline=\"\") as file:\n",
    "        writer = csv.writer(file)\n",
    "        \n",
    "        # Write headers\n",
    "        writer.writerow([\"Category\", \"Total Revenue\"])\n",
    "        \n",
    "        # Write data\n",
    "        for category, revenue in category_revenue.items():\n",
    "            writer.writerow([category, revenue])\n",
    "    print(\"Data written to category_revenue.csv successfully.\")\n",
    "except IOError:\n",
    "    print(\"An error occurred while writing the data to the file.\")\n",
    "except Exception as e:\n",
    "    print(f\"An unexpected error occurred: {str(e)}\")\n"
   ]
  },
  {
   "cell_type": "markdown",
   "id": "d5f702d1",
   "metadata": {},
   "source": [
    "#### Creating a file and handling exceptions\n",
    "- In the try block using with we are opening or creating a csv file called category_revenue.\n",
    "- Editing the file using writer function which takes the csv file as an argument and stores in variables.\n",
    "- Adding headers Category, Total Revenue using writerow method which takes names of the rows as arguments.\n",
    "- Now adding data from category_revenue to the file by iterating through the category_revenue dictionary and by using writerow method.\n",
    "- Now handling exceptions, if there is any exception in the above code like Input/Output exception and other exceptions."
   ]
  },
  {
   "cell_type": "markdown",
   "id": "c507fac4",
   "metadata": {},
   "source": [
    "## III) Fill the missing code block "
   ]
  },
  {
   "cell_type": "code",
   "execution_count": 3,
   "id": "5367c87c",
   "metadata": {},
   "outputs": [
    {
     "name": "stdout",
     "output_type": "stream",
     "text": [
      "Data written to category_revenue.csv successfully.\n"
     ]
    }
   ],
   "source": [
    "import csv  #  import the CSV module\n",
    "\n",
    "# Sales Data for analysis\n",
    "sales_data = [\n",
    "    {\"Product\": \"Laptop\", \"Category\": \"Electronics\", \"Revenue\": 1500},\n",
    "    {\"Product\": \"Tablet\", \"Category\": \"Electronics\", \"Revenue\": 500},\n",
    "    {\"Product\": \"Shirt\", \"Category\": \"Apparel\", \"Revenue\": 30},\n",
    "    {\"Product\": \"TShirt\", \"Category\": \"Apparel\", \"Revenue\": 50},\n",
    "    {\"Product\": \"Hoodie\", \"Category\": \"Apparel\", \"Revenue\": 200},\n",
    "    {\"Product\": \"Watch\", \"Category\": \"Apparel\", \"Revenue\": 1000},\n",
    "    {\"Product\": \"Phone\", \"Category\": \"Electronics\", \"Revenue\": 1300},\n",
    "    {\"Product\": \"TV\", \"Category\": \"Electronics\", \"Revenue\": 1000},\n",
    "    {\"Product\": \"Shirt\", \"Category\": \"Apparel\", \"Revenue\": 30},\n",
    "    {\"Product\": \"Chair\", \"Category\": \"Home\", \"Revenue\": 50},\n",
    "    {\"Product\": \"Table\", \"Category\": \"Home\", \"Revenue\": 100},\n",
    "    {\"Product\": \"Lamp\", \"Category\": \"Home\", \"Revenue\": 40},\n",
    "    {\"Product\": \"Fruits\", \"Category\": \"Groceries\", \"Revenue\": 30},\n",
    "    {\"Product\": \"Vegetables\", \"Category\": \"Groceries\", \"Revenue\": 30},\n",
    "    {\"Product\": \"Rice\", \"Category\": \"Groceries\", \"Revenue\": 60},\n",
    "    {\"Product\": \"Engine Oil\", \"Category\": \"Automotive\", \"Revenue\": 300},\n",
    "    {\"Product\": \"Baseball\", \"Category\": \"Sports\", \"Revenue\": 20},\n",
    "    {\"Product\": \"Wipers\", \"Category\": \"Automotive\", \"Revenue\": 300},\n",
    "]\n",
    "\n",
    "# creating a class product which takes product_name, category, revenue as arguments\n",
    "class Product:\n",
    "    def __init__(self, product_name, category, revenue):\n",
    "        self.product_name = product_name\n",
    "        self.category = category\n",
    "        self.revenue = revenue\n",
    "\n",
    "# creating products list of Product object using list comprehension.\n",
    "products = [Product(item[\"Product\"], item[\"Category\"], item[\"Revenue\"]) for item in sales_data]\n",
    "\n",
    "# creating a empty dict to store the grouped data.\n",
    "category_revenue = {}\n",
    "\n",
    "# iterating through list products and grouping data into category_revenue\n",
    "for product in products:\n",
    "    # Extract the category and revenue from the product object\n",
    "    category = product.category\n",
    "    revenue = product.revenue\n",
    "    category_revenue[category] = category_revenue.get(category, 0) + revenue\n",
    "    # Update the category_revenue dictionary (fill in the code to update the dictionary)\n",
    "\n",
    "# creating oe upating a csvfile with category_revenue data by iterating and handling exceptions.\n",
    "try:\n",
    "    # Open a CSV file for writing (fill in the file handling code)\n",
    "    with open(\"category_revenue.csv\", mode=\"w\", newline=\"\") as file:\n",
    "        writer = csv.writer(file)\n",
    "        \n",
    "        # Write headers\n",
    "        writer.writerow([\"Category\", \"Total Revenue\"])\n",
    "        for category, revenue in category_revenue.items():\n",
    "            writer.writerow([category, revenue])\n",
    "        # Write data (fill in the code to write data)\n",
    "        \n",
    "    print(\"Data written to category_revenue.csv successfully.\")\n",
    "except IOError:\n",
    "    print(\"An error occurred while writing the data to the file.\")\n",
    "except Exception as e:\n",
    "    print(f\"An unexpected error occurred: {str(e)}\")\n"
   ]
  },
  {
   "cell_type": "markdown",
   "id": "2083792f",
   "metadata": {},
   "source": [
    "\n",
    "\n",
    "1. What Python module is imported at the beginning of the code, and why is it necessary for this task?\n",
    "##### CSV module is imported as we are creating and editing a csv file in the following code.\n",
    "\n",
    "\n",
    "2. How is the sales data represented in the code, and what are its components?\n",
    "##### sales date represents the product details like category, name and their revenue.\n",
    "\n",
    "\n",
    "3.  Explain the purpose of the `Product` class in this code.\n",
    "   - What attributes does each `Product` object have, and how are they initialized?\n",
    "##### It is used as a template or a blue print of a product and its details.\n",
    "##### The class Product takes Product_name, category and revenue as the arguments.\n",
    "\n",
    "\n",
    "4. How is a list of `Product` objects created from the `sales_data` list using list comprehension?\n",
    "##### Using Sales_data it is creating a list of Product(object) and assigning it to products.\n",
    "\n",
    "\n",
    "5. Describe the process of calculating the total revenue per category. What is the role of the `category_revenue` dictionary?\n",
    "- Iterating through the products objects list.\n",
    "- Assigning product's category to 'category'.\n",
    "- Assigning product's revenue to 'revenue'.\n",
    "- And then based on the current product category it checks if the category already exists, if so it get the category and the revenue to it or it creates a new category and revenue.\n",
    "##### The purpose of Category_revenue dictionary is to store category wise revenue of the products.\n",
    "\n",
    "\n",
    "6. Inside the loop for calculating total revenue, what condition is checked for each `Product` object?\n",
    "   - How is the `category_revenue` dictionary updated based on the condition?\n",
    "##### Category condition is checked.\n",
    "##### Based on the current product category it checks if the category already exists, if so it get the category and the revenue to it or it creates a new category and revenue.\n",
    "\n",
    "\n",
    "7. \n",
    "   - Why is exception handling important in this code?\n",
    "   - What types of exceptions are handled in the code, and why are they relevant to file operations?\n",
    "##### Exception handling exceutes whole code without breaking and it also prints the information on the error that causing code failure.\n",
    "##### Input/Output exception and other exceptions.\n",
    "\n",
    "8. \n",
    "   - How is the CSV file \"category_revenue.csv\" created and opened for writing?\n",
    "   - Describe the steps involved in writing data to the CSV file, including headers and data rows.\n",
    "##### with open function we are creating or opening the file and for opening for writing we are using csv.writer funtion.\n",
    "- Editing the file using writer function which takes the csv file as an argument and stores in variables.\n",
    "- Adding headers Category, Total Revenue using writerow method which takes names of the rows as arguments.\n",
    "- Now adding data from category_revenue to the file by iterating through the category_revenue dictionary and by using writerow method.\n",
    "- Now handling exceptions, if there is any exception in the above code like Input/Output exception and other exceptions.\n",
    "\n",
    "\n",
    "9.\n",
    "   - What message is printed to the console upon successful completion of writing data to the CSV file?\n",
    "   - What messages are displayed in case of file-related errors or unexpected exceptions?\n",
    "##### Data written to category_revenue.csv successfully.\n",
    "##### for I/O error: An error occurred while writing the data to the file.\n",
    "##### other error: An unexpected error occurred: {str(e)} \n",
    "\n",
    "\n",
    "10. Summary\n",
    "    - Summarize the main objective of this code, including the input data, processing steps, and the final output.\n",
    "##### The main objective of this code is to group the products based on their categories and revenues. The input data is Sales_data\n",
    "##### processing steps:\n",
    "- creating a class `Product`.\n",
    "- Creating a list of `Product` objects.\n",
    "- Creating and updating `category_revenue` dict using `products` list\n",
    "- Creating and updateing `category_revenue.csv` file using CSV methods and functions.\n",
    "- Handling exception incase of code failure.\n",
    "\n",
    "\n"
   ]
  },
  {
   "cell_type": "markdown",
   "id": "23d22691",
   "metadata": {},
   "source": [
    "## III) Student Record Processing"
   ]
  },
  {
   "cell_type": "markdown",
   "id": "216c1739",
   "metadata": {},
   "source": [
    "\n",
    "Objective: Process a CSV file containing student records and perform data analysis tasks using Python, including data filtering, calculation, and error handling.\n",
    "\n",
    "Instructions:\n",
    "\n",
    "1. Create a `Student` class with the following attributes: `student_id`, `name`, `score`, and `grade`. Implement a constructor to initialize these attributes.\n",
    "\n",
    "2. Read the data from the CSV file \"student_records.csv\" into a list of `Student` objects. The CSV file contains columns: \"Student ID\", \"Name\", and \"Score\". Calculate the grade for each student based on the following criteria:\n",
    "   - A: Score >= 90\n",
    "   - B: 80 <= Score < 90\n",
    "   - C: 70 <= Score < 80\n",
    "   - D: 60 <= Score < 70\n",
    "   - F: Score < 60\n",
    "\n",
    "3. Use list comprehension to create a list of students who received an \"A\" grade.\n",
    "\n",
    "4. Calculate the average score for all students.\n",
    "\n",
    "5. Handle exceptions: Implement error handling for file-related exceptions when reading the CSV file and for value-related exceptions when calculating grades (e.g., invalid scores). Print informative error messages for each exception.\n",
    "\n",
    "\n",
    "\n",
    "\n",
    "\n"
   ]
  },
  {
   "cell_type": "markdown",
   "id": "b6db1e9b",
   "metadata": {},
   "source": [
    " - Complete the missing parts of the code to define the `Student` class, read data from the CSV file, calculate grades, create a list of \"A\" grade students, and calculate the average score.\n",
    " \n",
    "- Implement error handling for file-related and value-related exceptions as described in the instructions.\n",
    "\n",
    "- Test the code with the provided \"student_records.csv\" file or any other similar dataset.\n",
    "\n",
    "- Consider adding additional data analysis tasks or customizations to further challenge students.\n"
   ]
  },
  {
   "cell_type": "code",
   "execution_count": 4,
   "id": "63e4f956",
   "metadata": {},
   "outputs": [
    {
     "name": "stdout",
     "output_type": "stream",
     "text": [
      "Data written to student.csv successfully.\n"
     ]
    }
   ],
   "source": [
    "import csv  #  import the CSV module\n",
    "\n",
    "student_data = [\n",
    "    {\"student_id\": 1, \"name\": \"ram\", \"score\": 70, \"grade\": \"\"},\n",
    "    {\"student_id\": 2, \"name\": \"Ramesh\", \"score\": 80, \"grade\": \"\"},\n",
    "    {\"student_id\": 3, \"name\": \"suresh\", \"score\": 90, \"grade\": \"\"},\n",
    "    # More sales data...\n",
    "]\n",
    "class student:\n",
    "    def __init__(self, student_id, name, score):\n",
    "        self.student_id = student_id\n",
    "        self.name = name\n",
    "        self.score = score\n",
    "        if score >= 90: \n",
    "            self.grade = 'A' \n",
    "        elif 80 <= score < 90: \n",
    "            self.grade = 'B' \n",
    "        elif 70 <= score < 80: \n",
    "            self.grade = 'C' \n",
    "        elif 60 <= score < 70: \n",
    "            self.grade = 'D' \n",
    "        elif score < 60: \n",
    "            self.grade = 'E'\n",
    "\n",
    "Students = [student(item[\"student_id\"], item[\"name\"], item[\"score\"]) for item in student_data]\n",
    "\n",
    "try:\n",
    "    with open(\"student.csv\", mode=\"w\", newline=\"\") as file:\n",
    "        writer = csv.writer(file)\n",
    "        \n",
    "        # Write headers\n",
    "        writer.writerow([\"student_id\", \"name\", \"score\", \"grade\"])\n",
    "        for student in Students:\n",
    "            writer.writerow([student.student_id, student.name, student.score, student.grade])\n",
    "        # Write data (fill in the code to write data)\n",
    "        \n",
    "    print(\"Data written to student.csv successfully.\")\n",
    "except IOError:\n",
    "    print(\"An error occurred while writing the data to the file.\")\n",
    "except Exception as e:\n",
    "    print(f\"An unexpected error occurred: {str(e)}\")"
   ]
  },
  {
   "cell_type": "code",
   "execution_count": 5,
   "id": "9593079b",
   "metadata": {},
   "outputs": [
    {
     "name": "stdout",
     "output_type": "stream",
     "text": [
      "['suresh']\n"
     ]
    }
   ],
   "source": [
    "# A grade studnts\n",
    "with open('student.csv') as f:\n",
    "        stud_data = [{k: v for k, v in row.items()}\n",
    "        for row in csv.DictReader(f, skipinitialspace=True)]\n",
    "\n",
    "A_students =[student['name'] for student in stud_data if int(student['score']) >= 90]\n",
    "\n",
    "print(A_students)\n"
   ]
  },
  {
   "cell_type": "code",
   "execution_count": 6,
   "id": "b98a9b92",
   "metadata": {},
   "outputs": [
    {
     "name": "stdout",
     "output_type": "stream",
     "text": [
      "80.0\n"
     ]
    }
   ],
   "source": [
    "# Average of all students\n",
    "total = 0\n",
    "for stud in stud_data:\n",
    "    total += int(stud['score'])\n",
    "\n",
    "avg_score = total/(len(stud_data))\n",
    "\n",
    "print(avg_score)"
   ]
  },
  {
   "cell_type": "markdown",
   "id": "1d1f947d",
   "metadata": {},
   "source": [
    " ## IV) Data Analysis with Exception Handling**"
   ]
  },
  {
   "cell_type": "markdown",
   "id": "bb0498d1",
   "metadata": {},
   "source": [
    " Process a CSV file containing financial transaction data, calculate various statistics, and handle exceptions that may arise during data processing.\n",
    "\n",
    "Instructions:\n",
    "\n",
    "1. Create a `Transaction` class with the following attributes: `transaction_id`, `date`, `amount`, and `description`. Implement a constructor to initialize these attributes.\n",
    "\n",
    "2. Read the data from the CSV file \"financial_transactions.csv\" into a list of `Transaction` objects. The CSV file contains columns: \"Transaction ID\", \"Date\", \"Amount\", and \"Description\". Handle exceptions that may occur while reading the file (e.g., file not found).\n",
    "\n",
    "3. Calculate the following statistics:\n",
    "   - Total number of transactions.\n",
    "   - Total transaction amount.\n",
    "   - Average transaction amount.\n",
    "   - The highest transaction amount.\n",
    "   - The lowest transaction amount.\n",
    "\n",
    "4. Use a list comprehension to create a list of transactions with negative amounts.\n",
    "\n",
    "5. Handle exceptions when performing calculations (e.g., handling invalid amount values, division by zero) and print informative error messages for each exception.\n",
    "\n",
    "\n",
    "\n",
    "\n",
    "\n",
    "\n",
    "\n"
   ]
  },
  {
   "cell_type": "markdown",
   "id": "d99088bc",
   "metadata": {},
   "source": [
    "#Code Template (with missing parts):\n",
    "\n",
    "```python\n",
    "# Define the Transaction class (fill in the missing class definition)\n",
    "\n",
    "# Initialize an empty list to store Transaction objects (fill in the missing code)\n",
    "\n",
    "# Read data from the CSV file and create Transaction objects (fill in the missing code)\n",
    "\n",
    "# Initialize variables to store statistics (fill in the missing code)\n",
    "\n",
    "# Calculate statistics for the transactions (fill in the missing code)\n",
    "\n",
    "# Use list comprehension to create a list of transactions with negative amounts (fill in the missing code)\n",
    "\n",
    "# Handle file-related exceptions when reading the CSV file (fill in the missing code)\n",
    "\n",
    "# Handle value-related exceptions when performing calculations (fill in the missing code)\n",
    "```"
   ]
  },
  {
   "cell_type": "markdown",
   "id": "9d5edc42",
   "metadata": {},
   "source": [
    "- Complete the missing parts of the code to define the `Transaction` class, read data from the CSV file, calculate statistics, and create a list of transactions with negative amounts.\n",
    "- Implement error handling for file-related and value-related exceptions as described in the instructions.\n",
    "- Test the code with the provided \"financial_transactions.csv\" file or any other similar dataset.\n",
    "- Consider adding more advanced data analysis tasks or customizations to further challenge students, such as identifying specific patterns in transaction descriptions or visualizing the data."
   ]
  },
  {
   "cell_type": "code",
   "execution_count": 4,
   "id": "1d3c7db1",
   "metadata": {},
   "outputs": [
    {
     "name": "stdout",
     "output_type": "stream",
     "text": [
      "[{'transaction_id': '1', 'date': '10-09-2023', 'amount': '100', 'description': 'shopping'}, {'transaction_id': '2', 'date': '10-08-2023', 'amount': '50', 'description': 'food'}, {'transaction_id': '3', 'date': '10-Jun', 'amount': '1390', 'description': 'rent'}]\n",
      "total transactions 3\n",
      "total amount 1540\n",
      "average transactions 513.3333333333334\n",
      "highest transaction 1390\n",
      "[]\n"
     ]
    }
   ],
   "source": [
    "#creating class transaction with transaction_id, date, amount, description as arguments\n",
    "class transaction:\n",
    "    def _init_(self, transaction_id, date, amount, description):\n",
    "        self.transaction_id = transaction_id\n",
    "        self.date = date\n",
    "        self.amount = amount\n",
    "        self.description = description\n",
    "          \n",
    "# Initialize an empty list to store Transaction objects\n",
    "l_to = []\n",
    "\n",
    "# Read data from the CSV file and create Transaction objects\n",
    "try:\n",
    "    with open('financial_transaction.csv') as f:\n",
    "        l_to = [{k: v for k, v in row.items()}\n",
    "        for row in csv.DictReader(f, skipinitialspace=True)]        \n",
    "except IOError:\n",
    "    print(\"An error occurred while writing the data to the file.\")\n",
    "except Exception as e:\n",
    "    print(f\"An unexpected error occurred: {str(e)}\")\n",
    "\n",
    "print(l_to)\n",
    "\n",
    "# Initialize variables to store statistics\n",
    "t_tns = 0\n",
    "t_at = 0\n",
    "avg_tns = 0\n",
    "high_tns = 0\n",
    "low_tns = 0\n",
    "\n",
    "# Calculate statistics for the transactions\n",
    "tot_ts = len(l_to)\n",
    "for i in l_to:\n",
    "    t_at += int(i[\"amount\"])\n",
    "    if high_tns < int(i[\"amount\"]):\n",
    "        high_tns = int(i[\"amount\"])\n",
    "    if low_tns == 0:\n",
    "        low_tns = int(i[\"amount\"])\n",
    "    elif low_tns > int(i[\"amount\"]):\n",
    "        low_tns = int(i[\"amount\"])\n",
    "try:    \n",
    "    avg_tns=t_at/tot_ts        \n",
    "except ZeroDivisionError:\n",
    "    print('Division by zero is not possible')\n",
    "except Exception as e:\n",
    "    print(f\"error has occured: {e}\")  \n",
    "     \n",
    "print(\"total transactions\", tot_ts)\n",
    "print(\"total amount\", t_at)\n",
    "print(\"average transactions\", avg_tns)\n",
    "print(\"highest transaction\", high_tns)\n",
    "\n",
    "# Use list comprehension to create a list of transactions with negative amounts\n",
    "neg_tns = [transaction(item[\"transaction_id\"], item[\"date\"], item[\"amount\"], item[\"description\"]) for item in l_to if int(item[\"amount\"])<0]\n",
    "print(neg_tns)"
   ]
  },
  {
   "cell_type": "code",
   "execution_count": null,
   "id": "880a145b",
   "metadata": {},
   "outputs": [],
   "source": []
  }
 ],
 "metadata": {
  "kernelspec": {
   "display_name": "Python 3 (ipykernel)",
   "language": "python",
   "name": "python3"
  },
  "language_info": {
   "codemirror_mode": {
    "name": "ipython",
    "version": 3
   },
   "file_extension": ".py",
   "mimetype": "text/x-python",
   "name": "python",
   "nbconvert_exporter": "python",
   "pygments_lexer": "ipython3",
   "version": "3.11.4"
  }
 },
 "nbformat": 4,
 "nbformat_minor": 5
}
