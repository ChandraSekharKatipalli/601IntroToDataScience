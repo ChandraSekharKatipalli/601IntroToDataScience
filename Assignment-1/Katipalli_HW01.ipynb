{
 "cells": [
  {
   "cell_type": "markdown",
   "id": "112c1719",
   "metadata": {},
   "source": [
    "# Lab Excercise Assignment 1( Marked)\n",
    "   ## Due on 09/09/2023 at 11.00PM"
   ]
  },
  {
   "cell_type": "markdown",
   "id": "b4416aaf",
   "metadata": {
    "id": "b4416aaf"
   },
   "source": [
    "# Code cells and markdown cells¶\n",
    "### Run the following code in two different Jupyter notebook cells. Run one cell as a code cell. Run the other cell as a Markdown cell. Why is the output different?"
   ]
  },
  {
   "cell_type": "code",
   "execution_count": 1,
   "id": "a69e839d",
   "metadata": {
    "id": "883f49e3"
   },
   "outputs": [],
   "source": [
    "# Welcome to UMBC Introduction to Data Science Course DATA601"
   ]
  },
  {
   "cell_type": "markdown",
   "id": "293786e5",
   "metadata": {},
   "source": [
    "# Welcome to UMBC Introduction to Data Science Course DATA601 "
   ]
  },
  {
   "cell_type": "markdown",
   "id": "5367d42a",
   "metadata": {},
   "source": [
    "Why is the output different?\n",
    "\n",
    "The '#' in Markdown cell is used for writing big heading (big size font) where as '#' in code is used to write a single line comment."
   ]
  },
  {
   "cell_type": "markdown",
   "id": "f78839bb",
   "metadata": {},
   "source": [
    "---------------------------------------------------------------------------------------------------------------------------------------"
   ]
  },
  {
   "cell_type": "markdown",
   "id": "f0e0710e",
   "metadata": {
    "id": "9413687f"
   },
   "source": [
    "### Run the following code in two different Jupyter notebook cells. Run one cell as a code cell. Run the other cell as a Markdown cell. Why is the output different?"
   ]
  },
  {
   "cell_type": "code",
   "execution_count": 2,
   "id": "ea74a7c5",
   "metadata": {
    "id": "ea74a7c5"
   },
   "outputs": [
    {
     "name": "stdout",
     "output_type": "stream",
     "text": [
      "Welcome To UMBC Introduction to Data Science Course!\n"
     ]
    }
   ],
   "source": [
    "print('Welcome To UMBC Introduction to Data Science Course!')"
   ]
  },
  {
   "cell_type": "markdown",
   "id": "502e2088",
   "metadata": {},
   "source": [
    "print('Welcome To UMBC Introduction to Data Science Course!')"
   ]
  },
  {
   "cell_type": "markdown",
   "id": "8acb3cfb",
   "metadata": {},
   "source": [
    "Why is the output different?\n",
    "\n",
    "'print()' is a function in Python which returns whatever is written in the parentheses. In markdown cell there is no 'print()' method. So, it writtens 'print('Welcome To UMBC Introduction to Data Science Course!')'."
   ]
  },
  {
   "cell_type": "markdown",
   "id": "17867382",
   "metadata": {},
   "source": [
    "-----------------------------------------------------------------------------------------------------------------------------------------"
   ]
  },
  {
   "cell_type": "markdown",
   "id": "441314ca",
   "metadata": {
    "id": "441314ca"
   },
   "source": [
    "### Recreate the following headings in one Jupyter notebook markdown cell:"
   ]
  },
  {
   "cell_type": "code",
   "execution_count": 3,
   "id": "aad1c427",
   "metadata": {
    "id": "aad1c427"
   },
   "outputs": [],
   "source": [
    "# BIG heading\n",
    "\n",
    "## Big heading\n",
    "\n",
    "### SMALL heading\n",
    "\n",
    "#### small heading"
   ]
  },
  {
   "cell_type": "markdown",
   "id": "4710a49a",
   "metadata": {},
   "source": [
    "# BIG heading\n",
    "\n",
    "## Big heading\n",
    "\n",
    "### SMALL heading\n",
    "\n",
    "#### small heading"
   ]
  },
  {
   "cell_type": "markdown",
   "id": "6ed2af58",
   "metadata": {},
   "source": [
    "----------------------------------------------------------------------------------------------------------------------------------------"
   ]
  },
  {
   "cell_type": "markdown",
   "id": "435b71a1",
   "metadata": {
    "id": "435b71a1"
   },
   "source": [
    "### Recreate the following code block in one Jupyter notebook markdown cell:"
   ]
  },
  {
   "cell_type": "code",
   "execution_count": 4,
   "id": "4b0d8d6d",
   "metadata": {
    "id": "4b0d8d6d"
   },
   "outputs": [],
   "source": [
    "import numpy as np\n",
    "import matplotlib.pyplot as plt\n",
    "%matplotlib inline"
   ]
  },
  {
   "cell_type": "markdown",
   "id": "d64a16a6",
   "metadata": {},
   "source": [
    "```python\n",
    "import numpy as np\n",
    "import matplotlib.pylot as plt\n",
    "%matplotlib inline\n",
    "```"
   ]
  },
  {
   "cell_type": "markdown",
   "id": "1bff144d",
   "metadata": {},
   "source": [
    "-----------------------------------------------------------------------------------------------------------------------------------------"
   ]
  },
  {
   "cell_type": "markdown",
   "id": "4c3c9f70",
   "metadata": {
    "id": "4c3c9f70"
   },
   "source": [
    "### Recreate the following bullet points in one Jupyter notebook markdown cell:\n",
    "markdown cell : markdown\n",
    "\n",
    "code cell: Python code\n",
    "\n",
    "raw NBConvert: LaTeX\n"
   ]
  },
  {
   "cell_type": "markdown",
   "id": "18509f19",
   "metadata": {},
   "source": [
    "+ markdown cell : markdown\n",
    "\n",
    "- code cell: Python code\n",
    "\n",
    "* raw NBConvert: LaTeX"
   ]
  },
  {
   "cell_type": "markdown",
   "id": "a3794c28",
   "metadata": {},
   "source": [
    "--------------------------------------------------------------------------------------------------------------------------------------------------------"
   ]
  },
  {
   "cell_type": "markdown",
   "id": "9cdc04fc",
   "metadata": {
    "id": "9cdc04fc"
   },
   "source": [
    "### Inside a Jupyter notebook markdown cell, make the word Red the color red, make the word Green, the color green, make the word Blue the color blue."
   ]
  },
  {
   "cell_type": "markdown",
   "id": "4447f4ff",
   "metadata": {},
   "source": [
    "<span style=\"color: red\">Red</span> </br>\n",
    "<span style=\"color: green\">Green</span> </br>\n",
    "<span style=\"color: blue\">Blue</span>"
   ]
  },
  {
   "cell_type": "markdown",
   "id": "573f3b0c",
   "metadata": {},
   "source": [
    "__________________________________________________________________________________________________________________________________________"
   ]
  },
  {
   "cell_type": "markdown",
   "id": "5b9672d0",
   "metadata": {
    "id": "5b9672d0"
   },
   "source": [
    "# LaTeX Math"
   ]
  },
  {
   "cell_type": "markdown",
   "id": "691c2dbe",
   "metadata": {
    "id": "691c2dbe"
   },
   "source": [
    "LaTeX Math equations and symbols are rendered by markdown cells. A more extensive list of LaTeX commands can be found in any markdown documents\n",
    "\n"
   ]
  },
  {
   "cell_type": "markdown",
   "id": "cf208ec2",
   "metadata": {
    "id": "cf208ec2"
   },
   "source": [
    "### Write the Pythagorean Theorem in a Jupyter notebook markdown cell using LaTeX math.\n",
    "\\[ a^2 + b^2 = c^2 \\]\n"
   ]
  },
  {
   "cell_type": "markdown",
   "id": "e6a6c596",
   "metadata": {},
   "source": [
    "$ [a^2 + b^2 = c^2 ] $"
   ]
  },
  {
   "cell_type": "markdown",
   "id": "6e8582a4",
   "metadata": {},
   "source": [
    "-------------------------------------------------------------------------------------------------------------------------------------------------"
   ]
  },
  {
   "cell_type": "markdown",
   "id": "999641fe",
   "metadata": {
    "id": "d94e08b4"
   },
   "source": [
    "### Run the following code in a Jupyter notebook code cell and Read and give a short descripition of the message in one Markdown cell"
   ]
  },
  {
   "cell_type": "code",
   "execution_count": null,
   "id": "e75528c9",
   "metadata": {
    "id": "e75528c9",
    "outputId": "8b323334-ec99-4f8f-b90d-a2547b8744d1"
   },
   "outputs": [
    {
     "name": "stdout",
     "output_type": "stream",
     "text": [
      "The Zen of Python, by Tim Peters\n",
      "\n",
      "Beautiful is better than ugly.\n",
      "Explicit is better than implicit.\n",
      "Simple is better than complex.\n",
      "Complex is better than complicated.\n",
      "Flat is better than nested.\n",
      "Sparse is better than dense.\n",
      "Readability counts.\n",
      "Special cases aren't special enough to break the rules.\n",
      "Although practicality beats purity.\n",
      "Errors should never pass silently.\n",
      "Unless explicitly silenced.\n",
      "In the face of ambiguity, refuse the temptation to guess.\n",
      "There should be one-- and preferably only one --obvious way to do it.\n",
      "Although that way may not be obvious at first unless you're Dutch.\n",
      "Now is better than never.\n",
      "Although never is often better than *right* now.\n",
      "If the implementation is hard to explain, it's a bad idea.\n",
      "If the implementation is easy to explain, it may be a good idea.\n",
      "Namespaces are one honking great idea -- let's do more of those!\n"
     ]
    }
   ],
   "source": [
    "import this"
   ]
  },
  {
   "cell_type": "markdown",
   "id": "47ea7836",
   "metadata": {},
   "source": [
    "+ By using THIS we can print 19 aphorisms or sayings in Python, which are used to desrcribe best programming practices used to design or build python."
   ]
  },
  {
   "cell_type": "code",
   "execution_count": 5,
   "id": "d0aa19a5",
   "metadata": {
    "id": "d0aa19a5",
    "outputId": "df636ab6-e317-42ed-eee5-e7a5dca77802"
   },
   "outputs": [
    {
     "name": "stdout",
     "output_type": "stream",
     "text": [
      "3.11.4 (tags/v3.11.4:d2340ef, Jun  7 2023, 05:45:37) [MSC v.1934 64 bit (AMD64)]\n"
     ]
    }
   ],
   "source": [
    "# Check python version\n",
    "import sys\n",
    "print(sys.version)"
   ]
  },
  {
   "cell_type": "markdown",
   "id": "54f1b653",
   "metadata": {},
   "source": [
    "+ We can import system specfic parameters and functions by using 'import sys'. It is gives access to the python interpreter and to the functions that interact strongly with the python interpreter.\n",
    "\n",
    "+ 'print(sys.version)' prints the version of python interpreter."
   ]
  },
  {
   "cell_type": "code",
   "execution_count": 6,
   "id": "c05d9e9a",
   "metadata": {
    "id": "c05d9e9a",
    "outputId": "33093bf6-d28f-44e5-db80-13b66f292fe1"
   },
   "outputs": [
    {
     "name": "stdout",
     "output_type": "stream",
     "text": [
      "d:\\601_IntroductionToDataScience\\Assignment-1\n"
     ]
    },
    {
     "data": {
      "text/plain": [
       "'d:\\\\601_IntroductionToDataScience\\\\Assignment-1'"
      ]
     },
     "execution_count": 6,
     "metadata": {},
     "output_type": "execute_result"
    }
   ],
   "source": [
    "#Check your directory\n",
    "import os\n",
    "\n",
    "print(os.getcwd())\n",
    "\n",
    "%pwd"
   ]
  },
  {
   "cell_type": "markdown",
   "id": "9e4773eb",
   "metadata": {},
   "source": [
    "+ 'Import os' this provides access to the underlying operating system.\n",
    "\n",
    "+ 'print(os.getcwd())' writes present or current working directory."
   ]
  },
  {
   "cell_type": "markdown",
   "id": "74d1812e",
   "metadata": {},
   "source": [
    "--------------------------------------------------------------------------------------------------------------------------------------------------"
   ]
  },
  {
   "cell_type": "markdown",
   "id": "7804a824",
   "metadata": {},
   "source": [
    "## Executing py files in ipython interperator/command line"
   ]
  },
  {
   "cell_type": "markdown",
   "id": "36f37bb2",
   "metadata": {
    "id": "36f37bb2"
   },
   "source": [
    "### Create a file called hello.py in the same directory as your Jupyter notebook. Inside the file hello.py write the code below\n",
    "\n",
    "# hello.py\n",
    "\n",
    "```print(\"Hello UMBC Data Science Enthusiasts!\") ```\n"
   ]
  },
  {
   "cell_type": "markdown",
   "id": "f40d15f8",
   "metadata": {
    "id": "f40d15f8"
   },
   "source": [
    "save anywhere in your directory and try to run in your ipyton interperator or command line \n",
    "\n",
    "Use the magic command %run to run the code from hello.py \n",
    "\n",
    "% run hello.py be able to get the following ouput"
   ]
  },
  {
   "cell_type": "code",
   "execution_count": 7,
   "id": "bb21f550",
   "metadata": {},
   "outputs": [
    {
     "name": "stdout",
     "output_type": "stream",
     "text": [
      "Hello UMBC Data Science Enthusiasts!\n"
     ]
    }
   ],
   "source": [
    "%run hello.py"
   ]
  },
  {
   "cell_type": "markdown",
   "id": "37e7a310",
   "metadata": {},
   "source": [
    "-------------------------------------------------------------------------------------------------------------------------------------------------------"
   ]
  },
  {
   "cell_type": "markdown",
   "id": "3cd50d8d",
   "metadata": {
    "id": "3cd50d8d"
   },
   "source": [
    "# RollDieDynamic.py\n",
    "\n",
    "### Create a file called RollDieDynamic.py in the same directory as your Jupyter notebook. Inside the file RollDieDynamic.py write the code below and try  run the code in your command line\n",
    "\n",
    "** Command line statments**\n",
    "* Simulation 1: ipython RollDieDynamic.py 20 1\n",
    "* Simulation 2 ipython RollDieDynamic.py 50  1\n",
    "* Simulation 3 ipython RollDieDynamic.py 500 1\n",
    "\n",
    "- **Write a short description what you can observe from the plot result?**\n",
    "\n",
    "\n",
    "\n",
    "\n",
    "\n",
    "**the py file code** \n",
    "```\n",
    "\n",
    "# RollDieDynamic.py\n",
    "\"\"\"Dynamically graphing frequencies of die rolls.\"\"\"\n",
    "from matplotlib import animation\n",
    "import matplotlib.pyplot as plt\n",
    "import random \n",
    "import seaborn as sns\n",
    "import sys\n",
    "\n",
    "def update(frame_number, rolls, faces, frequencies):\n",
    "    \"\"\"Configures bar plot contents for each animation frame.\"\"\"\n",
    "    # roll die and update frequencies\n",
    "    for i in range(rolls):\n",
    "        frequencies[random.randrange(1, 7) - 1] += 1 \n",
    "\n",
    "    # reconfigure plot for updated die frequencies\n",
    "    plt.cla()  # clear old contents contents of current Figure\n",
    "    axes = sns.barplot(faces, frequencies, palette='bright')  # new bars\n",
    "    axes.set_title(f'Die Frequencies for {sum(frequencies):,} Rolls')\n",
    "    axes.set(xlabel='Die Value', ylabel='Frequency')  \n",
    "    axes.set_ylim(top=max(frequencies) * 1.10)  # scale y-axis by 10%\n",
    "\n",
    "    # display frequency & percentage above each patch (bar)\n",
    "    for bar, frequency in zip(axes.patches, frequencies):\n",
    "        text_x = bar.get_x() + bar.get_width() / 2.0  \n",
    "        text_y = bar.get_height() \n",
    "        text = f'{frequency:,}\\n{frequency / sum(frequencies):.3%}'\n",
    "        axes.text(text_x, text_y, text, ha='center', va='bottom')\n",
    "\n",
    "#read command-line arguments for number of frames and rolls per frame\n",
    "number_of_frames = int(sys.argv[1])  \n",
    "rolls_per_frame = int(sys.argv[2])  \n",
    "\n",
    "sns.set_style('whitegrid')  # white backround with gray grid lines\n",
    "figure = plt.figure('Rolling a Six-Sided Die')  # Figure for animation\n",
    "values = list(range(1, 7))  # die faces for display on x-axis\n",
    "frequencies = [0] * 6  # six-element list of die frequencies\n",
    "\n",
    "# configure and start animation that calls function update\n",
    "die_animation = animation.FuncAnimation(\n",
    "    figure, update, repeat=False, frames=number_of_frames, interval=33,\n",
    "    fargs=(rolls_per_frame, values, frequencies))\n",
    "\n",
    "plt.show()  # display window\n",
    "\n",
    "```"
   ]
  },
  {
   "attachments": {
    "image-2.png": {
     "image/png": "[encoded data removed]"
    },
    "image-3.png": {
     "image/png": "[encoded data removed]"
    },
    "image.png": {
     "image/png": "[encoded data removed]"
    }
   },
   "cell_type": "markdown",
   "id": "89dcf9cb",
   "metadata": {},
   "source": [
    "![image.png](attachment:image.png)\n",
    "\n",
    "![image-2.png](attachment:image-2.png)\n",
    "\n",
    "![image-3.png](attachment:image-3.png)"
   ]
  },
  {
   "cell_type": "markdown",
   "id": "5eea5a5a",
   "metadata": {},
   "source": [
    "Observations from plot results:\n",
    "\n",
    "- The frequencies of 'Die Value' vary everytime we execute a commandline.\n",
    "- Its hard to predict the frequency of a particular die value.\n",
    "- there is no relation between three plots.\n",
    "\n"
   ]
  },
  {
   "cell_type": "markdown",
   "id": "76879dc9",
   "metadata": {},
   "source": [
    "--------------------------------------------------------------------------------------------------------------------------------------------------------"
   ]
  },
  {
   "cell_type": "markdown",
   "id": "99a5c17a",
   "metadata": {
    "id": "99a5c17a"
   },
   "source": [
    "## Getting Help Excercise "
   ]
  },
  {
   "cell_type": "markdown",
   "id": "c1d620cd",
   "metadata": {
    "id": "c1d620cd"
   },
   "source": [
    "### Use Python’s dir() function in a Jupyter notebook code cell to find all the functions available in Python’s math module. Remember to import math at the start of the code cell."
   ]
  },
  {
   "cell_type": "code",
   "execution_count": 8,
   "id": "37aec66d",
   "metadata": {},
   "outputs": [
    {
     "data": {
      "text/plain": [
       "['__doc__',\n",
       " '__loader__',\n",
       " '__name__',\n",
       " '__package__',\n",
       " '__spec__',\n",
       " 'acos',\n",
       " 'acosh',\n",
       " 'asin',\n",
       " 'asinh',\n",
       " 'atan',\n",
       " 'atan2',\n",
       " 'atanh',\n",
       " 'cbrt',\n",
       " 'ceil',\n",
       " 'comb',\n",
       " 'copysign',\n",
       " 'cos',\n",
       " 'cosh',\n",
       " 'degrees',\n",
       " 'dist',\n",
       " 'e',\n",
       " 'erf',\n",
       " 'erfc',\n",
       " 'exp',\n",
       " 'exp2',\n",
       " 'expm1',\n",
       " 'fabs',\n",
       " 'factorial',\n",
       " 'floor',\n",
       " 'fmod',\n",
       " 'frexp',\n",
       " 'fsum',\n",
       " 'gamma',\n",
       " 'gcd',\n",
       " 'hypot',\n",
       " 'inf',\n",
       " 'isclose',\n",
       " 'isfinite',\n",
       " 'isinf',\n",
       " 'isnan',\n",
       " 'isqrt',\n",
       " 'lcm',\n",
       " 'ldexp',\n",
       " 'lgamma',\n",
       " 'log',\n",
       " 'log10',\n",
       " 'log1p',\n",
       " 'log2',\n",
       " 'modf',\n",
       " 'nan',\n",
       " 'nextafter',\n",
       " 'perm',\n",
       " 'pi',\n",
       " 'pow',\n",
       " 'prod',\n",
       " 'radians',\n",
       " 'remainder',\n",
       " 'sin',\n",
       " 'sinh',\n",
       " 'sqrt',\n",
       " 'tan',\n",
       " 'tanh',\n",
       " 'tau',\n",
       " 'trunc',\n",
       " 'ulp']"
      ]
     },
     "execution_count": 8,
     "metadata": {},
     "output_type": "execute_result"
    }
   ],
   "source": [
    "import math\n",
    "\n",
    "dir(math)"
   ]
  },
  {
   "cell_type": "markdown",
   "id": "55b3ae93",
   "metadata": {},
   "source": [
    "------------------------------------------------------------------------------------------------------------------------------------------------------"
   ]
  },
  {
   "cell_type": "markdown",
   "id": "9efda821",
   "metadata": {
    "id": "9efda821"
   },
   "source": [
    " ### In a Jupyter notebook code cell, import math and run math.sqrt?. Copy the contents of the help you receive in a Jupyter notebook markdown cell."
   ]
  },
  {
   "cell_type": "code",
   "execution_count": 9,
   "id": "893950a8",
   "metadata": {},
   "outputs": [
    {
     "name": "stdout",
     "output_type": "stream",
     "text": [
      "Help on built-in function sqrt in module math:\n",
      "\n",
      "sqrt(x, /)\n",
      "    Return the square root of x.\n",
      "\n"
     ]
    }
   ],
   "source": [
    "import math\n",
    "\n",
    "help(math.sqrt)"
   ]
  },
  {
   "cell_type": "markdown",
   "id": "1f40ca73",
   "metadata": {},
   "source": [
    "Help on built-in function sqrt in module math:\n",
    "\n",
    "sqrt(x, /)\n",
    "Return the square root of x."
   ]
  },
  {
   "cell_type": "markdown",
   "id": "259ceeac",
   "metadata": {},
   "source": [
    "-----------------------------------------------------------------------------------------------------------------------------------------------------"
   ]
  },
  {
   "cell_type": "markdown",
   "id": "6847773c",
   "metadata": {
    "id": "6847773c"
   },
   "source": [
    " ### In a Jupyter notebook code cell, import statistics and run statistics.mode?. Copy the examples from the help you receive in a Jupyter notebook code cell. Run the code cell."
   ]
  },
  {
   "cell_type": "code",
   "execution_count": 10,
   "id": "b7acf10d",
   "metadata": {},
   "outputs": [
    {
     "name": "stdout",
     "output_type": "stream",
     "text": [
      "Help on function mode in module statistics:\n",
      "\n",
      "mode(data)\n",
      "    Return the most common data point from discrete or nominal data.\n",
      "    \n",
      "    ``mode`` assumes discrete data, and returns a single value. This is the\n",
      "    standard treatment of the mode as commonly taught in schools:\n",
      "    \n",
      "        >>> mode([1, 1, 2, 3, 3, 3, 3, 4])\n",
      "        3\n",
      "    \n",
      "    This also works with nominal (non-numeric) data:\n",
      "    \n",
      "        >>> mode([\"red\", \"blue\", \"blue\", \"red\", \"green\", \"red\", \"red\"])\n",
      "        'red'\n",
      "    \n",
      "    If there are multiple modes with same frequency, return the first one\n",
      "    encountered:\n",
      "    \n",
      "        >>> mode(['red', 'red', 'green', 'blue', 'blue'])\n",
      "        'red'\n",
      "    \n",
      "    If *data* is empty, ``mode``, raises StatisticsError.\n",
      "\n"
     ]
    }
   ],
   "source": [
    "import statistics\n",
    "\n",
    "help(statistics.mode)"
   ]
  },
  {
   "cell_type": "code",
   "execution_count": 11,
   "id": "92a356c3",
   "metadata": {},
   "outputs": [
    {
     "data": {
      "text/plain": [
       "3"
      ]
     },
     "execution_count": 11,
     "metadata": {},
     "output_type": "execute_result"
    }
   ],
   "source": [
    "statistics.mode([1, 1, 2, 3, 3, 3, 3, 4])"
   ]
  },
  {
   "cell_type": "code",
   "execution_count": 12,
   "id": "24e9b9f6",
   "metadata": {},
   "outputs": [
    {
     "data": {
      "text/plain": [
       "'red'"
      ]
     },
     "execution_count": 12,
     "metadata": {},
     "output_type": "execute_result"
    }
   ],
   "source": [
    "statistics.mode([\"red\", \"blue\", \"blue\", \"red\", \"green\", \"red\", \"red\"])"
   ]
  },
  {
   "cell_type": "code",
   "execution_count": 13,
   "id": "e8f1c26d",
   "metadata": {},
   "outputs": [
    {
     "data": {
      "text/plain": [
       "'red'"
      ]
     },
     "execution_count": 13,
     "metadata": {},
     "output_type": "execute_result"
    }
   ],
   "source": [
    "statistics.mode(['red', 'red', 'green', 'blue', 'blue'])"
   ]
  },
  {
   "cell_type": "code",
   "execution_count": 14,
   "id": "07aa36eb",
   "metadata": {},
   "outputs": [
    {
     "ename": "StatisticsError",
     "evalue": "no mode for empty data",
     "output_type": "error",
     "traceback": [
      "\u001b[1;31m---------------------------------------------------------------------------\u001b[0m",
      "\u001b[1;31mStatisticsError\u001b[0m                           Traceback (most recent call last)",
      "\u001b[1;32md:\\601_IntroductionToDataScience\\Assignment-1\\Katipalli_HW01.ipynb Cell 61\u001b[0m line \u001b[0;36m1\n\u001b[1;32m----> <a href='vscode-notebook-cell:/d%3A/601_IntroductionToDataScience/Assignment-1/Katipalli_HW01.ipynb#Y114sZmlsZQ%3D%3D?line=0'>1</a>\u001b[0m statistics\u001b[39m.\u001b[39;49mmode([])\n",
      "File \u001b[1;32mc:\\Users\\user\\AppData\\Local\\Programs\\Python\\Python311\\Lib\\statistics.py:713\u001b[0m, in \u001b[0;36mmode\u001b[1;34m(data)\u001b[0m\n\u001b[0;32m    711\u001b[0m     \u001b[39mreturn\u001b[39;00m pairs[\u001b[39m0\u001b[39m][\u001b[39m0\u001b[39m]\n\u001b[0;32m    712\u001b[0m \u001b[39mexcept\u001b[39;00m \u001b[39mIndexError\u001b[39;00m:\n\u001b[1;32m--> 713\u001b[0m     \u001b[39mraise\u001b[39;00m StatisticsError(\u001b[39m'\u001b[39m\u001b[39mno mode for empty data\u001b[39m\u001b[39m'\u001b[39m) \u001b[39mfrom\u001b[39;00m \u001b[39mNone\u001b[39;00m\n",
      "\u001b[1;31mStatisticsError\u001b[0m: no mode for empty data"
     ]
    }
   ],
   "source": [
    "statistics.mode([])"
   ]
  },
  {
   "cell_type": "code",
   "execution_count": null,
   "id": "48fa8e6b",
   "metadata": {},
   "outputs": [],
   "source": []
  }
 ],
 "metadata": {
  "colab": {
   "provenance": []
  },
  "kernelspec": {
   "display_name": "Python 3 (ipykernel)",
   "language": "python",
   "name": "python3"
  },
  "language_info": {
   "codemirror_mode": {
    "name": "ipython",
    "version": 3
   },
   "file_extension": ".py",
   "mimetype": "text/x-python",
   "name": "python",
   "nbconvert_exporter": "python",
   "pygments_lexer": "ipython3",
   "version": "3.11.4"
  }
 },
 "nbformat": 4,
 "nbformat_minor": 5
}
