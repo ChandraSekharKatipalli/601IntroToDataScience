{
 "cells": [
  {
   "cell_type": "markdown",
   "id": "66cd1871",
   "metadata": {},
   "source": [
    "## I) **Lists and Tuples:** ##"
   ]
  },
  {
   "cell_type": "markdown",
   "id": "037d8678",
   "metadata": {},
   "source": [
    "\n",
    "\n",
    "1. Create a list of lists, each representing a 2D point with x and y coordinates. Calculate the Euclidean distance of each point from the origin (0,0).\n",
    "\n",
    "   "
   ]
  },
  {
   "cell_type": "code",
   "execution_count": 2,
   "id": "d2bafa1a",
   "metadata": {},
   "outputs": [
    {
     "name": "stdout",
     "output_type": "stream",
     "text": [
      "[2.23606797749979, 5.0, 7.810249675906654]\n"
     ]
    }
   ],
   "source": [
    "\n",
    "import math\n",
    "\n",
    "points = [[1, 2], [3, 4], [5, 6]]\n",
    "distances = [math.sqrt(x**2 + y**2) for x,y in points]\n",
    "print(distances)"
   ]
  },
  {
   "cell_type": "markdown",
   "id": "067ff3f3",
   "metadata": {},
   "source": [
    "2. Implement a function that takes a list of numbers and returns a new list with the numbers squared, but only if they are even.\n",
    "\n"
   ]
  },
  {
   "cell_type": "code",
   "execution_count": 3,
   "id": "ef8ad754",
   "metadata": {},
   "outputs": [
    {
     "data": {
      "text/plain": [
       "[4, 16, 36]"
      ]
     },
     "execution_count": 3,
     "metadata": {},
     "output_type": "execute_result"
    }
   ],
   "source": [
    "def square_even_numbers(numbers):\n",
    "    sqNum = [x**2 for x in numbers if x % 2 == 0]\n",
    "    return sqNum\n",
    "\n",
    "\n",
    "square_even_numbers([1,2,3,4,5,6])\n"
   ]
  },
  {
   "cell_type": "markdown",
   "id": "114d83d4",
   "metadata": {},
   "source": [
    "3. Given a list of tuples containing student names and their corresponding scores, sort the list by scores in descending order.\n",
    "\n"
   ]
  },
  {
   "cell_type": "code",
   "execution_count": 5,
   "id": "a2da1c12",
   "metadata": {},
   "outputs": [
    {
     "name": "stdout",
     "output_type": "stream",
     "text": [
      "[('Bob', 92), ('Alice', 85), ('Charlie', 78)]\n"
     ]
    }
   ],
   "source": [
    "student_scores = [('Alice', 85), ('Bob', 92), ('Charlie', 78)]\n",
    "sorted_scores = sorted(student_scores, key=lambda x: x[1], reverse=True)\n",
    "\n",
    "print(sorted_scores)"
   ]
  },
  {
   "cell_type": "code",
   "execution_count": null,
   "id": "c5f7152f",
   "metadata": {},
   "outputs": [],
   "source": []
  },
  {
   "cell_type": "markdown",
   "id": "5da47486",
   "metadata": {},
   "source": [
    "## II) Dictionary "
   ]
  },
  {
   "cell_type": "markdown",
   "id": "4fbb872b",
   "metadata": {},
   "source": [
    "4. Given two dictionaries, merge them into a new dictionary, and if there are common keys, combine their values into a list."
   ]
  },
  {
   "cell_type": "code",
   "execution_count": null,
   "id": "2452e393",
   "metadata": {},
   "outputs": [],
   "source": [
    "def word_frequencies(text):\n",
    "    words = text.split()\n",
    "    frequency_dict = {}\n",
    "    for word in words:\n",
    "        word = ------\n",
    "        if word.isalpha():\n",
    "            frequency_dict[word] = [words[word]]\n",
    "    return frequency_dict\n"
   ]
  },
  {
   "cell_type": "markdown",
   "id": "15366818",
   "metadata": {},
   "source": [
    "5. Create a dictionary where keys represent months (e.g., 'January') and values represent the number of days in each month. Calculate the total number of days in a year."
   ]
  },
  {
   "cell_type": "code",
   "execution_count": 6,
   "id": "433d420a",
   "metadata": {},
   "outputs": [
    {
     "name": "stdout",
     "output_type": "stream",
     "text": [
      "365\n"
     ]
    }
   ],
   "source": [
    "months = {\n",
    "    \"January\": 31,\n",
    "    \"February\": 28,\n",
    "    \"March\": 31,\n",
    "    \"April\": 30,\n",
    "    \"May\": 31,\n",
    "    \"June\": 30,\n",
    "    \"July\": 31,\n",
    "    \"August\": 31,\n",
    "    \"September\": 30,\n",
    "    \"October\": 31,\n",
    "    \"November\": 30,\n",
    "    \"December\": 31\n",
    "}\n",
    "total_days = sum(months.values())\n",
    "\n",
    "print(total_days)\n"
   ]
  },
  {
   "cell_type": "markdown",
   "id": "294b514a",
   "metadata": {},
   "source": [
    "6. Implement a function that takes a list of dictionaries representing people's information and returns the person with the highest salary."
   ]
  },
  {
   "cell_type": "code",
   "execution_count": 12,
   "id": "6a462c2e",
   "metadata": {},
   "outputs": [
    {
     "data": {
      "text/plain": [
       "'sam'"
      ]
     },
     "execution_count": 12,
     "metadata": {},
     "output_type": "execute_result"
    }
   ],
   "source": [
    "def highest_salary(people):\n",
    "    salary = -1\n",
    "    hig_sal = None\n",
    "\n",
    "    for i in people:\n",
    "        if i['salary'] > salary:\n",
    "            salary = i['salary']\n",
    "            hig_sal = i['name']  \n",
    "    return hig_sal\n",
    "\n",
    "people = [\n",
    "    {\"name\": \"John\", \"salary\": 67000},\n",
    "    {\"name\": \"chandu\", \"salary\": 75000},\n",
    "    {\"name\": \"sam\", \"salary\": 90000},\n",
    "]\n",
    "\n",
    "highest_salary(people)"
   ]
  },
  {
   "cell_type": "markdown",
   "id": "442861f0",
   "metadata": {},
   "source": [
    "## III)  List Comprehension\n",
    "\n"
   ]
  },
  {
   "cell_type": "markdown",
   "id": "a0cf508f",
   "metadata": {},
   "source": [
    "7. Generate a list of prime numbers between 1 and 100 using list comprehension."
   ]
  },
  {
   "cell_type": "code",
   "execution_count": 2,
   "id": "a1eee37c",
   "metadata": {},
   "outputs": [
    {
     "name": "stdout",
     "output_type": "stream",
     "text": [
      "[2, 3, 5, 7, 11, 13, 17, 19, 23, 29, 31, 37, 41, 43, 47, 53, 59, 61, 67, 71, 73, 79, 83, 89, 97]\n"
     ]
    }
   ],
   "source": [
    "def is_prime(num):\n",
    "    if num <= 1:\n",
    "        return False\n",
    "    if num <= 3:\n",
    "        return True\n",
    "    if num % 2 == 0 or num % 3 == 0:\n",
    "        return False\n",
    "    i = 5\n",
    "    while i * i <= num:\n",
    "        if num % i == 0 or num % (i + 2) == 0:\n",
    "            return False\n",
    "        i += 6\n",
    "    return True\n",
    "\n",
    "\n",
    "primes = [x for x in range(2, 101) if is_prime(x)]\n",
    "print(primes)"
   ]
  },
  {
   "cell_type": "markdown",
   "id": "2e9eddb2",
   "metadata": {},
   "source": [
    "8. Create a list of all possible combinations of two elements from a given list."
   ]
  },
  {
   "cell_type": "code",
   "execution_count": 14,
   "id": "56e793dd",
   "metadata": {},
   "outputs": [
    {
     "name": "stdout",
     "output_type": "stream",
     "text": [
      "[[1, 2], [1, 3], [1, 4], [2, 3], [2, 4], [3, 4]]\n"
     ]
    }
   ],
   "source": [
    "my_list = [1, 2, 3, 4]\n",
    "combinations = []\n",
    "for i in range(len(my_list)):\n",
    "    for j in range(i+1, len(my_list)):\n",
    "        combinations.append([my_list[i], my_list[j]])\n",
    "\n",
    "print(combinations)\n"
   ]
  },
  {
   "cell_type": "markdown",
   "id": "bec4822f",
   "metadata": {},
   "source": [
    "9. Using list comprehension, extract all prime numbers from a list of integers."
   ]
  },
  {
   "cell_type": "code",
   "execution_count": 3,
   "id": "29861e5f",
   "metadata": {},
   "outputs": [
    {
     "name": "stdout",
     "output_type": "stream",
     "text": [
      "[2, 3, 5, 7]\n"
     ]
    }
   ],
   "source": [
    "numbers = [2, 3, 4, 5, 6, 7, 8, 9, 10]\n",
    "primes = [x for x in numbers if is_prime(x)]\n",
    "\n",
    "print(primes)\n"
   ]
  },
  {
   "cell_type": "code",
   "execution_count": null,
   "id": "5d65844f",
   "metadata": {},
   "outputs": [],
   "source": []
  },
  {
   "cell_type": "markdown",
   "id": "6719b762",
   "metadata": {},
   "source": [
    "## IV) Conditionals"
   ]
  },
  {
   "cell_type": "markdown",
   "id": "2269a3e1",
   "metadata": {},
   "source": [
    "10. Implement a program that plays the game \"FizzBuzz\" for numbers from 1 to 100, but for multiples of 3, print 'Fizz,' for multiples of 5, print 'Buzz,' and for multiples of both 3 and 5, print 'FizzBuzz.'"
   ]
  },
  {
   "cell_type": "code",
   "execution_count": 15,
   "id": "863e5341",
   "metadata": {},
   "outputs": [
    {
     "name": "stdout",
     "output_type": "stream",
     "text": [
      "1\n",
      "2\n",
      "Fizz\n",
      "4\n",
      "Buzz\n",
      "Fizz\n",
      "7\n",
      "8\n",
      "Fizz\n",
      "Buzz\n",
      "11\n",
      "Fizz\n",
      "13\n",
      "14\n",
      "FizzBuzz\n",
      "16\n",
      "17\n",
      "Fizz\n",
      "19\n",
      "Buzz\n",
      "Fizz\n",
      "22\n",
      "23\n",
      "Fizz\n",
      "Buzz\n",
      "26\n",
      "Fizz\n",
      "28\n",
      "29\n",
      "FizzBuzz\n",
      "31\n",
      "32\n",
      "Fizz\n",
      "34\n",
      "Buzz\n",
      "Fizz\n",
      "37\n",
      "38\n",
      "Fizz\n",
      "Buzz\n",
      "41\n",
      "Fizz\n",
      "43\n",
      "44\n",
      "FizzBuzz\n",
      "46\n",
      "47\n",
      "Fizz\n",
      "49\n",
      "Buzz\n",
      "Fizz\n",
      "52\n",
      "53\n",
      "Fizz\n",
      "Buzz\n",
      "56\n",
      "Fizz\n",
      "58\n",
      "59\n",
      "FizzBuzz\n",
      "61\n",
      "62\n",
      "Fizz\n",
      "64\n",
      "Buzz\n",
      "Fizz\n",
      "67\n",
      "68\n",
      "Fizz\n",
      "Buzz\n",
      "71\n",
      "Fizz\n",
      "73\n",
      "74\n",
      "FizzBuzz\n",
      "76\n",
      "77\n",
      "Fizz\n",
      "79\n",
      "Buzz\n",
      "Fizz\n",
      "82\n",
      "83\n",
      "Fizz\n",
      "Buzz\n",
      "86\n",
      "Fizz\n",
      "88\n",
      "89\n",
      "FizzBuzz\n",
      "91\n",
      "92\n",
      "Fizz\n",
      "94\n",
      "Buzz\n",
      "Fizz\n",
      "97\n",
      "98\n",
      "Fizz\n",
      "Buzz\n"
     ]
    }
   ],
   "source": [
    "for i in range(1, 101):\n",
    "    if i % 3 == 0 and i % 5 == 0:\n",
    "        print('FizzBuzz')\n",
    "    elif i%3 == 0:\n",
    "        print('Fizz')\n",
    "    elif i%5 == 0:\n",
    "        print('Buzz')\n",
    "    else:\n",
    "        print(i)\n"
   ]
  },
  {
   "cell_type": "markdown",
   "id": "38fce2fd",
   "metadata": {},
   "source": [
    "## V) Loop"
   ]
  },
  {
   "cell_type": "markdown",
   "id": "725be7e9",
   "metadata": {},
   "source": [
    "11. Write a function that simulates rolling two dice until the sum of the dice is a specified value, and return the number of rolls required."
   ]
  },
  {
   "cell_type": "code",
   "execution_count": 9,
   "id": "52cd7f07",
   "metadata": {},
   "outputs": [
    {
     "data": {
      "text/plain": [
       "20"
      ]
     },
     "execution_count": 9,
     "metadata": {},
     "output_type": "execute_result"
    }
   ],
   "source": [
    "import random\n",
    "\n",
    "def roll_dice_until_sum(target_sum):\n",
    "    rolls = 0\n",
    "    while True:\n",
    "        dice1 = random.randint(1,6)\n",
    "        dice2 = random.randint(1,6)\n",
    "        if dice1 + dice2 == target_sum:\n",
    "            return rolls\n",
    "        rolls += 1\n",
    "\n",
    "roll_dice_until_sum(9)\n"
   ]
  },
  {
   "cell_type": "markdown",
   "id": "4c429328",
   "metadata": {},
   "source": [
    "12. Implement a function that prints all the prime numbers between 1 and 1000 using the Sieve of Eratosthenes algorithm."
   ]
  },
  {
   "cell_type": "code",
   "execution_count": 12,
   "id": "c4096fb9",
   "metadata": {},
   "outputs": [
    {
     "data": {
      "text/plain": [
       "[2,\n",
       " 3,\n",
       " 5,\n",
       " 7,\n",
       " 11,\n",
       " 13,\n",
       " 17,\n",
       " 19,\n",
       " 23,\n",
       " 29,\n",
       " 31,\n",
       " 37,\n",
       " 41,\n",
       " 43,\n",
       " 47,\n",
       " 53,\n",
       " 59,\n",
       " 61,\n",
       " 67,\n",
       " 71,\n",
       " 73,\n",
       " 79,\n",
       " 83,\n",
       " 89,\n",
       " 97,\n",
       " 101,\n",
       " 103,\n",
       " 107,\n",
       " 109,\n",
       " 113,\n",
       " 127,\n",
       " 131,\n",
       " 137,\n",
       " 139,\n",
       " 149,\n",
       " 151,\n",
       " 157,\n",
       " 163,\n",
       " 167,\n",
       " 173,\n",
       " 179,\n",
       " 181,\n",
       " 191,\n",
       " 193,\n",
       " 197,\n",
       " 199,\n",
       " 211,\n",
       " 223,\n",
       " 227,\n",
       " 229,\n",
       " 233,\n",
       " 239,\n",
       " 241,\n",
       " 251,\n",
       " 257,\n",
       " 263,\n",
       " 269,\n",
       " 271,\n",
       " 277,\n",
       " 281,\n",
       " 283,\n",
       " 293,\n",
       " 307,\n",
       " 311,\n",
       " 313,\n",
       " 317,\n",
       " 331,\n",
       " 337,\n",
       " 347,\n",
       " 349,\n",
       " 353,\n",
       " 359,\n",
       " 367,\n",
       " 373,\n",
       " 379,\n",
       " 383,\n",
       " 389,\n",
       " 397,\n",
       " 401,\n",
       " 409,\n",
       " 419,\n",
       " 421,\n",
       " 431,\n",
       " 433,\n",
       " 439,\n",
       " 443,\n",
       " 449,\n",
       " 457,\n",
       " 461,\n",
       " 463,\n",
       " 467,\n",
       " 479,\n",
       " 487,\n",
       " 491,\n",
       " 499,\n",
       " 503,\n",
       " 509,\n",
       " 521,\n",
       " 523,\n",
       " 541,\n",
       " 547,\n",
       " 557,\n",
       " 563,\n",
       " 569,\n",
       " 571,\n",
       " 577,\n",
       " 587,\n",
       " 593,\n",
       " 599,\n",
       " 601,\n",
       " 607,\n",
       " 613,\n",
       " 617,\n",
       " 619,\n",
       " 631,\n",
       " 641,\n",
       " 643,\n",
       " 647,\n",
       " 653,\n",
       " 659,\n",
       " 661,\n",
       " 673,\n",
       " 677,\n",
       " 683,\n",
       " 691,\n",
       " 701,\n",
       " 709,\n",
       " 719,\n",
       " 727,\n",
       " 733,\n",
       " 739,\n",
       " 743,\n",
       " 751,\n",
       " 757,\n",
       " 761,\n",
       " 769,\n",
       " 773,\n",
       " 787,\n",
       " 797,\n",
       " 809,\n",
       " 811,\n",
       " 821,\n",
       " 823,\n",
       " 827,\n",
       " 829,\n",
       " 839,\n",
       " 853,\n",
       " 857,\n",
       " 859,\n",
       " 863,\n",
       " 877,\n",
       " 881,\n",
       " 883,\n",
       " 887,\n",
       " 907,\n",
       " 911,\n",
       " 919,\n",
       " 929,\n",
       " 937,\n",
       " 941,\n",
       " 947,\n",
       " 953,\n",
       " 967,\n",
       " 971,\n",
       " 977,\n",
       " 983,\n",
       " 991,\n",
       " 997]"
      ]
     },
     "execution_count": 12,
     "metadata": {},
     "output_type": "execute_result"
    }
   ],
   "source": [
    "def sieve_of_eratosthenes(n):\n",
    "    primes = [True] * (n + 1)\n",
    "    primes[0] = primes[1] = False\n",
    "    p = 2\n",
    "    for i in range(2, int(n**0.5) + 1):\n",
    "        if primes[i]:\n",
    "            for multiple in range(i * i, n + 1, i):\n",
    "                primes[multiple] = False\n",
    "    \n",
    "    prime_numbers = [num for num, is_prime in enumerate(primes) if is_prime]\n",
    "    return prime_numbers\n",
    "\n",
    "sieve_of_eratosthenes(1000)\n"
   ]
  },
  {
   "cell_type": "markdown",
   "id": "93d9b729",
   "metadata": {},
   "source": [
    "## VI) OOP"
   ]
  },
  {
   "cell_type": "markdown",
   "id": "1a661ee4",
   "metadata": {},
   "source": [
    "13. Define a class 'BankAccount' with methods for deposit, withdrawal, and checking the balance. Include exception handling for insufficient funds during withdrawal."
   ]
  },
  {
   "cell_type": "code",
   "execution_count": 13,
   "id": "4e0809d2",
   "metadata": {},
   "outputs": [
    {
     "name": "stdout",
     "output_type": "stream",
     "text": [
      "Deposited $600. New balance: $5600\n",
      "Withdrew $250. New balance: $5350\n",
      "current balance: 5350\n"
     ]
    }
   ],
   "source": [
    "class BankAccount:\n",
    "    def __init__(self, balance=0):\n",
    "        self.balance = balance\n",
    "\n",
    "    def deposit(self, amount):\n",
    "        if amount > 0:\n",
    "            self.balance += amount\n",
    "            print(f\"Deposited ${amount}. New balance: ${self.balance}\")\n",
    "\n",
    "    def withdraw(self, amount):\n",
    "        if amount > 0:\n",
    "            if self.balance >= amount:\n",
    "                self.balance -= amount\n",
    "                print(f\"Withdrew ${amount}. New balance: ${self.balance}\")\n",
    "\n",
    "    def check_balance(self):\n",
    "        return self.balance\n",
    "    \n",
    "\n",
    "account1 = BankAccount(5000)\n",
    "account1.deposit(600)\n",
    "account1.withdraw(250)\n",
    "\n",
    "print(f'current balance: {account1.check_balance()}')\n"
   ]
  },
  {
   "cell_type": "markdown",
   "id": "15816f5b",
   "metadata": {},
   "source": [
    "## VII) Exception Handling"
   ]
  },
  {
   "cell_type": "markdown",
   "id": "dfd83d37",
   "metadata": {},
   "source": [
    "14. Write a function that takes two integers as input and returns their division result. Handle potential exceptions like ZeroDivisionError and ValueError."
   ]
  },
  {
   "cell_type": "code",
   "execution_count": 19,
   "id": "3c91ca2f",
   "metadata": {},
   "outputs": [
    {
     "data": {
      "text/plain": [
       "1.5"
      ]
     },
     "execution_count": 19,
     "metadata": {},
     "output_type": "execute_result"
    }
   ],
   "source": [
    "def divide_numbers(a, b):\n",
    "    try:\n",
    "        result = a / b\n",
    "        return result\n",
    "    except ZeroDivisionError:\n",
    "        return \"cannot divide with zero\"\n",
    "    except ValueError:\n",
    "        return \"Invalid input, please provide two integers.\"\n"
   ]
  },
  {
   "cell_type": "markdown",
   "id": "cd2508b6",
   "metadata": {},
   "source": [
    "15. Implement a program that reads a file line by line and counts the number of lines, words, and characters. Handle potential file-related exceptions."
   ]
  },
  {
   "cell_type": "code",
   "execution_count": 14,
   "id": "16759b04",
   "metadata": {},
   "outputs": [],
   "source": [
    "def count_file_stats(filename):\n",
    "    try:\n",
    "        with open(filename, 'r') as file:\n",
    "            lines = file.readlines()\n",
    "            line_count = len(lines)\n",
    "            word_count = sum(len(line.split()) for line in lines)\n",
    "            char_count = sum(len(line) for line in lines)\n",
    "            return line_count, word_count, char_count\n",
    "    except FileNotFoundError:\n",
    "        return \"File not found.\"\n",
    "    except Exception as e:\n",
    "        return f\"An error occurred: {str(e)}\"\n"
   ]
  },
  {
   "cell_type": "markdown",
   "id": "85d678f8",
   "metadata": {},
   "source": [
    "# VIII) File I/O"
   ]
  },
  {
   "cell_type": "markdown",
   "id": "c9ddb2ac",
   "metadata": {},
   "source": [
    "16. Write a Python program that reads a CSV file containing student grades and calculates the average grade for each student, then writes the results to a new CSV file."
   ]
  },
  {
   "cell_type": "code",
   "execution_count": 15,
   "id": "41b45593",
   "metadata": {},
   "outputs": [],
   "source": [
    "import csv\n",
    "\n",
    "def calculate_average_grades(input_file, output_file):\n",
    "    try:\n",
    "        with open(input_file, 'r') as infile, open(output_file, 'w', newline='') as outfile:\n",
    "            reader = csv.reader(input_file)\n",
    "            writer = csv.writer(output_file)\n",
    "            header = next(reader)  # Read and write the header\n",
    "            writer.writerow(header + ['Average'])  # Add 'Average' column to header\n",
    "            for row in reader:\n",
    "                student = row[0]\n",
    "                grades = [float(grade) for grade in row[1:]]\n",
    "                average = sum(grades) / len(grades)\n",
    "                writer.writerow(row + [average])  # Write the row with the calculated average\n",
    "    except FileNotFoundError:\n",
    "        return \"File not found.\"\n",
    "    except Exception as e:\n",
    "        return f\"An error occurred: {str(e)}\"\n",
    "\n",
    "\n"
   ]
  },
  {
   "cell_type": "code",
   "execution_count": null,
   "id": "9cdc3124",
   "metadata": {},
   "outputs": [],
   "source": []
  }
 ],
 "metadata": {
  "kernelspec": {
   "display_name": "Python 3 (ipykernel)",
   "language": "python",
   "name": "python3"
  },
  "language_info": {
   "codemirror_mode": {
    "name": "ipython",
    "version": 3
   },
   "file_extension": ".py",
   "mimetype": "text/x-python",
   "name": "python",
   "nbconvert_exporter": "python",
   "pygments_lexer": "ipython3",
   "version": "3.11.4"
  }
 },
 "nbformat": 4,
 "nbformat_minor": 5
}
