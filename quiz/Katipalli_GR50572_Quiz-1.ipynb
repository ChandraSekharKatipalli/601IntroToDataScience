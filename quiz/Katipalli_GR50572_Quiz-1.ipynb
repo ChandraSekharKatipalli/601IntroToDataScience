{
 "cells": [
  {
   "cell_type": "markdown",
   "id": "99360e2a",
   "metadata": {},
   "source": [
    "## LastName_ID_Quiz1"
   ]
  },
  {
   "cell_type": "code",
   "execution_count": 3,
   "id": "c167f677",
   "metadata": {},
   "outputs": [],
   "source": [
    "# Given the following dictionary dataset, please do the following \n",
    "import pandas as pd\n",
    "import matplotlib.pyplot as plt\n",
    "\n",
    "# Given dictionaries\n",
    "grades = {\n",
    "    \"name\": [\"Student A\", \"Student B\", \"Student C\", \"Student D\"],\n",
    "    \"math\": [0.85, 0.97, 0.82, 0.78],\n",
    "    \"history\": [0.92, 0.8, 0.93, 0.90],\n",
    "    \"science\": [0.71, 0.94, 0.75, 0.84]\n",
    "}\n",
    "\n",
    "traits = {\n",
    "    \"name\": [\"Student A\", \"Student B\", \"Student C\", \"Student D\"],\n",
    "    \"state\": [\"NY\", \"WI\", \"VA\", \"AZ\"],\n",
    "    \"age\": [18, 26, 21, 22]\n",
    "}"
   ]
  },
  {
   "cell_type": "code",
   "execution_count": null,
   "id": "24ad79b1",
   "metadata": {},
   "outputs": [],
   "source": [
    "#1) Create data frames from the given dictionaries named as grades_df and traits_df"
   ]
  },
  {
   "cell_type": "code",
   "execution_count": 4,
   "id": "b6102c05",
   "metadata": {},
   "outputs": [
    {
     "name": "stdout",
     "output_type": "stream",
     "text": [
      "        name  math  history  science\n",
      "0  Student A  0.85     0.92     0.71\n",
      "1  Student B  0.97     0.80     0.94\n",
      "2  Student C  0.82     0.93     0.75\n",
      "3  Student D  0.78     0.90     0.84\n",
      "        name state  age\n",
      "0  Student A    NY   18\n",
      "1  Student B    WI   26\n",
      "2  Student C    VA   21\n",
      "3  Student D    AZ   22\n"
     ]
    }
   ],
   "source": [
    "grades_df = pd.DataFrame(grades)\n",
    "print(grades_df)\n",
    "\n",
    "traits_df = pd.DataFrame(traits)\n",
    "print(traits_df)"
   ]
  },
  {
   "cell_type": "code",
   "execution_count": null,
   "id": "8dcabbc0",
   "metadata": {},
   "outputs": [],
   "source": [
    "# 2) Calculate the average grade for each student"
   ]
  },
  {
   "cell_type": "code",
   "execution_count": 5,
   "id": "692dc07e",
   "metadata": {},
   "outputs": [
    {
     "name": "stdout",
     "output_type": "stream",
     "text": [
      "           math  history  science\n",
      "name                             \n",
      "Student A  0.85     0.92     0.71\n",
      "Student B  0.97     0.80     0.94\n",
      "Student C  0.82     0.93     0.75\n",
      "Student D  0.78     0.90     0.84\n"
     ]
    }
   ],
   "source": [
    "grp = grades_df.groupby('name')\n",
    "\n",
    "avg = grp.mean()\n",
    "print(avg)"
   ]
  },
  {
   "cell_type": "code",
   "execution_count": null,
   "id": "acc81b4e",
   "metadata": {},
   "outputs": [],
   "source": []
  },
  {
   "cell_type": "code",
   "execution_count": null,
   "id": "0de33be1",
   "metadata": {},
   "outputs": [],
   "source": [
    "#3) Filter the data to students with an average grade above 87%"
   ]
  },
  {
   "cell_type": "code",
   "execution_count": null,
   "id": "a4a2d959",
   "metadata": {},
   "outputs": [],
   "source": []
  },
  {
   "cell_type": "code",
   "execution_count": null,
   "id": "150491d0",
   "metadata": {},
   "outputs": [],
   "source": [
    "#4) Show one data frame with all of the students, their grades, and their respective home state and age."
   ]
  },
  {
   "cell_type": "code",
   "execution_count": 8,
   "id": "9c787ea9",
   "metadata": {},
   "outputs": [
    {
     "name": "stdout",
     "output_type": "stream",
     "text": [
      "{'traits':         name state  age\n",
      "0  Student A    NY   18\n",
      "1  Student B    WI   26\n",
      "2  Student C    VA   21\n",
      "3  Student D    AZ   22, 'grades':         name  math  history  science\n",
      "0  Student A  0.85     0.92     0.71\n",
      "1  Student B  0.97     0.80     0.94\n",
      "2  Student C  0.82     0.93     0.75\n",
      "3  Student D  0.78     0.90     0.84}\n"
     ]
    }
   ],
   "source": [
    "df = {'traits': pd.DataFrame(traits), 'grades': pd.DataFrame(grades)}\n",
    "\n",
    "print(df)"
   ]
  },
  {
   "cell_type": "code",
   "execution_count": null,
   "id": "0133652e",
   "metadata": {},
   "outputs": [],
   "source": [
    "# 5) Create a plot to show the age of Students."
   ]
  },
  {
   "cell_type": "code",
   "execution_count": 4,
   "id": "6b75bfce",
   "metadata": {},
   "outputs": [
    {
     "data": {
      "text/plain": [
       "<BarContainer object of 4 artists>"
      ]
     },
     "execution_count": 4,
     "metadata": {},
     "output_type": "execute_result"
    },
    {
     "data": {
      "image/png": "[encoded data removed]",
      "text/plain": [
       "<Figure size 640x480 with 1 Axes>"
      ]
     },
     "metadata": {},
     "output_type": "display_data"
    }
   ],
   "source": [
    "plt.bar(traits['name'], traits['age'])"
   ]
  },
  {
   "cell_type": "code",
   "execution_count": null,
   "id": "95fe3efd",
   "metadata": {},
   "outputs": [],
   "source": []
  }
 ],
 "metadata": {
  "kernelspec": {
   "display_name": "Python 3 (ipykernel)",
   "language": "python",
   "name": "python3"
  },
  "language_info": {
   "codemirror_mode": {
    "name": "ipython",
    "version": 3
   },
   "file_extension": ".py",
   "mimetype": "text/x-python",
   "name": "python",
   "nbconvert_exporter": "python",
   "pygments_lexer": "ipython3",
   "version": "3.11.4"
  }
 },
 "nbformat": 4,
 "nbformat_minor": 5
}
