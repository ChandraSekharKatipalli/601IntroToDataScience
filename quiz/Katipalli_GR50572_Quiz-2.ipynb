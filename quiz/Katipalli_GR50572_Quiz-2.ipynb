{
 "cells": [
  {
   "cell_type": "markdown",
   "id": "4b13d3cc",
   "metadata": {},
   "source": [
    "## Exercise1: Analyzing Data with Python\n",
    "\n",
    "You are given a dataset containing information about a group of students, including their names, ages, and grades. Your task is to use Python to perform the following analyses:\n",
    "\n",
    "1. Calculate the average age of the students.\n",
    "2. Find and print the names of students who scored higher than 80.\n",
    "3. Count the number of students in each age group: 0-10, 11-20, 21-30, and 31+.\n",
    "4. Create a new list of students who are eligible for a scholarship. Eligibility criteria: age less than 25 and a score of 75 or higher."
   ]
  },
  {
   "cell_type": "code",
   "execution_count": 2,
   "id": "730fe008",
   "metadata": {},
   "outputs": [],
   "source": [
    "students_data = [\n",
    "    {\"name\": \"Alice\", \"age\": 22, \"score\": 87},\n",
    "    {\"name\": \"Bob\", \"age\": 18, \"score\": 92},\n",
    "    {\"name\": \"Charlie\", \"age\": 30, \"score\": 65},\n",
    "    {\"name\": \"David\", \"age\": 16, \"score\": 78},\n",
    "    {\"name\": \"Eve\", \"age\": 25, \"score\": 89},\n",
    "    {\"name\": \"Frank\", \"age\": 31, \"score\": 72},\n",
    "    {\"name\": \"Grace\", \"age\": 19, \"score\": 84},\n",
    "    {\"name\": \"Helen\", \"age\": 28, \"score\": 95},\n",
    "    {\"name\": \"Ivy\", \"age\": 14, \"score\": 68},\n",
    "    {\"name\": \"Jack\", \"age\": 23, \"score\": 77},\n",
    "]\n"
   ]
  },
  {
   "cell_type": "code",
   "execution_count": 5,
   "id": "a237910f",
   "metadata": {},
   "outputs": [
    {
     "name": "stdout",
     "output_type": "stream",
     "text": [
      "22\n"
     ]
    }
   ],
   "source": [
    "# Calculate the average age of students\n",
    "# Loop through the data and calculate the average age\n",
    "age = 0\n",
    "for i in students_data:\n",
    "    age = age + i['age']\n",
    "\n",
    "avgAge = age//len(students_data)\n",
    "\n",
    "print(avgAge)"
   ]
  },
  {
   "cell_type": "code",
   "execution_count": 7,
   "id": "df0f7063",
   "metadata": {},
   "outputs": [
    {
     "name": "stdout",
     "output_type": "stream",
     "text": [
      "Alice\n",
      "Bob\n",
      "Eve\n",
      "Grace\n",
      "Helen\n"
     ]
    }
   ],
   "source": [
    "# Find and print the names of students who scored higher than 80\n",
    "# Loop through the data and check the score for each student\n",
    "for i in students_data:\n",
    "    if i['score'] > 80:\n",
    "        print(i['name'])"
   ]
  },
  {
   "cell_type": "code",
   "execution_count": 10,
   "id": "9be247ce",
   "metadata": {},
   "outputs": [
    {
     "name": "stdout",
     "output_type": "stream",
     "text": [
      "0 - 10  -> count = 0\n",
      "11 - 20 -> count = 4\n",
      "21 - 30 -> count = 5\n",
      "31+     -> count = 1\n"
     ]
    }
   ],
   "source": [
    " # Count the number of students in each age group\n",
    "# Loop through the data and categorize students into age groups, then count them\n",
    "ten = 0\n",
    "twenty = 0\n",
    "thrity = 0\n",
    "abv_thrity = 0\n",
    "for i in students_data:\n",
    "    if 0 <= i['age'] <=10:\n",
    "        ten += 1\n",
    "    elif 11 <= i['age'] <= 20:\n",
    "        twenty += 1\n",
    "    elif 21 <= i['age'] <= 30:\n",
    "        thrity += 1\n",
    "    elif i['age'] >= 31:\n",
    "        abv_thrity += 1\n",
    "\n",
    "print(f'0 - 10  -> count = {ten}')\n",
    "print(f'11 - 20 -> count = {twenty}')\n",
    "print(f'21 - 30 -> count = {thrity}')\n",
    "print(f'31+     -> count = {abv_thrity}')"
   ]
  },
  {
   "cell_type": "code",
   "execution_count": 11,
   "id": "ca79723b",
   "metadata": {},
   "outputs": [
    {
     "name": "stdout",
     "output_type": "stream",
     "text": [
      "['Alice', 'Bob', 'David', 'Grace', 'Jack']\n"
     ]
    }
   ],
   "source": [
    "# Create a new list of students eligible for a scholarship\n",
    "# Loop through the data, apply eligibility criteria, and create a new list\n",
    "scholarshipEligible = []\n",
    "\n",
    "for i in students_data:\n",
    "    if i['score'] >= 75 and i['age'] < 25:\n",
    "        scholarshipEligible.append(i['name'])\n",
    "\n",
    "print(scholarshipEligible)"
   ]
  },
  {
   "cell_type": "markdown",
   "id": "fc784c1f",
   "metadata": {},
   "source": [
    "## Exercise2: List Operations\n",
    "\n",
    "You are given a list of numbers. Your task is to write Python code to perform the following operations:\n",
    "\n",
    "1. Find the sum of all the numbers in the list.\n",
    "2. Find the product of all the numbers in the list.\n",
    "3. Find the largest number in the list.\n",
    "4. Find the smallest number in the list.\n",
    "5. Count how many numbers are even and how many are odd in the list.\n",
    "6. Create a new list that contains only the even numbers from the original list.\n",
    "7. Create a new list that contains the squares of all the numbers in the original list."
   ]
  },
  {
   "cell_type": "code",
   "execution_count": 2,
   "id": "4a44d8b4",
   "metadata": {},
   "outputs": [],
   "source": [
    "#Here's the list of numbers:\n",
    "numbers = [2, 5, 8, 12, 16, 23, 38, 42, 55, 67]"
   ]
  },
  {
   "cell_type": "code",
   "execution_count": 13,
   "id": "b4ff2000",
   "metadata": {},
   "outputs": [
    {
     "name": "stdout",
     "output_type": "stream",
     "text": [
      "268\n"
     ]
    }
   ],
   "source": [
    "# Calculate the sum of all numbers\n",
    "# Loop through the list and update the sum\n",
    "sum = 0\n",
    "\n",
    "for i in numbers:\n",
    "    sum = sum + i\n",
    "\n",
    "print(sum)"
   ]
  },
  {
   "cell_type": "code",
   "execution_count": 16,
   "id": "6c713460",
   "metadata": {},
   "outputs": [
    {
     "name": "stdout",
     "output_type": "stream",
     "text": [
      "2077731532800\n"
     ]
    }
   ],
   "source": [
    "# Calculate the product of all numbers\n",
    "# Loop through the list and update the product\n",
    "product = 1\n",
    "\n",
    "for i in numbers:\n",
    "    product = product * i\n",
    "\n",
    "print(product)"
   ]
  },
  {
   "cell_type": "code",
   "execution_count": 3,
   "id": "c68da147",
   "metadata": {},
   "outputs": [
    {
     "name": "stdout",
     "output_type": "stream",
     "text": [
      "67\n"
     ]
    }
   ],
   "source": [
    "# Find the largest number\n",
    "# Loop through the list and update the largest number\n",
    "largest = 0\n",
    "\n",
    "for i in range(len(numbers)):\n",
    "    if numbers[i] > numbers[0]:\n",
    "        largest = numbers[i]\n",
    "\n",
    "print(largest)"
   ]
  },
  {
   "cell_type": "code",
   "execution_count": 4,
   "id": "940be232",
   "metadata": {},
   "outputs": [
    {
     "name": "stdout",
     "output_type": "stream",
     "text": [
      "2\n"
     ]
    }
   ],
   "source": [
    "# Find the smallest number\n",
    "# Loop through the list and update the smallest number\n",
    "largest = numbers[0]\n",
    "\n",
    "for i in range(len(numbers)):\n",
    "    if numbers[i] < numbers[0]:\n",
    "        largest = numbers[i]\n",
    "\n",
    "print(largest)"
   ]
  },
  {
   "cell_type": "code",
   "execution_count": 22,
   "id": "7a571f90",
   "metadata": {},
   "outputs": [
    {
     "name": "stdout",
     "output_type": "stream",
     "text": [
      "even = 6\n",
      "odd = 4\n"
     ]
    }
   ],
   "source": [
    "# Count even and odd numbers\n",
    "# Loop through the list and count even and odd numbers\n",
    "even = 0\n",
    "odd = 0\n",
    "\n",
    "for i in numbers:\n",
    "    if i % 2 == 0:\n",
    "        even += 1\n",
    "    else:\n",
    "        odd += 1\n",
    "\n",
    "print('even =', even)\n",
    "print('odd =', odd)"
   ]
  },
  {
   "cell_type": "code",
   "execution_count": 24,
   "id": "3c6c7e0c",
   "metadata": {},
   "outputs": [
    {
     "name": "stdout",
     "output_type": "stream",
     "text": [
      "[2, 8, 12, 16, 38, 42]\n"
     ]
    }
   ],
   "source": [
    "# Create a new list of even numbers\n",
    "# Loop through the list and add even numbers to the new list\n",
    "even = []\n",
    "\n",
    "for i in numbers:\n",
    "    if i % 2 == 0:\n",
    "        even.append(i)\n",
    "\n",
    "\n",
    "print(even)"
   ]
  },
  {
   "cell_type": "code",
   "execution_count": 25,
   "id": "fed54267",
   "metadata": {},
   "outputs": [
    {
     "name": "stdout",
     "output_type": "stream",
     "text": [
      "[4, 25, 64, 144, 256, 529, 1444, 1764, 3025, 4489]\n"
     ]
    }
   ],
   "source": [
    "# Create a new list of squares of numbers\n",
    "# Loop through the list and add squares to the new list\n",
    "squares = []\n",
    "\n",
    "for i in numbers:\n",
    "    squares.append(i ** 2)\n",
    "\n",
    "print(squares)"
   ]
  },
  {
   "cell_type": "code",
   "execution_count": null,
   "id": "6f78d000",
   "metadata": {},
   "outputs": [],
   "source": []
  }
 ],
 "metadata": {
  "kernelspec": {
   "display_name": "Python 3 (ipykernel)",
   "language": "python",
   "name": "python3"
  },
  "language_info": {
   "codemirror_mode": {
    "name": "ipython",
    "version": 3
   },
   "file_extension": ".py",
   "mimetype": "text/x-python",
   "name": "python",
   "nbconvert_exporter": "python",
   "pygments_lexer": "ipython3",
   "version": "3.11.4"
  }
 },
 "nbformat": 4,
 "nbformat_minor": 5
}
