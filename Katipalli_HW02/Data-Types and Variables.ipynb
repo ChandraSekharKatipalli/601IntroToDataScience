{
 "cells": [
  {
   "cell_type": "markdown",
   "id": "eb55bc29",
   "metadata": {},
   "source": [
    "# Numeric Data Type\n",
    "\n",
    "Python has many useful built-in data types. Python variables can store different types of data based on a variable's data type. A variable's data type is created dynamically, without the need to explicitly define a data type when the variable is created.\n",
    "\n",
    "It is useful for problem solvers to understand a couple of Python's core data types in order to write well-constructed code."
   ]
  },
  {
   "cell_type": "markdown",
   "id": "83e1b4d9",
   "metadata": {},
   "source": [
    "# A review of variable assignment in Python\n",
    "\n",
    " Python variables are defined with the assignment operator, the equals sign =. To define a variable in Python, the variable name is written first, then the assignment operator = followed by a value or expression.\n",
    "\n",
    "The general syntax to assign a value to variable name is below:\n",
    "\n",
    "* **variable_name = value**\n",
    "* **Variable names in Python must adhere to the following rules:**\n",
    "\n",
    "* **variable names must start with a letter**\n",
    "* **variable names can only contain letters, numbers and the underscore character _**\n",
    "* **variable names can not contain spaces or punctuation**\n",
    "* **variable names are not enclosed in quotes or brackets**\n",
    "* **Below is a discussion of a few different built-in data types in Python.**"
   ]
  },
  {
   "cell_type": "markdown",
   "id": "bbf1c0e3",
   "metadata": {},
   "source": [
    "### Integers, Floating Numbers, and Compex Numbers\n",
    "\n",
    " In Pythyon: \n",
    " \n",
    " - Integer variables are defined by assigning a whole number to a variable.\n",
    " \n",
    " - Floats are decimals, positive, negative and zero.\n",
    " \n",
    " - A complex number is defined in Python using a real component + an imaginary component j. The letter j must be used to denote the imaginary component. Using the letter i to define a complex number returns an error in Python.\n",
    " \n",
    " \n",
    " Python's type() function can be used to determine the data type of a variable.\n",
    "\n"
   ]
  },
  {
   "cell_type": "code",
   "execution_count": 1,
   "id": "3f73c507",
   "metadata": {},
   "outputs": [
    {
     "data": {
      "text/plain": [
       "-100"
      ]
     },
     "execution_count": 1,
     "metadata": {},
     "output_type": "execute_result"
    }
   ],
   "source": [
    "#Integers\n",
    "b=-100\n",
    "b"
   ]
  },
  {
   "cell_type": "code",
   "execution_count": 2,
   "id": "d47a8d0d",
   "metadata": {},
   "outputs": [
    {
     "data": {
      "text/plain": [
       "int"
      ]
     },
     "execution_count": 2,
     "metadata": {},
     "output_type": "execute_result"
    }
   ],
   "source": [
    "type(b)"
   ]
  },
  {
   "cell_type": "code",
   "execution_count": 3,
   "id": "d8c43bae",
   "metadata": {},
   "outputs": [
    {
     "data": {
      "text/plain": [
       "int"
      ]
     },
     "execution_count": 3,
     "metadata": {},
     "output_type": "execute_result"
    }
   ],
   "source": [
    "z=0\n",
    "z\n",
    "type(z)"
   ]
  },
  {
   "cell_type": "code",
   "execution_count": 4,
   "id": "315e09f3",
   "metadata": {},
   "outputs": [
    {
     "data": {
      "text/plain": [
       "float"
      ]
     },
     "execution_count": 4,
     "metadata": {},
     "output_type": "execute_result"
    }
   ],
   "source": [
    "# Floating point numbers\n",
    "c=6.23\n",
    "c\n",
    "type(c)"
   ]
  },
  {
   "cell_type": "code",
   "execution_count": 5,
   "id": "119b046e",
   "metadata": {},
   "outputs": [
    {
     "data": {
      "text/plain": [
       "7.09e+23"
      ]
     },
     "execution_count": 5,
     "metadata": {},
     "output_type": "execute_result"
    }
   ],
   "source": [
    "xa=7.09e+23\n",
    "xa"
   ]
  },
  {
   "cell_type": "code",
   "execution_count": 6,
   "id": "cce4579d",
   "metadata": {},
   "outputs": [
    {
     "data": {
      "text/plain": [
       "float"
      ]
     },
     "execution_count": 6,
     "metadata": {},
     "output_type": "execute_result"
    }
   ],
   "source": [
    "type(xa)"
   ]
  },
  {
   "cell_type": "code",
   "execution_count": 7,
   "id": "9d1c3e2f",
   "metadata": {},
   "outputs": [],
   "source": [
    "#Complex Numbers\n",
    "complex=9+5+4j"
   ]
  },
  {
   "cell_type": "code",
   "execution_count": 8,
   "id": "37ead587",
   "metadata": {},
   "outputs": [
    {
     "data": {
      "text/plain": [
       "(14+4j)"
      ]
     },
     "execution_count": 8,
     "metadata": {},
     "output_type": "execute_result"
    }
   ],
   "source": [
    "complex"
   ]
  },
  {
   "cell_type": "code",
   "execution_count": 9,
   "id": "18ea843e",
   "metadata": {},
   "outputs": [
    {
     "data": {
      "text/plain": [
       "complex"
      ]
     },
     "execution_count": 9,
     "metadata": {},
     "output_type": "execute_result"
    }
   ],
   "source": [
    "type(complex)"
   ]
  },
  {
   "cell_type": "code",
   "execution_count": 6,
   "id": "ddf3564e",
   "metadata": {},
   "outputs": [
    {
     "data": {
      "text/plain": [
       "(9+6j)"
      ]
     },
     "execution_count": 6,
     "metadata": {},
     "output_type": "execute_result"
    }
   ],
   "source": [
    "complex4=9+6j #replacing j by i python returns an error\n",
    "complex4"
   ]
  },
  {
   "cell_type": "code",
   "execution_count": 11,
   "id": "d5194ce4",
   "metadata": {},
   "outputs": [
    {
     "data": {
      "text/plain": [
       "(22+4j)"
      ]
     },
     "execution_count": 11,
     "metadata": {},
     "output_type": "execute_result"
    }
   ],
   "source": [
    "#adding complext with int and flot\n",
    "\n",
    "integ=8\n",
    "\n",
    "complex+integ"
   ]
  },
  {
   "cell_type": "code",
   "execution_count": 15,
   "id": "8b7431f6",
   "metadata": {},
   "outputs": [
    {
     "data": {
      "text/plain": [
       "(20.85+4j)"
      ]
     },
     "execution_count": 15,
     "metadata": {},
     "output_type": "execute_result"
    }
   ],
   "source": [
    "flt=6.85\n",
    "comp_float=complex+flt\n",
    "comp_float"
   ]
  },
  {
   "cell_type": "markdown",
   "id": "b51ec6e0",
   "metadata": {},
   "source": [
    "# Excercise\n"
   ]
  },
  {
   "cell_type": "markdown",
   "id": "7b3aecab",
   "metadata": {},
   "source": [
    "Determine the Data Types\n",
    "======================\n",
    "***\n",
    "      \n",
    "   - c if a=112.\n",
    "      \n",
    "   - c if a='13.'\n",
    "\n",
    "   - c if a=(23)\n",
    "   \n",
    "   - c if a=False\n",
    "\n",
    "   -  c=[1,2,3]\n",
    "\n",
    "   - c=(1,2,3)\n",
    "\n",
    "   - c={'key': 9}\n",
    "\n",
    "   - c=1 + 9j"
   ]
  },
  {
   "cell_type": "code",
   "execution_count": 5,
   "id": "3a126d83",
   "metadata": {},
   "outputs": [
    {
     "name": "stdout",
     "output_type": "stream",
     "text": [
      "a ------------------------> <class 'int'>\n",
      "a ------------------------> <class 'str'>\n",
      "a ------------------------> <class 'int'>\n",
      "a ------------------------> <class 'bool'>\n",
      "c ------------------------> <class 'list'>\n",
      "c ------------------------> <class 'tuple'>\n",
      "c ------------------------> <class 'dict'>\n",
      "c ------------------------> <class 'complex'>\n"
     ]
    }
   ],
   "source": [
    "a = 112\n",
    "print('a ------------------------>', type(a))\n",
    "\n",
    "a = '13'\n",
    "print('a ------------------------>', type(a))\n",
    "\n",
    "a = (23)\n",
    "print('a ------------------------>', type(a))\n",
    "\n",
    "a = False\n",
    "print('a ------------------------>', type(a))\n",
    "\n",
    "c = [1, 2, 3]\n",
    "print('c ------------------------>', type(c))\n",
    "\n",
    "c = (1, 2, 3)\n",
    "print('c ------------------------>', type(c))\n",
    "\n",
    "c = {'key': 9}\n",
    "print('c ------------------------>', type(c))\n",
    "\n",
    "c = 1 + 9j\n",
    "print('c ------------------------>', type(c))"
   ]
  },
  {
   "cell_type": "code",
   "execution_count": null,
   "id": "71dadc46",
   "metadata": {},
   "outputs": [],
   "source": []
  }
 ],
 "metadata": {
  "kernelspec": {
   "display_name": "Python 3 (ipykernel)",
   "language": "python",
   "name": "python3"
  },
  "language_info": {
   "codemirror_mode": {
    "name": "ipython",
    "version": 3
   },
   "file_extension": ".py",
   "mimetype": "text/x-python",
   "name": "python",
   "nbconvert_exporter": "python",
   "pygments_lexer": "ipython3",
   "version": "3.11.4"
  }
 },
 "nbformat": 4,
 "nbformat_minor": 5
}
