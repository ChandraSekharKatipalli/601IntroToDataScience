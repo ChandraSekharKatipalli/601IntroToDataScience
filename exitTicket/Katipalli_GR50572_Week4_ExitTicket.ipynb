{
 "cells": [
  {
   "cell_type": "markdown",
   "id": "c8bb154c",
   "metadata": {},
   "source": [
    "**Last Week's Class:**\n",
    "\n",
    " User-Defined Functions, Arguments, and Loops with List Comprehension\n",
    "\n",
    "- Last week's class focused on user-defined functions in Python.\n",
    "\n",
    " `def` keyword, how to define arguments (both positional and keyword arguments), and how to return values from functions.\n",
    "\n",
    "-  loops, including `for` and `while` loops, and how to use them to iterate over lists and perform repetitive tasks. \n",
    "\n",
    "\n",
    "**Today's Plan:**\n",
    "\n",
    "*Object-Oriented Programming (OOP), Python Exceptions, Read and Write Files*\n",
    "\n",
    "- In today's class, we will delve into Object-Oriented Programming (OOP). \n",
    "\n",
    "- classes and objects, how to define classes, attributes, and methods. \n",
    "\n",
    "- understand the concepts of encapsulation, inheritance, and polymorphism, which are fundamental to OOP.\n",
    "\n",
    "**Python exceptions.** \n",
    "- learn how to handle errors and exceptions using try, except, and finally blocks. \n",
    "- importance of error handling for robust code.\n",
    "\n",
    " **file I/O (Input/Output)**\n",
    "\n",
    "- read data from files and write data to files in Python. \n",
    "\n",
    " - opening, reading, writing, and closing files. We will explore different modes for file operations, such as reading text or binary files.\n",
    "\n"
   ]
  },
  {
   "cell_type": "code",
   "execution_count": null,
   "id": "b46a5446",
   "metadata": {},
   "outputs": [],
   "source": [
    "#refering the def function (how to user defined function)\n",
    "def greet(name): #what is greet here? - function name\n",
    "    return f\"Hello, {name}!\"\n",
    "\n",
    "message = greet(\"Alice\")\n",
    "print(message)  # Output: Hello, Alice!\n"
   ]
  },
  {
   "cell_type": "markdown",
   "id": "a4bc5aad",
   "metadata": {},
   "source": [
    "#### write a python function to calculate the factorial of a given integer"
   ]
  },
  {
   "cell_type": "code",
   "execution_count": 8,
   "id": "a8f9c5bf",
   "metadata": {},
   "outputs": [
    {
     "data": {
      "text/plain": [
       "120"
      ]
     },
     "execution_count": 8,
     "metadata": {},
     "output_type": "execute_result"
    }
   ],
   "source": [
    "def factorial(number):\n",
    "    fact_num = 1\n",
    "    while number != 1:\n",
    "        fact_num = fact_num * number\n",
    "        number -= 1\n",
    "    \n",
    "    return fact_num\n",
    "\n",
    "factorial(5)\n",
    "\n",
    "#using recursion\n",
    "def factorial_rec(num):\n",
    "    if num == 0:\n",
    "        return 1\n",
    "    else:\n",
    "        return num*factorial_rec(num-1)\n",
    "    \n",
    "factorial_rec(5)"
   ]
  },
  {
   "cell_type": "markdown",
   "id": "8d312db3",
   "metadata": {},
   "source": [
    "#### Create a python program that generate a list of all prime numbers within specfied range"
   ]
  },
  {
   "cell_type": "code",
   "execution_count": 9,
   "id": "9dbf583f",
   "metadata": {},
   "outputs": [
    {
     "name": "stdout",
     "output_type": "stream",
     "text": [
      "[5, 7, 11, 13, 17, 19, 23, 29, 31] <class 'list'>\n"
     ]
    }
   ],
   "source": [
    "x, y = int(input()), int(input())\n",
    "\n",
    "prime_num = []\n",
    "for  i in range(x, y):\n",
    "    isPrime = True\n",
    "\n",
    "    for j in range(2, i):\n",
    "        if i % j == 0:\n",
    "            isPrime = False\n",
    "            \n",
    "    if isPrime:\n",
    "       prime_num.append(i)\n",
    "\n",
    "\n",
    "print(prime_num, type(prime_num))\n",
    "\n"
   ]
  },
  {
   "cell_type": "code",
   "execution_count": 11,
   "id": "4109c4b9",
   "metadata": {},
   "outputs": [
    {
     "name": "stdout",
     "output_type": "stream",
     "text": [
      "[2, 3, 5, 7, 11, 13, 17, 19, 23, 29, 31, 37, 41, 43, 47, 53, 59, 61, 67, 71, 73, 79, 83, 89, 97]\n"
     ]
    }
   ],
   "source": [
    "def is_prime(num):\n",
    "    if num<=1:\n",
    "        return False\n",
    "    for i in range(2, int(num**0.5)+1):\n",
    "        if num % i == 0:\n",
    "            return False\n",
    "        \n",
    "    return True\n",
    "\n",
    "def generate_prime(start, end):\n",
    "    pr_num = []\n",
    "    for num in range(start, end+1):\n",
    "        if is_prime(num):\n",
    "            pr_num.append(num)\n",
    "    return pr_num\n",
    "\n",
    "\n",
    "primes = generate_prime(2, 100)\n",
    "print(primes)"
   ]
  },
  {
   "cell_type": "code",
   "execution_count": null,
   "id": "1076237e",
   "metadata": {},
   "outputs": [],
   "source": [
    "#for loop with list\n",
    "numbers = [1, 2, 3, 4, 5]\n",
    "for num in numbers:\n",
    "    print(num)\n"
   ]
  },
  {
   "cell_type": "code",
   "execution_count": null,
   "id": "665a6da8",
   "metadata": {},
   "outputs": [],
   "source": []
  },
  {
   "cell_type": "code",
   "execution_count": 1,
   "id": "0e0f0974",
   "metadata": {},
   "outputs": [
    {
     "name": "stdout",
     "output_type": "stream",
     "text": [
      "[1, 4, 9, 16, 25]\n"
     ]
    }
   ],
   "source": [
    "#list comprehension\n",
    "numbers = [1, 2, 3, 4, 5]\n",
    "squared_numbers = [num ** 2 for num in numbers]\n",
    "print(squared_numbers)  # Output: [1, 4, 9, 16, 25]\n"
   ]
  },
  {
   "cell_type": "code",
   "execution_count": null,
   "id": "6228cd2c",
   "metadata": {},
   "outputs": [],
   "source": []
  },
  {
   "cell_type": "code",
   "execution_count": null,
   "id": "5bd11c42",
   "metadata": {},
   "outputs": [],
   "source": [
    "numbers = [1, 2, 3, 4, 5]\n",
    "squared_numbers = [num ** 2 for num in numbers]\n",
    "print(squared_numbers)  # Output: [1, 4, 9, 16, 25]\n"
   ]
  },
  {
   "cell_type": "markdown",
   "id": "15694220",
   "metadata": {},
   "source": [
    "### OOPs - is the concept of Object\n",
    "- Object are instance of class\n",
    "- represent real world entities oe concepts\n",
    "\n",
    "##### OOPs is designed to model they objects interact and operate in the real world\n",
    "- here are some of the basic concept\n",
    "\n",
    "1. class - it is a blue print or template for creating object.\n",
    "2. Object - an instance of class.\n",
    "3. attribute (Data Members) - variables or data members that store the state or the characterstics of an object.\n",
    "** in person class, attribute could be age, name address **\n",
    "\n",
    "4. Method (member function) - functions defined within the class --for example car is class, start_engine is a method, accerlate(), brake()\n",
    "5. inheritance - allow new class to inherite attribute or mwthods from super class.\n",
    "6. Encapsulation - The principle of bundling data (attribute) and functions(methods)\n",
    "7. polymorphism - Allow object of different classes to be treated as object of common superclass. it can also help to override methods\n",
    "8. Abstraction - it is the process or method of simplyfying.\n",
    "9. Constructor - A special method in classes --to intialize the object attributes\n",
    "10. Destructors - read more about this - "
   ]
  },
  {
   "cell_type": "markdown",
   "id": "2bd69f25",
   "metadata": {},
   "source": [
    "Classes and Objects: how to define classes and create objects from them. Classes are used to model real-world objects or concepts, and objects are instances of those classes."
   ]
  },
  {
   "cell_type": "code",
   "execution_count": 12,
   "id": "6c287b53",
   "metadata": {},
   "outputs": [
    {
     "name": "stdout",
     "output_type": "stream",
     "text": [
      "Buddy says Woof!\n"
     ]
    }
   ],
   "source": [
    "class Dog:\n",
    "    def __init__(self, name):\n",
    "        self.name = name\n",
    "\n",
    "    def bark(self):\n",
    "        return f\"{self.name} says Woof!\"\n",
    "\n",
    "dog1 = Dog(\"Buddy\")\n",
    "print(dog1.bark())  # Output: Buddy says Woof!\n"
   ]
  },
  {
   "cell_type": "code",
   "execution_count": 24,
   "id": "3768001c",
   "metadata": {},
   "outputs": [
    {
     "name": "stdout",
     "output_type": "stream",
     "text": [
      "name is Alice and age is 30\n"
     ]
    }
   ],
   "source": [
    "class Person:\n",
    "\n",
    "    #constructor (intialzing object attribute)\n",
    "    def __init__(self, name, age):\n",
    "        self.name = name \n",
    "        self.age = age\n",
    "\n",
    "    #Method to introduce the person\n",
    "    def introduce(self):\n",
    "        print(f'hello, my name is {self.name}, and I am {self.age} years old')\n",
    "\n",
    "\n",
    "# create a person objects\n",
    "person1 = Person('Alice',30)\n",
    "person2 = Person('bob',20)\n",
    "\n",
    "\n",
    "#Access object attribute and call methods\n",
    "print(f'name is {person1.name} and age is {person1.age}')\n"
   ]
  },
  {
   "cell_type": "markdown",
   "id": "4280f8f0",
   "metadata": {},
   "source": [
    "1. Person is class function\n",
    "\n",
    "2. __int__: a constructor method that initalize name and age attributes with the new person object is created.\n",
    "\n",
    "3. Inside the person class --method \"introduce to print out name and age\""
   ]
  },
  {
   "cell_type": "code",
   "execution_count": null,
   "id": "464a9eec",
   "metadata": {},
   "outputs": [],
   "source": []
  },
  {
   "cell_type": "markdown",
   "id": "3a2d9d0f",
   "metadata": {},
   "source": [
    "inheritance:  how inheritance allows one class to inherit attributes and methods from another class, promoting code reuse."
   ]
  },
  {
   "cell_type": "code",
   "execution_count": null,
   "id": "1fa83b2a",
   "metadata": {},
   "outputs": [],
   "source": [
    "class Cat(Dog):\n",
    "    def purr(self):\n",
    "        return f\"{self.name} says Purr!\"\n",
    "\n",
    "cat1 = Cat(\"Whiskers\")\n",
    "print(cat1.bark())  # Output: Whiskers says Woof!\n",
    "print(cat1.purr())  # Output: Whiskers says Purr!\n"
   ]
  },
  {
   "cell_type": "code",
   "execution_count": null,
   "id": "d68adf71",
   "metadata": {},
   "outputs": [],
   "source": []
  },
  {
   "cell_type": "markdown",
   "id": "acc07bb5",
   "metadata": {},
   "source": [
    "Python Exceptions:\n",
    "\n",
    "Error Handling: try, except, and finally blocks to handle errors and exceptions gracefully."
   ]
  },
  {
   "cell_type": "code",
   "execution_count": 18,
   "id": "7cc993a3",
   "metadata": {},
   "outputs": [
    {
     "name": "stdout",
     "output_type": "stream",
     "text": [
      "Error: division by zero\n",
      "Cleanup code\n"
     ]
    }
   ],
   "source": [
    "try:\n",
    "    result = 10 / 0\n",
    "except ZeroDivisionError as e:\n",
    "    print(f\"Error: {e}\")\n",
    "finally:\n",
    "    print(\"Cleanup code\")\n"
   ]
  },
  {
   "cell_type": "code",
   "execution_count": 19,
   "id": "e7abf721",
   "metadata": {},
   "outputs": [
    {
     "name": "stdout",
     "output_type": "stream",
     "text": [
      "Error: variable isnot defined\n"
     ]
    }
   ],
   "source": [
    "# when you try to access a variable or function that has not been define\n",
    "\n",
    "try:\n",
    "    print(undefined_variable)\n",
    "except NameError as e:\n",
    "    print(\"Error: variable isnot defined\")"
   ]
  },
  {
   "cell_type": "code",
   "execution_count": 20,
   "id": "3a044e3d",
   "metadata": {},
   "outputs": [
    {
     "name": "stdout",
     "output_type": "stream",
     "text": [
      "Error: Type Mismatch\n"
     ]
    }
   ],
   "source": [
    "# perform an operation on object of inappropriate data type\n",
    "\n",
    "try:\n",
    "    results = \"5\"+10\n",
    "except TypeError as e:\n",
    "    print(\"Error: Type Mismatch\")"
   ]
  },
  {
   "cell_type": "code",
   "execution_count": 21,
   "id": "e57b2a58",
   "metadata": {},
   "outputs": [
    {
     "name": "stdout",
     "output_type": "stream",
     "text": [
      "Error: file not found\n"
     ]
    }
   ],
   "source": [
    "# filenotfounderror \n",
    "try:\n",
    "    with open(\"nonexistent.txt\", \"r\") as file:\n",
    "        content = file.read()\n",
    "except FileNotFoundError as e:\n",
    "    print(\"Error: file not found\")"
   ]
  },
  {
   "cell_type": "code",
   "execution_count": 28,
   "id": "a3a4e429",
   "metadata": {},
   "outputs": [
    {
     "name": "stdout",
     "output_type": "stream",
     "text": [
      "Error: Index error\n",
      "Error: key error\n"
     ]
    }
   ],
   "source": [
    "#How do you do IndexError\n",
    "try:\n",
    "    l = [1, 2, 3, 4]\n",
    "    print(f\"value at index 5 is {l[5]}\")\n",
    "except IndexError as e:\n",
    "    print(\"Error: Index error\")\n",
    "\n",
    "\n",
    "#How do you do KeyError\n",
    "try:\n",
    "    d = {'eng': 40, 'math': 60, 'science': 70}\n",
    "    print(f'marks of social {d[\"social\"]}')\n",
    "except KeyError as e:\n",
    "    print(f\"Error: key error\")"
   ]
  },
  {
   "cell_type": "code",
   "execution_count": 29,
   "id": "afbe0b92",
   "metadata": {},
   "outputs": [
    {
     "name": "stdout",
     "output_type": "stream",
     "text": [
      "Database error: no such table: mytable\n"
     ]
    }
   ],
   "source": [
    "#Understand the steps and explain\n",
    "import sqlite3\n",
    "\n",
    "class DatabaseConnector: #creating a class 'Databaseconnector'\n",
    "    def __init__(self, database_file): #intializing class takes database_file as argument\n",
    "        self.database_file = database_file\n",
    "    \n",
    "    def connect(self): #connect method in class DatabaseConnector\n",
    "        try:\n",
    "            connection = sqlite3.connect(self.database_file) #trying to connect to the database\n",
    "            return connection #returning the connection status\n",
    "        except sqlite3.Error as e: #exception handling incase of error\n",
    "            print(f\"Database connection error: {e}\")\n",
    "    \n",
    "    def execute_query(self, query): #excute_query method takes query as argument\n",
    "        try:\n",
    "            connection = self.connect()  #calling connect method\n",
    "            cursor = connection.cursor()\n",
    "            cursor.execute(query) #executing a given query\n",
    "            return cursor.fetchall() \n",
    "        except sqlite3.Error as e: #handling errors \n",
    "            print(f\"Database error: {e}\")\n",
    "        finally: #in final step closing the connection\n",
    "            if connection: # if connection is present then close connection\n",
    "                connection.close()\n",
    "\n",
    "# Example usage:\n",
    "db_connector = DatabaseConnector(\"mydb.db\")\n",
    "query = \"SELECT * FROM mytable\"\n",
    "results = db_connector.execute_query(query)"
   ]
  },
  {
   "cell_type": "markdown",
   "id": "4852a47b",
   "metadata": {},
   "source": [
    "ead and Write Files:\n",
    "\n",
    "File I/O: understand how to open, read, write, and close files in Python. Different file modes (e.g., 'r' for reading, 'w' for writing) will be covered."
   ]
  },
  {
   "cell_type": "code",
   "execution_count": 30,
   "id": "c26b33bc",
   "metadata": {},
   "outputs": [],
   "source": [
    "# Example of writing to a file:\n",
    "with open(\"output.txt\", \"w\") as file:\n",
    "    file.write(\"Hello, World!\")"
   ]
  },
  {
   "cell_type": "code",
   "execution_count": 31,
   "id": "6887b810",
   "metadata": {},
   "outputs": [
    {
     "ename": "FileNotFoundError",
     "evalue": "[Errno 2] No such file or directory: 'sample.txt'",
     "output_type": "error",
     "traceback": [
      "\u001b[1;31m---------------------------------------------------------------------------\u001b[0m",
      "\u001b[1;31mFileNotFoundError\u001b[0m                         Traceback (most recent call last)",
      "\u001b[1;32md:\\601_IntroductionToDataScience\\10-02-2023--- Class .ipynb Cell 31\u001b[0m line \u001b[0;36m2\n\u001b[0;32m      <a href='vscode-notebook-cell:/d%3A/601_IntroductionToDataScience/10-02-2023---%20Class%20.ipynb#X31sZmlsZQ%3D%3D?line=0'>1</a>\u001b[0m \u001b[39m#Example of reading from a file:\u001b[39;00m\n\u001b[1;32m----> <a href='vscode-notebook-cell:/d%3A/601_IntroductionToDataScience/10-02-2023---%20Class%20.ipynb#X31sZmlsZQ%3D%3D?line=1'>2</a>\u001b[0m \u001b[39mwith\u001b[39;00m \u001b[39mopen\u001b[39;49m(\u001b[39m\"\u001b[39;49m\u001b[39msample.txt\u001b[39;49m\u001b[39m\"\u001b[39;49m, \u001b[39m\"\u001b[39;49m\u001b[39mr\u001b[39;49m\u001b[39m\"\u001b[39;49m) \u001b[39mas\u001b[39;00m file:\n\u001b[0;32m      <a href='vscode-notebook-cell:/d%3A/601_IntroductionToDataScience/10-02-2023---%20Class%20.ipynb#X31sZmlsZQ%3D%3D?line=2'>3</a>\u001b[0m     content \u001b[39m=\u001b[39m file\u001b[39m.\u001b[39mread()\n\u001b[0;32m      <a href='vscode-notebook-cell:/d%3A/601_IntroductionToDataScience/10-02-2023---%20Class%20.ipynb#X31sZmlsZQ%3D%3D?line=3'>4</a>\u001b[0m     \u001b[39mprint\u001b[39m(content)\n",
      "File \u001b[1;32m~\\AppData\\Roaming\\Python\\Python311\\site-packages\\IPython\\core\\interactiveshell.py:284\u001b[0m, in \u001b[0;36m_modified_open\u001b[1;34m(file, *args, **kwargs)\u001b[0m\n\u001b[0;32m    277\u001b[0m \u001b[39mif\u001b[39;00m file \u001b[39min\u001b[39;00m {\u001b[39m0\u001b[39m, \u001b[39m1\u001b[39m, \u001b[39m2\u001b[39m}:\n\u001b[0;32m    278\u001b[0m     \u001b[39mraise\u001b[39;00m \u001b[39mValueError\u001b[39;00m(\n\u001b[0;32m    279\u001b[0m         \u001b[39mf\u001b[39m\u001b[39m\"\u001b[39m\u001b[39mIPython won\u001b[39m\u001b[39m'\u001b[39m\u001b[39mt let you open fd=\u001b[39m\u001b[39m{\u001b[39;00mfile\u001b[39m}\u001b[39;00m\u001b[39m by default \u001b[39m\u001b[39m\"\u001b[39m\n\u001b[0;32m    280\u001b[0m         \u001b[39m\"\u001b[39m\u001b[39mas it is likely to crash IPython. If you know what you are doing, \u001b[39m\u001b[39m\"\u001b[39m\n\u001b[0;32m    281\u001b[0m         \u001b[39m\"\u001b[39m\u001b[39myou can use builtins\u001b[39m\u001b[39m'\u001b[39m\u001b[39m open.\u001b[39m\u001b[39m\"\u001b[39m\n\u001b[0;32m    282\u001b[0m     )\n\u001b[1;32m--> 284\u001b[0m \u001b[39mreturn\u001b[39;00m io_open(file, \u001b[39m*\u001b[39;49margs, \u001b[39m*\u001b[39;49m\u001b[39m*\u001b[39;49mkwargs)\n",
      "\u001b[1;31mFileNotFoundError\u001b[0m: [Errno 2] No such file or directory: 'sample.txt'"
     ]
    }
   ],
   "source": [
    "#Example of reading from a file:\n",
    "with open(\"sample.txt\", \"r\") as file:\n",
    "    content = file.read()\n",
    "    print(content)"
   ]
  },
  {
   "cell_type": "markdown",
   "id": "504006c8",
   "metadata": {},
   "source": [
    "Exercise 1: Data Preprocessing Class\n",
    "\n",
    "Create a class for data preprocessing tasks in a machine learning project, including cleaning, feature scaling, and encoding."
   ]
  },
  {
   "cell_type": "code",
   "execution_count": null,
   "id": "4636a114",
   "metadata": {},
   "outputs": [],
   "source": []
  },
  {
   "cell_type": "code",
   "execution_count": 32,
   "id": "3dcf02b2",
   "metadata": {},
   "outputs": [],
   "source": [
    "class DataPreprocessor:\n",
    "    def __init__(self, data):\n",
    "        self.data = data\n",
    "    \n",
    "    def clean_data(self):\n",
    "        # Implement data cleaning logic here\n",
    "        pass\n",
    "    \n",
    "    def scale_features(self):\n",
    "        # Implement feature scaling logic here\n",
    "        pass\n",
    "    \n",
    "    def encode_categorical(self):\n",
    "        # Implement categorical encoding logic here\n",
    "        pass\n",
    "\n",
    "# Example usage:\n",
    "data = ...\n",
    "preprocessor = DataPreprocessor(data)\n",
    "preprocessor.clean_data()\n",
    "preprocessor.scale_features()\n",
    "preprocessor.encode_categorical()\n"
   ]
  },
  {
   "cell_type": "code",
   "execution_count": null,
   "id": "3977768d",
   "metadata": {},
   "outputs": [],
   "source": []
  },
  {
   "cell_type": "markdown",
   "id": "a4ec16a3",
   "metadata": {},
   "source": [
    "Exercise 2: Machine Learning Models\n",
    "\n",
    "Implement classes for different machine learning algorithms with methods for training, prediction, and evaluation."
   ]
  },
  {
   "cell_type": "code",
   "execution_count": null,
   "id": "43012c4b",
   "metadata": {},
   "outputs": [],
   "source": [
    "class LinearRegressionModel:\n",
    "    def __init__(self):\n",
    "        pass\n",
    "    \n",
    "    def train(self, X, y):\n",
    "        # Training logic for linear regression\n",
    "        pass\n",
    "    \n",
    "    def predict(self, X):\n",
    "        # Prediction logic for linear regression\n",
    "        pass\n",
    "    \n",
    "    def evaluate(self, X_test, y_test):\n",
    "        # Evaluation logic for linear regression\n",
    "        pass\n",
    "\n",
    "# Example usage:\n",
    "model = LinearRegressionModel()\n",
    "model.train(X_train, y_train)\n",
    "predictions = model.predict(X_test)\n",
    "accuracy = model.evaluate(X_test, y_test)\n"
   ]
  },
  {
   "cell_type": "code",
   "execution_count": null,
   "id": "5c951035",
   "metadata": {},
   "outputs": [],
   "source": []
  },
  {
   "cell_type": "markdown",
   "id": "ee409caf",
   "metadata": {},
   "source": [
    "Exercise 3: Data Visualization Library\n",
    "\n",
    "Develop a class for creating custom data visualization functions and plots using libraries like Matplotlib or Seaborn."
   ]
  },
  {
   "cell_type": "code",
   "execution_count": null,
   "id": "c009b1cd",
   "metadata": {},
   "outputs": [],
   "source": [
    "import matplotlib.pyplot as plt\n",
    "\n",
    "class DataVisualizer:\n",
    "    def __init__(self, data):\n",
    "        self.data = data\n",
    "    \n",
    "    def plot_histogram(self, feature):\n",
    "        # Implement histogram plotting logic\n",
    "        pass\n",
    "    \n",
    "    def plot_scatter(self, x, y):\n",
    "        # Implement scatter plot logic\n",
    "        pass\n",
    "\n",
    "# Example usage:\n",
    "data = ...\n",
    "visualizer = DataVisualizer(data)\n",
    "visualizer.plot_histogram('Age')\n",
    "visualizer.plot_scatter('Income', 'Spending')\n"
   ]
  },
  {
   "cell_type": "code",
   "execution_count": null,
   "id": "9a53df2e",
   "metadata": {},
   "outputs": [],
   "source": []
  },
  {
   "cell_type": "markdown",
   "id": "1f704e21",
   "metadata": {},
   "source": [
    "Exercise 4: Data Exploration Toolkit\n",
    "\n",
    "Create a class to perform exploratory data analysis (EDA) tasks, such as generating summary statistics, histograms, and correlation matrices."
   ]
  },
  {
   "cell_type": "code",
   "execution_count": null,
   "id": "0a085670",
   "metadata": {},
   "outputs": [],
   "source": []
  },
  {
   "cell_type": "code",
   "execution_count": null,
   "id": "ecf00195",
   "metadata": {},
   "outputs": [],
   "source": [
    "import pandas as pd\n",
    "\n",
    "class DataExplorer:\n",
    "    def __init__(self, data):\n",
    "        self.data = data\n",
    "    \n",
    "    def summary_statistics(self):\n",
    "        # Calculate summary statistics\n",
    "        return self.data.describe()\n",
    "    \n",
    "    def plot_histograms(self):\n",
    "        # Generate histograms for each numeric feature\n",
    "        self.data.hist()\n",
    "        plt.show()\n",
    "    \n",
    "    def correlation_matrix(self):\n",
    "        # Calculate and display correlation matrix\n",
    "        return self.data.corr()\n",
    "\n",
    "# Example usage:\n",
    "data = pd.read_csv('data.csv')\n",
    "explorer = DataExplorer(data)\n",
    "summary = explorer.summary_statistics()\n",
    "explorer.plot_histograms()\n",
    "correlation = explorer.correlation_matrix()\n"
   ]
  },
  {
   "cell_type": "code",
   "execution_count": null,
   "id": "9515e714",
   "metadata": {},
   "outputs": [],
   "source": []
  },
  {
   "cell_type": "markdown",
   "id": "bed63fef",
   "metadata": {},
   "source": [
    "xercise 5: Time Series Forecasting Model\n",
    "\n",
    "Build an OOP-based time series forecasting model with classes for data preprocessing, model training, and prediction."
   ]
  },
  {
   "cell_type": "code",
   "execution_count": null,
   "id": "f04d88da",
   "metadata": {},
   "outputs": [],
   "source": []
  },
  {
   "cell_type": "code",
   "execution_count": null,
   "id": "c7eaa876",
   "metadata": {},
   "outputs": [],
   "source": [
    "class TimeSeriesForecastingModel:\n",
    "    def __init__(self, data):\n",
    "        self.data = data\n",
    "    \n",
    "    def preprocess_data(self):\n",
    "        # Implement data preprocessing for time series data\n",
    "        pass\n",
    "    \n",
    "    def train_model(self):\n",
    "        # Train a forecasting model (e.g., ARIMA, LSTM)\n",
    "        pass\n",
    "    \n",
    "    def forecast(self, future_data):\n",
    "        # Generate forecasts for future data points\n",
    "        pass\n",
    "\n",
    "# Example usage:\n",
    "time_series_data = ...\n",
    "forecasting_model = TimeSeriesForecastingModel(time_series_data)\n",
    "forecasting_model.preprocess_data()\n",
    "forecasting_model.train_model()\n",
    "future_forecasts = forecasting_model.forecast(future_data)\n"
   ]
  },
  {
   "cell_type": "code",
   "execution_count": null,
   "id": "b72775da",
   "metadata": {},
   "outputs": [],
   "source": []
  },
  {
   "cell_type": "markdown",
   "id": "a78adf54",
   "metadata": {},
   "source": [
    "xercise 6: Natural Language Processing (NLP) Toolkit\n",
    "\n",
    "Design a class for text processing, including tokenization, sentiment analysis, and text classification using NLP libraries."
   ]
  },
  {
   "cell_type": "code",
   "execution_count": null,
   "id": "9fd62736",
   "metadata": {},
   "outputs": [],
   "source": [
    "import nltk\n",
    "from textblob import TextBlob\n",
    "\n",
    "class NLPToolkit:\n",
    "    def __init__(self, text):\n",
    "        self.text = text\n",
    "    \n",
    "    def tokenize(self):\n",
    "        # Tokenize the text\n",
    "        return nltk.word_tokenize(self.text)\n",
    "    \n",
    "    def analyze_sentiment(self):\n",
    "        # Perform sentiment analysis\n",
    "        blob = TextBlob(self.text)\n",
    "        sentiment = blob.sentiment\n",
    "        return sentiment\n",
    "    \n",
    "    def classify_text(self, model):\n",
    "        # Classify text using a pre-trained model\n",
    "        pass\n",
    "\n",
    "# Example usage:\n",
    "text = \"This is a positive example.\"\n",
    "nlp_toolkit = NLPToolkit(text)\n",
    "tokens = nlp_toolkit.tokenize()\n",
    "sentiment = nlp_toolkit.analyze_sentiment()\n"
   ]
  },
  {
   "cell_type": "code",
   "execution_count": null,
   "id": "95d3fc6e",
   "metadata": {},
   "outputs": [],
   "source": []
  },
  {
   "cell_type": "markdown",
   "id": "a1fc7d41",
   "metadata": {},
   "source": [
    "Exercise 7: Cluster Analysis Class\n",
    "\n",
    "Develop a class for clustering algorithms like K-Means, Hierarchical Clustering, and DBSCAN, with methods for fitting and visualizing clusters."
   ]
  },
  {
   "cell_type": "code",
   "execution_count": null,
   "id": "ef3b7c8e",
   "metadata": {},
   "outputs": [],
   "source": []
  },
  {
   "cell_type": "code",
   "execution_count": null,
   "id": "f60a329f",
   "metadata": {},
   "outputs": [],
   "source": [
    "from sklearn.cluster import KMeans\n",
    "import matplotlib.pyplot as plt\n",
    "\n",
    "class ClusterAnalyzer:\n",
    "    def __init__(self, data):\n",
    "        self.data = data\n",
    "    \n",
    "    def fit_kmeans(self, n_clusters):\n",
    "        # Fit a K-Means clustering model\n",
    "        model = KMeans(n_clusters=n_clusters)\n",
    "        model.fit(self.data)\n",
    "        return model.labels_\n",
    "    \n",
    "    def plot_clusters(self, labels):\n",
    "        # Visualize clusters\n",
    "        plt.scatter(self.data[:, 0], self.data[:, 1], c=labels)\n",
    "        plt.show()\n",
    "\n",
    "# Example usage:\n",
    "data = ...\n",
    "analyzer = ClusterAnalyzer(data)\n",
    "cluster_labels = analyzer.fit_kmeans(3)\n",
    "analyzer.plot_clusters(cluster_labels)\n"
   ]
  },
  {
   "cell_type": "code",
   "execution_count": null,
   "id": "285b7353",
   "metadata": {},
   "outputs": [],
   "source": []
  },
  {
   "cell_type": "markdown",
   "id": "4edc4194",
   "metadata": {},
   "source": [
    "Exercise 8: Custom Data Structures\n",
    "\n",
    "Implement custom data structures like a binary search tree or a graph for specific data science tasks."
   ]
  },
  {
   "cell_type": "code",
   "execution_count": null,
   "id": "b51a9d03",
   "metadata": {},
   "outputs": [],
   "source": [
    "class BinarySearchTree:\n",
    "    def __init__(self, value):\n",
    "        self.value = value\n",
    "        self.left = None\n",
    "        self.right = None\n",
    "    \n",
    "    def insert(self, value):\n",
    "        # Insert a value into the BST\n",
    "        pass\n",
    "    \n",
    "    def search(self, value):\n",
    "        # Search for a value in the BST\n",
    "        pass\n",
    "\n",
    "# Example usage:\n",
    "bst = BinarySearchTree(10)\n",
    "bst.insert(5)\n",
    "bst.insert(15)\n",
    "result = bst.search(5)\n"
   ]
  },
  {
   "cell_type": "code",
   "execution_count": null,
   "id": "285acd22",
   "metadata": {},
   "outputs": [],
   "source": []
  },
  {
   "cell_type": "markdown",
   "id": "99ada386",
   "metadata": {},
   "source": [
    "Exercise 9: Feature Engineering Class\n",
    "\n",
    "Create a class for feature engineering techniques such as feature selection, dimensionality reduction, and feature extraction."
   ]
  },
  {
   "cell_type": "code",
   "execution_count": null,
   "id": "1fb45b30",
   "metadata": {},
   "outputs": [],
   "source": [
    "from sklearn.feature_selection import SelectKBest\n",
    "from sklearn.decomposition import PCA\n",
    "\n",
    "class FeatureEngineer:\n",
    "    def __init__(self, data):\n",
    "        self.data = data\n",
    "    \n",
    "    def select_features(self, k):\n",
    "        # Select top k features using SelectKBest\n",
    "        pass\n",
    "    \n",
    "    def reduce_dimensionality(self, n_components):\n",
    "        # Perform dimensionality reduction using PCA\n",
    "        pass\n",
    "\n",
    "# Example usage:\n",
    "data = ...\n",
    "engineer = FeatureEngineer(data)\n",
    "selected_features = engineer.select_features(5)\n",
    "reduced_data = engineer.reduce_dimensionality(3)\n"
   ]
  },
  {
   "cell_type": "code",
   "execution_count": null,
   "id": "f402c2f5",
   "metadata": {},
   "outputs": [],
   "source": []
  },
  {
   "cell_type": "markdown",
   "id": "c83711de",
   "metadata": {},
   "source": [
    "Exercise 10: Neural Network Framework\n",
    "\n",
    "Build an OOP-based neural network framework with classes representing layers, activation functions, and optimization algorithms."
   ]
  },
  {
   "cell_type": "code",
   "execution_count": null,
   "id": "ffb6dd43",
   "metadata": {},
   "outputs": [],
   "source": []
  },
  {
   "cell_type": "code",
   "execution_count": null,
   "id": "fc55e65e",
   "metadata": {},
   "outputs": [],
   "source": [
    "import numpy as np\n",
    "import tensorflow as tf\n",
    "\n",
    "class NeuralNetwork:\n",
    "    def __init__(self, input_size, hidden_units, output_size):\n",
    "        self.input_size = input_size\n",
    "        self.hidden_units = hidden_units\n",
    "        self.output_size = output_size\n",
    "        self.model = self.build_model()\n",
    "    \n",
    "    def build_model(self):\n",
    "        # Build\n"
   ]
  },
  {
   "cell_type": "markdown",
   "id": "103fce8b",
   "metadata": {},
   "source": [
    "xercise 1: Data Preprocessing Class"
   ]
  },
  {
   "cell_type": "code",
   "execution_count": null,
   "id": "da523f31",
   "metadata": {},
   "outputs": [],
   "source": [
    "class DataPreprocessor:\n",
    "    def __init__(self, data):\n",
    "        self.data = data\n",
    "    \n",
    "    def clean_data(self):\n",
    "        # Example data cleaning: remove missing values\n",
    "        self.data = self.data.dropna()\n",
    "    \n",
    "    def scale_features(self):\n",
    "        # Example feature scaling: min-max scaling\n",
    "        self.data['feature1'] = (self.data['feature1'] - self.data['feature1'].min()) / (self.data['feature1'].max() - self.data['feature1'].min())\n",
    "    \n",
    "    def encode_categorical(self):\n",
    "        # Example categorical encoding: one-hot encoding\n",
    "        self.data = pd.get_dummies(self.data, columns=['category'])\n",
    "\n",
    "# Dummy data\n",
    "import pandas as pd\n",
    "data = pd.DataFrame({\n",
    "    'feature1': [2.0, 3.0, 5.0, 1.0, 4.0],\n",
    "    'feature2': [10.0, 15.0, 20.0, 5.0, 18.0],\n",
    "    'category': ['A', 'B', 'A', 'C', 'B']\n",
    "})\n",
    "\n",
    "preprocessor = DataPreprocessor(data)\n",
    "preprocessor.clean_data()\n",
    "preprocessor.scale_features()\n",
    "preprocessor.encode_categorical()\n",
    "\n",
    "print(preprocessor.data)\n"
   ]
  },
  {
   "cell_type": "code",
   "execution_count": null,
   "id": "f9c7d908",
   "metadata": {},
   "outputs": [],
   "source": []
  },
  {
   "cell_type": "markdown",
   "id": "b4ec6111",
   "metadata": {},
   "source": [
    "Exercise 2: Machine Learning Models"
   ]
  },
  {
   "cell_type": "code",
   "execution_count": null,
   "id": "54da619f",
   "metadata": {},
   "outputs": [],
   "source": [
    "from sklearn.linear_model import LinearRegression\n",
    "from sklearn.metrics import mean_squared_error\n",
    "\n",
    "class LinearRegressionModel: #class linearRegressionModel \n",
    "    def __init__(self): #intialinzing \n",
    "        self.model = LinearRegression() #calling imported LinearRegression method from sklearn\n",
    "    \n",
    "    def train(self, X, y): #train method\n",
    "        self.model.fit(X, y)\n",
    "    \n",
    "    def predict(self, X): #predict method\n",
    "        return self.model.predict(X)\n",
    "    \n",
    "    def evaluate(self, X_test, y_test): #evaluate method\n",
    "        y_pred = self.predict(X_test)\n",
    "        return mean_squared_error(y_test, y_pred)\n",
    "\n",
    "# Dummy data\n",
    "import numpy as np #importing numpy\n",
    "X_train = np.array([[1.0], [2.0], [3.0], [4.0]])\n",
    "y_train = np.array([2.0, 4.0, 6.0, 8.0])\n",
    "X_test = np.array([[5.0], [6.0]])\n",
    "y_test = np.array([10.0, 12.0])\n",
    "\n",
    "model = LinearRegressionModel()\n",
    "model.train(X_train, y_train)\n",
    "predictions = model.predict(X_test)\n",
    "mse = model.evaluate(X_test, y_test)\n",
    "\n",
    "print(\"Predictions:\", predictions)\n",
    "print(\"Mean Squared Error:\", mse)\n"
   ]
  },
  {
   "cell_type": "markdown",
   "id": "3eaf3b65",
   "metadata": {},
   "source": [
    "Exercise 4: Data Exploration Toolkit"
   ]
  },
  {
   "cell_type": "code",
   "execution_count": null,
   "id": "84fba8b5",
   "metadata": {},
   "outputs": [],
   "source": [
    "class DataExplorer: #data explorer class\n",
    "    def __init__(self, data):\n",
    "        self.data = data\n",
    "    \n",
    "    def summary_statistics(self): #summary_statistics method\n",
    "        return self.data.describe()\n",
    "    \n",
    "    def plot_histograms(self): #plot_histograms method\n",
    "        self.data.hist()\n",
    "        plt.show()\n",
    "    \n",
    "    def correlation_matrix(self): #correlation_matrix method\n",
    "        return self.data.corr()\n",
    "\n",
    "# Dummy data\n",
    "data = pd.DataFrame({\n",
    "    'feature1': [1.0, 2.0, 3.0, 4.0, 5.0],\n",
    "    'feature2': [10.0, 15.0, 20.0, 25.0, 30.0],\n",
    "    'target': [2.0, 4.0, 6.0, 8.0, 10.0]\n",
    "})\n",
    "\n",
    "explorer = DataExplorer(data)\n",
    "summary = explorer.summary_statistics()\n",
    "explorer.plot_histograms()\n",
    "correlation = explorer.correlation_matrix()\n",
    "\n",
    "print(\"Summary Statistics:\\n\", summary)\n",
    "print(\"Correlation Matrix:\\n\", correlation)\n"
   ]
  },
  {
   "cell_type": "code",
   "execution_count": null,
   "id": "646086f9",
   "metadata": {},
   "outputs": [],
   "source": []
  },
  {
   "cell_type": "markdown",
   "id": "04b45259",
   "metadata": {},
   "source": [
    "Exercise 11: Error Handling for Data Loading\n",
    "\n",
    "Create a class for loading data from various sources (e.g., CSV, JSON, database) and implement error handling for file not found, format errors, and database connection issues."
   ]
  },
  {
   "cell_type": "code",
   "execution_count": null,
   "id": "504c458e",
   "metadata": {},
   "outputs": [],
   "source": [
    "class DataLoader:\n",
    "    def __init__(self, source):\n",
    "        self.source = source\n",
    "    \n",
    "    def load_data(self):\n",
    "        try:\n",
    "            if self.source.endswith('.csv'):\n",
    "                data = pd.read_csv(self.source)\n",
    "            elif self.source.endswith('.json'):\n",
    "                data = pd.read_json(self.source)\n",
    "            else:\n",
    "                raise ValueError(\"Unsupported file format\")\n",
    "            return data\n",
    "        except FileNotFoundError as e:\n",
    "            print(f\"File not found: {e}\")\n",
    "        except pd.errors.ParserError as e:\n",
    "            print(f\"Data format error: {e}\")\n",
    "        except Exception as e:\n",
    "            print(f\"An error occurred: {e}\")\n",
    "            # Log the error\n",
    "\n",
    "# Example usage:\n",
    "data_loader = DataLoader(\"data.csv\")\n",
    "loaded_data = data_loader.load_data()\n"
   ]
  },
  {
   "cell_type": "markdown",
   "id": "0574f8c7",
   "metadata": {},
   "source": [
    "Exercise 12: Custom Exception Handling\n",
    "\n",
    "Create a custom exception class for handling specific errors related to data validation in a data preprocessing pipeline."
   ]
  },
  {
   "cell_type": "code",
   "execution_count": null,
   "id": "dde4f981",
   "metadata": {},
   "outputs": [],
   "source": [
    "class DataValidationError(Exception):\n",
    "    def __init__(self, message):\n",
    "        super().__init__(message)\n",
    "\n",
    "class DataPreprocessor:\n",
    "    def __init__(self, data):\n",
    "        self.data = data\n",
    "    \n",
    "    def validate_data(self):\n",
    "        if 'target' not in self.data.columns:\n",
    "            raise DataValidationError(\"Missing target column 'target'\")\n",
    "        if len(self.data) < 10:\n",
    "            raise DataValidationError(\"Insufficient data for preprocessing\")\n",
    "    \n",
    "    def preprocess_data(self):\n",
    "        try:\n",
    "            self.validate_data()\n",
    "            # Perform data preprocessing\n",
    "        except DataValidationError as e:\n",
    "            print(f\"Data validation error: {e}\")\n",
    "\n",
    "# Example usage:\n",
    "data = pd.DataFrame({\n",
    "    'feature1': [1.0, 2.0, 3.0, 4.0, 5.0],\n",
    "    'feature2': [10.0, 15.0, 20.0, 25.0, 30.0]\n",
    "})\n",
    "\n",
    "preprocessor = DataPreprocessor(data)\n",
    "preprocessor.preprocess_data()\n"
   ]
  },
  {
   "cell_type": "markdown",
   "id": "d0dd6a6c",
   "metadata": {},
   "source": [
    "Exercise 13: Database Connection Handling\n",
    "\n",
    "Create a class for connecting to a database and handle exceptions related to database connection errors."
   ]
  },
  {
   "cell_type": "code",
   "execution_count": null,
   "id": "902c851f",
   "metadata": {},
   "outputs": [],
   "source": [
    "import sqlite3\n",
    "\n",
    "class DatabaseConnector:\n",
    "    def __init__(self, database_file):\n",
    "        self.database_file = database_file\n",
    "    \n",
    "    def connect(self):\n",
    "        try:\n",
    "            connection = sqlite3.connect(self.database_file)\n",
    "            return connection\n",
    "        except sqlite3.Error as e:\n",
    "            print(f\"Database connection error: {e}\")\n",
    "    \n",
    "    def execute_query(self, query):\n",
    "        try:\n",
    "            connection = self.connect()\n",
    "            cursor = connection.cursor()\n",
    "            cursor.execute(query)\n",
    "            return cursor.fetchall()\n",
    "        except sqlite3.Error as e:\n",
    "            print(f\"Database error: {e}\")\n",
    "        finally:\n",
    "            if connection:\n",
    "                connection.close()\n",
    "\n",
    "# Example usage:\n",
    "db_connector = DatabaseConnector(\"mydb.db\")\n",
    "query = \"SELECT * FROM mytable\"\n",
    "results = db_connector.execute_query(query)\n"
   ]
  },
  {
   "cell_type": "code",
   "execution_count": null,
   "id": "dc68032a",
   "metadata": {},
   "outputs": [],
   "source": []
  },
  {
   "cell_type": "code",
   "execution_count": null,
   "id": "36e301e5",
   "metadata": {},
   "outputs": [],
   "source": []
  }
 ],
 "metadata": {
  "kernelspec": {
   "display_name": "Python 3 (ipykernel)",
   "language": "python",
   "name": "python3"
  },
  "language_info": {
   "codemirror_mode": {
    "name": "ipython",
    "version": 3
   },
   "file_extension": ".py",
   "mimetype": "text/x-python",
   "name": "python",
   "nbconvert_exporter": "python",
   "pygments_lexer": "ipython3",
   "version": "3.11.4"
  }
 },
 "nbformat": 4,
 "nbformat_minor": 5
}
