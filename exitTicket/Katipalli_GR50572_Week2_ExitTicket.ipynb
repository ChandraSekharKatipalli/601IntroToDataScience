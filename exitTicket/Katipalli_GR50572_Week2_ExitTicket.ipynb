{
 "cells": [
  {
   "cell_type": "code",
   "execution_count": null,
   "metadata": {},
   "outputs": [],
   "source": []
  },
  {
   "cell_type": "markdown",
   "metadata": {},
   "source": [
    "### Recap\n",
    "## Data Science Env\n",
    "- Anaconda env, how we use jupyter for data science problems\n",
    "- We also went in detail about the data science life cycle\n",
    "1. Defining the problem - project scope and goals\n",
    "    - We definging the KPIs - Product ower, DS, and        project manager\n",
    "\n",
    "2. Understanding the Data Req and accessability\n",
    "    - DS, DE\n",
    "\n",
    "3. Doing EDA for insights and patterns\n",
    "    - DS, Stat, Data Analyst\n",
    "\n",
    "4. prepare data - feature engineering\n",
    "    - DS\n",
    "\n",
    "5. Train and develop model\n",
    "    - DS, ML EN\n",
    "\n",
    "6. Model Vaidation and optimization\n",
    "    - ML EN and DS\n",
    "\n",
    "7. deploy in prod\n",
    "    - DevOps, MlOps (DEVOPS, ML Engineers --- CI/CD)\n",
    "\n",
    "8. Montoring Model Performance in the productions       environment\n",
    "\n",
    "\n",
    "- The Model Decaying -Model performance degrade overtime\n",
    "- The could be Data Distribution chnage by type and variance\n",
    "- There is could business interest changes\n",
    "\n",
    "you can moniter model through alert -Dashboard (powerBi)\n",
    "\n",
    "Looking at RMSE - Root Mean Square Error, R - square\n",
    "\n",
    "Classification - Accuracy, Recall, Precision, AUC Curve."
   ]
  },
  {
   "cell_type": "markdown",
   "metadata": {},
   "source": [
    "## Todays Topics\n",
    "\n",
    "- Data types - List and Tuples\n",
    "- List and List comprehension\n",
    "- dictionary and sets\n",
    "- looping and conditional statements\n",
    "- control statements\n",
    "\n",
    "Next Programing\n",
    "- Functions\n",
    "- OOPs\n",
    "- Read and write operations\n",
    "- text analysis"
   ]
  },
  {
   "cell_type": "markdown",
   "metadata": {},
   "source": [
    "Python a number of data type\n",
    "\n",
    "numerical - floating, int\n",
    "\n",
    "string\n",
    "\n",
    "Boolean\n",
    "\n",
    "Complex Numbers\n",
    "\n",
    "### Try to explore the data types of Python "
   ]
  },
  {
   "cell_type": "code",
   "execution_count": null,
   "metadata": {},
   "outputs": [],
   "source": [
    "#integer('int')\n",
    "\n",
    "age = 25\n",
    "\n",
    "#floats('float')\n",
    "height = 1.64\n",
    "\n",
    "#complex Numbers ('complex')\n",
    "z = 3 + 2j\n",
    "\n",
    "#Text data types\n",
    "#string('str')\n",
    "\n",
    "name = 'chandu'\n",
    "message = 'Hello Frds!!'\n",
    "\n",
    "#Sequence Data Types\n",
    "#List('list') Lists are ordered collection of items that can be different data types\n",
    "#lits are mutable, which means you can change the content"
   ]
  },
  {
   "cell_type": "code",
   "execution_count": 27,
   "metadata": {},
   "outputs": [],
   "source": [
    "#lists of cars\n",
    "cars = ['Benz', 'Audi', 'Kia']"
   ]
  },
  {
   "cell_type": "code",
   "execution_count": null,
   "metadata": {},
   "outputs": [],
   "source": [
    "#Tuples ('tuple') Tupes are similar to lists but are immutable, you cant change the content after creation\n",
    "cordinates = (3,4)"
   ]
  },
  {
   "cell_type": "code",
   "execution_count": null,
   "metadata": {},
   "outputs": [],
   "source": [
    "#Dictionaries('dict') store data in key-value pairs.\n",
    "#Each key is unique, and you can use it to retrieve its associated values\n",
    "\n",
    "#Dictionaries are unordered\n",
    "\n",
    "student_info = {'name':'chandu', 'age': 24}"
   ]
  },
  {
   "cell_type": "code",
   "execution_count": null,
   "metadata": {},
   "outputs": [],
   "source": [
    "#Boolean ('bool') binary values, True or False\n",
    "is_student = True"
   ]
  },
  {
   "cell_type": "code",
   "execution_count": null,
   "metadata": {},
   "outputs": [],
   "source": [
    "#Sets ('set') are unordered collection of unique elements\n",
    "#they are commonly used for operations like interaction, union, merge ....\n"
   ]
  },
  {
   "cell_type": "code",
   "execution_count": null,
   "metadata": {},
   "outputs": [],
   "source": [
    "# None Type\n",
    "\n",
    "result = None"
   ]
  },
  {
   "cell_type": "code",
   "execution_count": 1,
   "metadata": {},
   "outputs": [
    {
     "name": "stdout",
     "output_type": "stream",
     "text": [
      "b'\\x00\\x01\\x02'\n"
     ]
    }
   ],
   "source": [
    "#Bytes are used to represent binary data such as image files or network packets\n",
    "binary_data = b'\\x00\\x01\\x02'\n",
    "print(binary_data)"
   ]
  },
  {
   "cell_type": "code",
   "execution_count": 3,
   "metadata": {},
   "outputs": [],
   "source": [
    "#Date and Time data types\n",
    "\n",
    "#These data types are used to represent dates and time respectively\n",
    "\n",
    "from datetime import date, time, datetime\n",
    "\n",
    "current_date = date(2023,9,13)\n",
    "current_time = time(15,30)\n",
    "current_dateTime = datetime(2023,9,13,15,30)"
   ]
  },
  {
   "cell_type": "code",
   "execution_count": 4,
   "metadata": {},
   "outputs": [
    {
     "data": {
      "text/plain": [
       "datetime.date(2023, 9, 13)"
      ]
     },
     "execution_count": 4,
     "metadata": {},
     "output_type": "execute_result"
    }
   ],
   "source": [
    "current_date"
   ]
  },
  {
   "cell_type": "code",
   "execution_count": 5,
   "metadata": {},
   "outputs": [
    {
     "data": {
      "text/plain": [
       "datetime.time(15, 30)"
      ]
     },
     "execution_count": 5,
     "metadata": {},
     "output_type": "execute_result"
    }
   ],
   "source": [
    "current_time"
   ]
  },
  {
   "cell_type": "code",
   "execution_count": 6,
   "metadata": {},
   "outputs": [
    {
     "data": {
      "text/plain": [
       "datetime.datetime(2023, 9, 13, 15, 30)"
      ]
     },
     "execution_count": 6,
     "metadata": {},
     "output_type": "execute_result"
    }
   ],
   "source": [
    "current_dateTime"
   ]
  },
  {
   "cell_type": "markdown",
   "metadata": {},
   "source": [
    "## Lists and Tuples"
   ]
  },
  {
   "cell_type": "code",
   "execution_count": 9,
   "metadata": {},
   "outputs": [],
   "source": [
    "#Create a List called fruits containing the names of your favorate frits\n",
    "\n",
    "fruits = ['apple', 'banana', 'cherry']"
   ]
  },
  {
   "cell_type": "code",
   "execution_count": 10,
   "metadata": {},
   "outputs": [
    {
     "name": "stdout",
     "output_type": "stream",
     "text": [
      "First fruit: apple\n",
      "Last fruit: cherry\n"
     ]
    }
   ],
   "source": [
    "#access and print the fruit and last elements of the fruits list\n",
    "\n",
    "first_element = fruits[0]\n",
    "last_element  = fruits[-1]\n",
    "\n",
    "print('First fruit:', first_element)\n",
    "print('Last fruit:', last_element)"
   ]
  },
  {
   "cell_type": "code",
   "execution_count": 11,
   "metadata": {},
   "outputs": [
    {
     "data": {
      "text/plain": [
       "['apple', 'banana', 'cherry', 'grape']"
      ]
     },
     "execution_count": 11,
     "metadata": {},
     "output_type": "execute_result"
    }
   ],
   "source": [
    "#Modify Lists\n",
    "fruits.append('grape')\n",
    "fruits"
   ]
  },
  {
   "cell_type": "code",
   "execution_count": 12,
   "metadata": {},
   "outputs": [
    {
     "name": "stdout",
     "output_type": "stream",
     "text": [
      "modified list: ['apple', 'durian', 'cherry', 'grape']\n"
     ]
    }
   ],
   "source": [
    "fruits[1] = 'durian'\n",
    "print('modified list:', fruits)"
   ]
  },
  {
   "cell_type": "code",
   "execution_count": 13,
   "metadata": {},
   "outputs": [
    {
     "name": "stdout",
     "output_type": "stream",
     "text": [
      "selected fruits: ['apple', 'durian', 'cherry']\n"
     ]
    }
   ],
   "source": [
    "#List Slicing\n",
    "selected_fruits = fruits[:3]\n",
    "print('selected fruits:', selected_fruits)"
   ]
  },
  {
   "cell_type": "code",
   "execution_count": 15,
   "metadata": {},
   "outputs": [
    {
     "name": "stdout",
     "output_type": "stream",
     "text": [
      "sum of numbers: 55\n"
     ]
    }
   ],
   "source": [
    "#list operation\n",
    "numbers = list(range(1,11))\n",
    "sum_numbers = sum(numbers)\n",
    "print('sum of numbers:', sum_numbers)"
   ]
  },
  {
   "cell_type": "code",
   "execution_count": 16,
   "metadata": {},
   "outputs": [
    {
     "name": "stdout",
     "output_type": "stream",
     "text": [
      "Square numbers [1, 4, 9, 16, 25, 36, 49, 64, 81, 100]\n"
     ]
    }
   ],
   "source": [
    "# List Comprehension\n",
    "squared_numbers = [x**2 for x in numbers]\n",
    "print('Square numbers', squared_numbers)"
   ]
  },
  {
   "cell_type": "code",
   "execution_count": 18,
   "metadata": {},
   "outputs": [],
   "source": [
    "# Create Tuples\n",
    "coordinates = (40.7128, -74.0006) #NY city coordinates\n",
    "\n",
    "#accessing Tuples elements\n",
    "\n",
    "latitude = coordinates[0]"
   ]
  },
  {
   "cell_type": "code",
   "execution_count": 19,
   "metadata": {},
   "outputs": [
    {
     "data": {
      "text/plain": [
       "40.7128"
      ]
     },
     "execution_count": 19,
     "metadata": {},
     "output_type": "execute_result"
    }
   ],
   "source": [
    "latitude"
   ]
  },
  {
   "cell_type": "code",
   "execution_count": 20,
   "metadata": {},
   "outputs": [],
   "source": [
    "longitude = coordinates[1]"
   ]
  },
  {
   "cell_type": "code",
   "execution_count": 21,
   "metadata": {},
   "outputs": [
    {
     "data": {
      "text/plain": [
       "-74.0006"
      ]
     },
     "execution_count": 21,
     "metadata": {},
     "output_type": "execute_result"
    }
   ],
   "source": [
    "longitude"
   ]
  },
  {
   "cell_type": "code",
   "execution_count": 22,
   "metadata": {},
   "outputs": [
    {
     "ename": "TypeError",
     "evalue": "'tuple' object does not support item assignment",
     "output_type": "error",
     "traceback": [
      "\u001b[1;31m---------------------------------------------------------------------------\u001b[0m",
      "\u001b[1;31mTypeError\u001b[0m                                 Traceback (most recent call last)",
      "\u001b[1;32md:\\601_IntroductionToDataScience\\exitTicket\\Katipalli_GR50572_Week2_ExitTicket.ipynb Cell 29\u001b[0m line \u001b[0;36m3\n\u001b[0;32m      <a href='vscode-notebook-cell:/d%3A/601_IntroductionToDataScience/exitTicket/Katipalli_GR50572_Week2_ExitTicket.ipynb#X42sZmlsZQ%3D%3D?line=0'>1</a>\u001b[0m \u001b[39m# Tuple immutability\u001b[39;00m\n\u001b[1;32m----> <a href='vscode-notebook-cell:/d%3A/601_IntroductionToDataScience/exitTicket/Katipalli_GR50572_Week2_ExitTicket.ipynb#X42sZmlsZQ%3D%3D?line=2'>3</a>\u001b[0m coordinates[\u001b[39m0\u001b[39;49m] \u001b[39m=\u001b[39m \u001b[39m134.234\u001b[39m\n",
      "\u001b[1;31mTypeError\u001b[0m: 'tuple' object does not support item assignment"
     ]
    }
   ],
   "source": [
    "# Tuple immutability\n",
    "\n",
    "coordinates[0] = 134.234"
   ]
  },
  {
   "cell_type": "code",
   "execution_count": 24,
   "metadata": {},
   "outputs": [
    {
     "name": "stdout",
     "output_type": "stream",
     "text": [
      "name: chandu\n",
      "age: 30\n",
      "city: san francisco\n"
     ]
    }
   ],
   "source": [
    "# Tuple Unpacking\n",
    "\n",
    "person_info = ('chandu', 30, 'san francisco')\n",
    "\n",
    "name, age, city = person_info\n",
    "\n",
    "print('name:', name)\n",
    "print('age:', age)\n",
    "print('city:', city)"
   ]
  },
  {
   "cell_type": "code",
   "execution_count": 25,
   "metadata": {},
   "outputs": [
    {
     "name": "stdout",
     "output_type": "stream",
     "text": [
      "combined tuple: ('ram', 23, 'rob', 34)\n"
     ]
    }
   ],
   "source": [
    "#combining Tuples\n",
    "\n",
    "tuple1 = ('ram', 23)\n",
    "tuple2 = ('rob', 34)\n",
    "combined_tuple = tuple1 + tuple2\n",
    "print('combined tuple:', combined_tuple )"
   ]
  },
  {
   "cell_type": "code",
   "execution_count": 26,
   "metadata": {},
   "outputs": [
    {
     "name": "stdout",
     "output_type": "stream",
     "text": [
      "nested tuple: ((1, 2), (3, 4), (5, 6))\n"
     ]
    }
   ],
   "source": [
    "#nested tuples\n",
    "nested_tuples = ((1,2),(3,4),(5,6))\n",
    "\n",
    "print('nested tuple:', nested_tuples)"
   ]
  },
  {
   "cell_type": "code",
   "execution_count": 28,
   "metadata": {},
   "outputs": [
    {
     "name": "stdout",
     "output_type": "stream",
     "text": [
      "passed\n"
     ]
    }
   ],
   "source": [
    "#Conditional Statement\n",
    "#if, elif, else\n",
    "\n",
    "grade = 85\n",
    "\n",
    "if grade >= 60:\n",
    "    print('passed')\n",
    "\n"
   ]
  },
  {
   "cell_type": "code",
   "execution_count": 29,
   "metadata": {},
   "outputs": [
    {
     "name": "stdout",
     "output_type": "stream",
     "text": [
      "you are an adult\n"
     ]
    }
   ],
   "source": [
    "#simple conditional statement\n",
    "\n",
    "age = 18\n",
    "\n",
    "if age >= 18:\n",
    "    print('you are an adult')\n",
    "else:\n",
    "    print('you are a minor')"
   ]
  },
  {
   "cell_type": "code",
   "execution_count": 30,
   "metadata": {},
   "outputs": [
    {
     "name": "stdout",
     "output_type": "stream",
     "text": [
      "45.0°F is equal to 7.222222222222222°C.\n"
     ]
    }
   ],
   "source": [
    "#ask for the user temperature value and uint\n",
    "\n",
    "temperature = float(input('enter temperature value: '))\n",
    "unit = input('Enter temperature unit (Celsius or Fahrenheit): ').lower()\n",
    "\n",
    "#Perfrom temperature conversion\n",
    "\n",
    "if unit == 'celsius':\n",
    "    fahrenheit = (temperature * 9/5) + 32\n",
    "    print(f'{temperature}°C is equal to {fahrenheit}°F.')\n",
    "elif unit == 'fahrenheit':\n",
    "    celsius = (temperature - 32) * 5/9\n",
    "    print(f'{temperature}°F is equal to {celsius}°C.')\n",
    "else:\n",
    "    print('Invalid unit. Please enter Celsius or Fahrenheit.')"
   ]
  },
  {
   "cell_type": "code",
   "execution_count": 31,
   "metadata": {},
   "outputs": [
    {
     "name": "stdout",
     "output_type": "stream",
     "text": [
      "Your letter grade is: C\n"
     ]
    }
   ],
   "source": [
    "# Grading System\n",
    "score = int(input(\"Enter your exam score (out of 100): \")) \n",
    "\n",
    "\n",
    "# Assign a letter grade based on the score \n",
    "if score >= 90: \n",
    "    grade = \"A\" \n",
    "elif score >= 80: \n",
    "    grade = \"B\" \n",
    "elif score >= 70: \n",
    "    grade = \"C\" \n",
    "elif score >= 60: \n",
    "    grade = \"D\" \n",
    "else: grade = \"F\" \n",
    "\n",
    "print(f\"Your letter grade is: {grade}\")"
   ]
  },
  {
   "cell_type": "code",
   "execution_count": 32,
   "metadata": {},
   "outputs": [
    {
     "name": "stdout",
     "output_type": "stream",
     "text": [
      "Your ticket price is $8.\n"
     ]
    }
   ],
   "source": [
    "#Move Ticket Cost\n",
    "age = int(input(\"Enter your age: \")) \n",
    "student_id = input(\"Do you have a student ID? (yes/no): \").lower() \n",
    "\n",
    "# Initial ticket price \n",
    "ticket_price = 10 \n",
    "\n",
    "# Apply discounts based on conditions \n",
    "\n",
    "if age < 13: \n",
    "    ticket_price -= 1 \n",
    "elif age >= 65: \n",
    "    ticket_price = 7 \n",
    "if student_id == \"yes\": \n",
    "    ticket_price -= 2 \n",
    "    \n",
    "print(f\"Your ticket price is ${ticket_price}.\")\n"
   ]
  },
  {
   "cell_type": "code",
   "execution_count": 34,
   "metadata": {},
   "outputs": [
    {
     "name": "stdout",
     "output_type": "stream",
     "text": [
      "Based on your credit score and income, you are categorized as 'Low Risk'.\n"
     ]
    }
   ],
   "source": [
    "# Application of Data Science\n",
    "# Ask the user for their credit score and income \n",
    "credit_score = int(input(\"Enter your credit score: \")) \n",
    "income = float(input(\"Enter your annual income: \")) \n",
    "\n",
    "\n",
    "# Define threshold values \n",
    "credit_score_threshold = 700 \n",
    "income_threshold = 50000 \n",
    "\n",
    "# Initialize the risk category \n",
    "risk_category = None \n",
    "\n",
    "# Determine the risk category using if statements \n",
    "if credit_score >= credit_score_threshold and income >= income_threshold: \n",
    "    risk_category = \"Low Risk\" \n",
    "elif credit_score < credit_score_threshold and income < income_threshold: \n",
    "    risk_category = \"High Risk\"\n",
    "else: \n",
    "    risk_category = \"Medium Risk\" \n",
    "\n",
    "# Provide the risk assessment to the user \n",
    "print(f\"Based on your credit score and income, you are categorized as '{risk_category}'.\")\n"
   ]
  },
  {
   "cell_type": "code",
   "execution_count": null,
   "metadata": {},
   "outputs": [],
   "source": []
  }
 ],
 "metadata": {
  "kernelspec": {
   "display_name": "Python 3",
   "language": "python",
   "name": "python3"
  },
  "language_info": {
   "codemirror_mode": {
    "name": "ipython",
    "version": 3
   },
   "file_extension": ".py",
   "mimetype": "text/x-python",
   "name": "python",
   "nbconvert_exporter": "python",
   "pygments_lexer": "ipython3",
   "version": "3.11.4"
  },
  "orig_nbformat": 4
 },
 "nbformat": 4,
 "nbformat_minor": 2
}
