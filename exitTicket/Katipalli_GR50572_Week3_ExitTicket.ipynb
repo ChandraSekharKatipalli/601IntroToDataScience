{
 "cells": [
  {
   "cell_type": "markdown",
   "metadata": {},
   "source": [
    "## Last week\n",
    "\n",
    "- data types - int, float, str, bool, none\n",
    "\n",
    "- lists - creating, accessing, manipulating, nested list and list comprehension and conditions\n",
    "\n",
    "- Tuples - unpacking, list of tuples.\n"
   ]
  },
  {
   "cell_type": "markdown",
   "metadata": {},
   "source": [
    "## today\n",
    "\n",
    "- loops\n",
    "- functions\n",
    "- applications of data science\n",
    "- OOPs"
   ]
  },
  {
   "cell_type": "code",
   "execution_count": 2,
   "metadata": {},
   "outputs": [],
   "source": [
    "student_data = [ {\"name\": \"Alice\", \"math_score\": 90, \"english_score\": 85}, \n",
    "                {\"name\": \"Bob\", \"math_score\": 70, \"english_score\": 88}, \n",
    "                {\"name\": \"Charlie\", \"math_score\": 65, \"english_score\": 72}, \n",
    "                {\"name\": \"David\", \"math_score\": 80, \"english_score\": 78}, \n",
    "                {\"name\": \"Eve\", \"math_score\": 88, \"english_score\": 92}, \n",
    "                {\"name\": \"Frank\", \"math_score\": 75, \"english_score\": 68}, \n",
    "                {\"name\": \"Grace\", \"math_score\": 95, \"english_score\": 89}, \n",
    "                {\"name\": \"Helen\", \"math_score\": 60, \"english_score\": 55}, \n",
    "                {\"name\": \"Ivy\", \"math_score\": 78, \"english_score\": 80}, \n",
    "                {\"name\": \"Jack\", \"math_score\": 82, \"english_score\": 75}, \n",
    "            ]"
   ]
  },
  {
   "cell_type": "code",
   "execution_count": 3,
   "metadata": {},
   "outputs": [
    {
     "name": "stdout",
     "output_type": "stream",
     "text": [
      "math =  []\n",
      "english =  []\n"
     ]
    }
   ],
   "source": [
    "math = []\n",
    "english = []\n",
    "for i in student_data:\n",
    "    if i['math_score'] < 50:\n",
    "        math.append(i['name'])\n",
    "\n",
    "    if i['english_score'] < 50:\n",
    "        english.append(i['name'])\n",
    "\n",
    "\n",
    "print('math = ', math)\n",
    "print('english = ', english)\n",
    "\n",
    "\n"
   ]
  },
  {
   "cell_type": "code",
   "execution_count": 6,
   "metadata": {},
   "outputs": [
    {
     "name": "stdout",
     "output_type": "stream",
     "text": [
      "student with highest total score: Grace (184)\n"
     ]
    }
   ],
   "source": [
    "highest_total_score = -1\n",
    "top_student = ''\n",
    "\n",
    "for i in student_data:\n",
    "    totalScore = i['english_score'] + i['math_score']\n",
    "    if totalScore > highest_total_score:\n",
    "        highest_total_score = totalScore\n",
    "        top_student = i['name']\n",
    "\n",
    "print(f'student with highest total score: {top_student} ({highest_total_score})')"
   ]
  },
  {
   "cell_type": "code",
   "execution_count": 9,
   "metadata": {},
   "outputs": [],
   "source": [
    "# create a function to classify students on their total\n",
    "\n",
    "def classify_student(totalScore):\n",
    "    if totalScore >= 180:\n",
    "        return 'excellent'\n",
    "    elif 160 <= totalScore < 160:\n",
    "        return 'satisfactory'\n",
    "    else:\n",
    "        return 'Needs improvement'"
   ]
  },
  {
   "cell_type": "code",
   "execution_count": 10,
   "metadata": {},
   "outputs": [
    {
     "name": "stdout",
     "output_type": "stream",
     "text": [
      "Alice scored 175. Classification: Needs improvement\n",
      "Bob scored 158. Classification: Needs improvement\n",
      "Charlie scored 137. Classification: Needs improvement\n",
      "David scored 158. Classification: Needs improvement\n",
      "Eve scored 180. Classification: excellent\n",
      "Frank scored 143. Classification: Needs improvement\n",
      "Grace scored 184. Classification: excellent\n",
      "Helen scored 115. Classification: Needs improvement\n",
      "Ivy scored 158. Classification: Needs improvement\n",
      "Jack scored 157. Classification: Needs improvement\n"
     ]
    }
   ],
   "source": [
    "# Call the function for each student and print the classification\n",
    "for student in student_data:\n",
    "    totalScore = student['english_score'] + student['math_score']\n",
    "    classification = classify_student(totalScore)\n",
    "    print(f'{student[\"name\"]} scored {totalScore}. Classification: {classification}')"
   ]
  },
  {
   "cell_type": "code",
   "execution_count": null,
   "metadata": {},
   "outputs": [],
   "source": [
    "# Any applications using user defined and for loop"
   ]
  },
  {
   "cell_type": "code",
   "execution_count": null,
   "metadata": {},
   "outputs": [],
   "source": [
    "# importing necessary libraries\n",
    "import math\n",
    "from collections import Counter"
   ]
  },
  {
   "cell_type": "code",
   "execution_count": null,
   "metadata": {},
   "outputs": [],
   "source": [
    "#define a fuction that calculatees mean, median, mode,  variance and standard deviation\n",
    "#These the central tendency of your data"
   ]
  },
  {
   "cell_type": "code",
   "execution_count": 12,
   "metadata": {},
   "outputs": [],
   "source": [
    "#Sample data (list of numbers)\n",
    "data = [12, 15, 18, 22, 22, 23, 24, 26, 30, 32]"
   ]
  },
  {
   "cell_type": "code",
   "execution_count": null,
   "metadata": {},
   "outputs": [],
   "source": [
    "def calculate_mean(numbers):\n",
    "    if len(numbers) == 0:\n",
    "        return None\n",
    "    \n",
    "    return sum(numbers)/len(numbers)"
   ]
  },
  {
   "cell_type": "markdown",
   "metadata": {},
   "source": [
    "#### in feature engineering creating new feature using the existing feature for your model (input) - what do you do - mean\n",
    "\n",
    "#### there are many zeros in denominator\n",
    "#### what do you do?\n",
    "#### handling zero in the denominators (you should be very cautious) - leads mathematical error\n",
    "\n",
    "1. check  for Zero denominators\n",
    "2. adding a small constant number in both numerator and denominator\n",
    "3. feature transforming -log or square root\n"
   ]
  },
  {
   "cell_type": "code",
   "execution_count": 13,
   "metadata": {},
   "outputs": [],
   "source": [
    "# uder defined function to calculate the median of a list numbers\n",
    "def calculate_median(numbers):\n",
    "    if len(numbers) == 0:\n",
    "        return None\n",
    "    \n",
    "    sorted_numbers = sorted(numbers)\n",
    "    n = len(sorted_numbers)\n",
    "    if n % 2 == 0:\n",
    "        #if there is an even number of data points, take the average of the middle two\n",
    "        mid1 = sorted_numbers[n // 2 -1] #int\n",
    "        mid2 = sorted_numbers[n // 2] #to get int\n",
    "        return (mid1+mid2)/2\n",
    "    else:\n",
    "        #if there isan odd number of data points, return middle value\n",
    "        return sorted_numbers[n // 2]"
   ]
  },
  {
   "cell_type": "code",
   "execution_count": null,
   "metadata": {},
   "outputs": [],
   "source": [
    "def calculate_variance(numbers):\n",
    "    if len(numbers) == 0:\n",
    "        mean = calculate_mean(numbers)\n",
    "        squared_diff = [(x - mean) ** 2 for x in numbers]\n",
    "        variance = sum(squared_diff) / len(numbers)\n",
    "        return variance"
   ]
  },
  {
   "cell_type": "markdown",
   "metadata": {},
   "source": [
    "##### variance is just measure of distribution of your data point from the mean\n",
    "##### the higher the varience -your data id highly dispersed\n",
    "##### standard deviation is the same as variance -more interpratable measure of the spread of the data \n",
    "##### it is just square root of variance\n",
    "\n",
    "(x - mean) ** 2"
   ]
  },
  {
   "cell_type": "code",
   "execution_count": 14,
   "metadata": {},
   "outputs": [],
   "source": [
    "#how you can use uderdefined function with loop for solving statstical and data science problems"
   ]
  },
  {
   "cell_type": "markdown",
   "metadata": {},
   "source": [
    "#next week\n",
    "- Advance uder defined functions\n",
    "- object oriented programming\n",
    "- some other text analysis\n",
    "---- quiz"
   ]
  },
  {
   "cell_type": "markdown",
   "metadata": {},
   "source": [
    "### Statstics for data science\n",
    "### linear algebra for data science\n",
    "\n",
    "### go to indentail numpy function (matrix operations)\n",
    "--- a good quiz (stat, linear)\n",
    "### pandas - data manipulation and analytsis\n",
    "\n",
    "----quiz \"Quizes-1 for data 601-11 sesion.ipynb\"uiz\n",
    "\n",
    "\n",
    "---- submit your project (EDA work)\n",
    "\n",
    "## ML model (linear regression and logistic regression)\n",
    "\n",
    "---Submit (your ML app project)"
   ]
  },
  {
   "cell_type": "markdown",
   "metadata": {},
   "source": []
  }
 ],
 "metadata": {
  "kernelspec": {
   "display_name": "Python 3",
   "language": "python",
   "name": "python3"
  },
  "language_info": {
   "codemirror_mode": {
    "name": "ipython",
    "version": 3
   },
   "file_extension": ".py",
   "mimetype": "text/x-python",
   "name": "python",
   "nbconvert_exporter": "python",
   "pygments_lexer": "ipython3",
   "version": "3.11.4"
  },
  "orig_nbformat": 4
 },
 "nbformat": 4,
 "nbformat_minor": 2
}
