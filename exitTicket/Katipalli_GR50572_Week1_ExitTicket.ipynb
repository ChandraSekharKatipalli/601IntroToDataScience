{
 "cells": [
  {
   "cell_type": "markdown",
   "id": "43dcb6de",
   "metadata": {},
   "source": [
    "##Practicing on Hand Jupyter and Markdown cell"
   ]
  },
  {
   "cell_type": "code",
   "execution_count": 1,
   "id": "e6aa0ed9",
   "metadata": {},
   "outputs": [
    {
     "name": "stdout",
     "output_type": "stream",
     "text": [
      "Hello Professor!!\n"
     ]
    }
   ],
   "source": [
    "print('Hello Professor!!')"
   ]
  },
  {
   "cell_type": "code",
   "execution_count": 2,
   "id": "1d615b1e",
   "metadata": {},
   "outputs": [],
   "source": [
    "#Create two variables, num1 and num2 add assign them to any value\n",
    "num1 = 10\n",
    "num2 = 5"
   ]
  },
  {
   "cell_type": "code",
   "execution_count": 3,
   "id": "3c2383e3",
   "metadata": {},
   "outputs": [
    {
     "name": "stdout",
     "output_type": "stream",
     "text": [
      "15\n"
     ]
    }
   ],
   "source": [
    "sum = num1 + num2\n",
    "\n",
    "print(sum)"
   ]
  },
  {
   "cell_type": "code",
   "execution_count": 4,
   "id": "21b59e1c",
   "metadata": {},
   "outputs": [
    {
     "name": "stdout",
     "output_type": "stream",
     "text": [
      "50\n"
     ]
    }
   ],
   "source": [
    "#get the product of the two variables\n",
    "product = num1 * num2\n",
    "\n",
    "print(product)"
   ]
  },
  {
   "cell_type": "markdown",
   "id": "95eb4faa",
   "metadata": {},
   "source": [
    "# Notebook excercise\n",
    "### Week1"
   ]
  },
  {
   "cell_type": "markdown",
   "id": "53db7771",
   "metadata": {},
   "source": [
    "### Create lists with ` ` for bullet points\n",
    "`to be assigned`\n",
    "\n",
    "### For Italic\n",
    "*Data Science for engineers*\n"
   ]
  },
  {
   "cell_type": "markdown",
   "id": "228109a2",
   "metadata": {},
   "source": [
    "### creating LINK\n",
    "[UMBC website](https://www.umbc.edu/)"
   ]
  },
  {
   "cell_type": "markdown",
   "id": "45905708",
   "metadata": {},
   "source": [
    "## Typical Data Science life cycle\n",
    "1. Business Understanding\n",
    "    - Define the business objective/goals\n",
    "    - Business KPI - Key Performance Indicators\n",
    "    - spam dectection problem - The sales exceutive complain spam email -- what would be the KPIs\n",
    "     * Reduce the number of complaints about email spamming\n",
    "    * Getting More cleaned non-spam emails\n",
    "    + saving exective time on spending on spam email(money)\n",
    "    + spam email would likely filtering hardware and information (Risk)\n",
    "\n",
    "2. Data Requirement and Collection\n",
    "    - Based the objective - Data Scientists with DE will do Data Requirement\n",
    "\n",
    "    - Historical.\n",
    "    - Volume, Frequency\n",
    "    - Data Type(Structure, Text Data, Unstructure, Image, etc)\n",
    "    - How do you get the data, access\n",
    "\n",
    "    - Data ETL process(ETL)\n",
    "    - Streamlining Data -Automate the data Ingestion process\\\n",
    "\n",
    "\n",
    "3. Research, Data Exploratory and Liturature and Solution Review\n",
    "     - Research, EDA (Exploratory Data Analysis), Solution Review\n",
    "    - Data Pattern, correlation, visualization work\n",
    "    \n",
    "4. Traning and model Building\n",
    "    -Train your model, test model and validate your model\n",
    "    \n",
    "    \n",
    "5. Model Optimization (Tuning and hyperparameter)\n",
    "\n",
    "    \n",
    "6. Deployment (Productionization your Model)\n",
    "    \n",
    "    To scale and maintain and stablize the model in the prod env\n",
    "   \n",
    "   \n",
    "   -Mlops, Devops, Data Engineers and DS.\n",
    "   "
   ]
  },
  {
   "cell_type": "markdown",
   "id": "69c1454f",
   "metadata": {},
   "source": [
    "# Introduction to Python for DS\n",
    "- Python is versatile and powerful programming language used in DS, ML, AI in many other applications\n",
    "- Its very simple and easy to learn and well intergrated into many fronten and backend applications\n",
    "- Its highly robust language to data analysis, machine learning, and statsicscal modeling."
   ]
  },
  {
   "cell_type": "markdown",
   "id": "f868c9c5",
   "metadata": {},
   "source": [
    "### Python Basic"
   ]
  },
  {
   "cell_type": "code",
   "execution_count": 6,
   "id": "9fc4895e",
   "metadata": {},
   "outputs": [],
   "source": [
    "# creating variables\n",
    "\n",
    "x = 10\n",
    "\n",
    "y = 3.14\n",
    "\n",
    "name1 = 'venkey'\n",
    "name2 = 'chandra'\n"
   ]
  },
  {
   "cell_type": "code",
   "execution_count": 7,
   "id": "84a7e237",
   "metadata": {},
   "outputs": [
    {
     "name": "stdout",
     "output_type": "stream",
     "text": [
      "<class 'int'>\n",
      "<class 'float'>\n",
      "<class 'str'>\n",
      "<class 'str'>\n"
     ]
    }
   ],
   "source": [
    "# Data Types\n",
    "print(type(x))\n",
    "print(type(y))\n",
    "print(type(name1))\n",
    "print(type(name2))"
   ]
  },
  {
   "cell_type": "markdown",
   "id": "e842d877",
   "metadata": {},
   "source": [
    "+ <class 'int'> -----------------Integer (1, 2, .....)\n",
    "+ <class 'float'> ---------------floating values (3.14, 3.1133432, 34.23525........)\n",
    "+ <class 'str'> ----------------- categorical variables\n",
    "+ <class 'str'>"
   ]
  },
  {
   "cell_type": "markdown",
   "id": "46bb40ea",
   "metadata": {},
   "source": [
    "Types of Data:\n",
    "\n",
    "1. Int\n",
    "2. Float\n",
    "3. String\n",
    "4. Boolean\n",
    "5. Lists\n",
    "6. Tuples\n",
    "7. Dictionary\n",
    "8. Sets\n",
    "9. None (NoneType)\n",
    "10. 3+2j (complex)\n",
    "11. Bytes and Byte Array (to assign binary data to binary files)\n",
    "12. Data and time (datetime)\n",
    "13. custom objects"
   ]
  },
  {
   "cell_type": "markdown",
   "id": "6b218d54",
   "metadata": {},
   "source": [
    "## Lists\n",
    "Lists are collection of items\n",
    "that can hold different data types. They ordered and mutable"
   ]
  },
  {
   "cell_type": "code",
   "execution_count": 12,
   "id": "4f63e1fe",
   "metadata": {},
   "outputs": [
    {
     "name": "stdout",
     "output_type": "stream",
     "text": [
      "cherry\n"
     ]
    }
   ],
   "source": [
    "fruits = ['apple', 'banana', 'cherry']\n",
    "print(fruits[-1]) #accessing the last element"
   ]
  },
  {
   "cell_type": "markdown",
   "id": "8c9871e0",
   "metadata": {},
   "source": [
    "## Control Flow\n",
    "pyhton supports conditional statements (if-else) and loops (for, while) for controlling flow of your code."
   ]
  },
  {
   "cell_type": "code",
   "execution_count": 10,
   "id": "2bd4b649",
   "metadata": {},
   "outputs": [
    {
     "name": "stdout",
     "output_type": "stream",
     "text": [
      "you are an adult\n",
      "0\n",
      "1\n",
      "2\n",
      "3\n",
      "4\n"
     ]
    }
   ],
   "source": [
    "age = 25\n",
    "\n",
    "\n",
    "#if -else\n",
    "if age < 18:\n",
    "    print('you are a minor')\n",
    "else:\n",
    "    print('you are an adult')\n",
    "    \n",
    "#loop\n",
    "for i in range(5):\n",
    "    print(i)"
   ]
  },
  {
   "cell_type": "code",
   "execution_count": 11,
   "id": "4941ed48",
   "metadata": {
    "scrolled": true
   },
   "outputs": [
    {
     "data": {
      "text/plain": [
       "'Hello, Chandra!'"
      ]
     },
     "execution_count": 11,
     "metadata": {},
     "output_type": "execute_result"
    }
   ],
   "source": [
    "# Functions\n",
    "def greet(name):\n",
    "    return f'Hello, {name}!'\n",
    "\n",
    "\n",
    "greet('Chandra')"
   ]
  },
  {
   "cell_type": "markdown",
   "id": "713530cb",
   "metadata": {},
   "source": [
    "# Libraries\n",
    "1. Numpy \n",
    "2. Pandas\n",
    "3. Matplotlib\n",
    "4. seaborn\n",
    "5. sklearn"
   ]
  },
  {
   "cell_type": "markdown",
   "id": "74d25560",
   "metadata": {},
   "source": [
    "# Linear Algebra \n",
    "***\n",
    "\n",
    "\n",
    "1. **Intorduction to Linear Algbera** \n",
    "\n",
    "\n",
    "\n",
    "\n",
    "2. **Matrix Operations**\n",
    "\n",
    "\n",
    "\n"
   ]
  },
  {
   "cell_type": "markdown",
   "id": "5a56cfbd",
   "metadata": {},
   "source": [
    "# Calculus \n",
    "  ***\n",
    "  \n",
    "\n",
    "1. **Limits and Derivatives**\n",
    "\n",
    "\n",
    "\n",
    "\n",
    "2. **Partial Derivatives and Integrals**\n"
   ]
  },
  {
   "cell_type": "markdown",
   "id": "db95b4eb",
   "metadata": {},
   "source": [
    "# Probabaility and Statstics\n",
    "\n",
    "***\n",
    "\n",
    "1. **Probabaility and Information Thoery**\n",
    "\n",
    "\n",
    "\n",
    "\n",
    "\n",
    "2. **Introduction to Statstics**"
   ]
  },
  {
   "cell_type": "markdown",
   "id": "70264a17",
   "metadata": {},
   "source": [
    "# Computer Science\n",
    "\n",
    "\n",
    "***\n",
    "\n",
    "1. **Algorthims and Data Strucutres**\n",
    "\n",
    "\n",
    "\n",
    "\n",
    "\n",
    "2. **Optimization**\n"
   ]
  },
  {
   "cell_type": "markdown",
   "id": "2df7f9bb",
   "metadata": {},
   "source": [
    "    \n",
    "\n",
    "1. **Jon Krohn Linear Algebra for [ML course](https://learning.oreilly.com/videos/linear-algebra-for/9780137398119/)**\n",
    "\n",
    "***\n",
    "\n",
    "2. **Ch. 2 &6  of Deisenroth et al. (2020) Mathematics [for ML](https://mml-book.github.io/)**\n",
    "\n",
    "***\n",
    "\n",
    "3. **An Introduction to Statistical Learning, by Gareth James ,Daniela Witten , Trevor Hastie and Robert Tibshirani. This book has been super helpful for me.[Second Edition](https://www.statlearning.com/)**\n",
    "\n",
    "    * **Get the [Python version](https://github.com/pedvide/ISLR_Python)**\n",
    "    \n",
    "    ***\n",
    "\n",
    "4. **Data Science from the Scratch  by Joel Grus(2015)**\n",
    "\n",
    "***\n",
    "\n",
    "5. **Practical Statistics for Data Scientist by P. Bruce &A. Bruce(2017)**\n"
   ]
  },
  {
   "cell_type": "markdown",
   "id": "b3b65b55",
   "metadata": {},
   "source": [
    "# Data Analysis with python\n",
    " 1.  **Python for Data Analysis by Wes McKinney(2022)\n",
    "      https://wesmckinney.com/book/**\n",
    "      \n",
    "      \n",
    "***\n",
    "     \n",
    "\n",
    "2.   **Python Data Science Handbook by Jake VanderPlas (2016,2022)**\n",
    "\n",
    "     https://jakevdp.github.io/PythonDataScienceHandbook/ \n",
    " \n"
   ]
  },
  {
   "cell_type": "markdown",
   "id": "55fbbff5",
   "metadata": {},
   "source": [
    "# Machine Learning ( Basic Stuff) \n",
    "* **Machine Learning Specialization (Coursera-Andrew AG Machine Learning Specialization-updated in June ,2022)**"
   ]
  },
  {
   "cell_type": "markdown",
   "id": "903c93c6",
   "metadata": {},
   "source": [
    "# Advance Machine Learning\n",
    "\n",
    "**Advance Machine Learning (Deep Learning and NLP Specialization by [Andrew AG](https://www.coursera.org/specializations/deep-learning)**\n",
    " \n"
   ]
  },
  {
   "cell_type": "markdown",
   "id": "a57123bc",
   "metadata": {},
   "source": [
    "## Machine Learning Deployment  \n",
    " \n",
    "* **Machine Learning Engineering for Production (MLOps) Specialization by Andre AG (https://www.deeplearning.ai/courses/machine-learning-engineering-for-production-mlops/)** \n",
    " \n"
   ]
  },
  {
   "cell_type": "markdown",
   "id": "e6fa54e6",
   "metadata": {},
   "source": [
    "# Reading Articles and Blogs\n",
    "\n",
    "1. [Towards  Data Science](https://towardsdatascience.com/data-science/home)\n",
    "\n",
    "2. How to Build a Career in AI by [Andrew's Letter](https://read.deeplearning.ai/the-batch/tag/letters/)\n",
    "\n",
    "3. [Stack Overflow](https://stackoverflow.com/questions/tagged/python)\n",
    "\n",
    "4. [Real Python](https://realpython.com/)\n",
    " "
   ]
  },
  {
   "cell_type": "markdown",
   "id": "583f208a",
   "metadata": {},
   "source": [
    "- Linear Algebra ---- Martix Operation (adding, multiplication, division, Inverse...)\n",
    "- Linear Regression ---- best fit model (maximum and minimum --- optimization)\n",
    "- prinicpal Component Analysis\n",
    "- Eigen Value and decompostion advance ML model\n",
    "- optimization-most to find the least error and maximize\n",
    "\n",
    "\n",
    "## Statistics\n",
    "- probability thoery - stat inference probabal\n",
    "- correlation and causation theory\n",
    "- Bayeslan Statstics\n",
    "\n",
    "- sampling (large volume)\n",
    "- Time series analysis\n",
    "- Multivariate Statica\n",
    "\n"
   ]
  },
  {
   "cell_type": "code",
   "execution_count": null,
   "id": "8bdf09a9",
   "metadata": {},
   "outputs": [],
   "source": []
  }
 ],
 "metadata": {
  "kernelspec": {
   "display_name": "Python 3 (ipykernel)",
   "language": "python",
   "name": "python3"
  },
  "language_info": {
   "codemirror_mode": {
    "name": "ipython",
    "version": 3
   },
   "file_extension": ".py",
   "mimetype": "text/x-python",
   "name": "python",
   "nbconvert_exporter": "python",
   "pygments_lexer": "ipython3",
   "version": "3.11.4"
  }
 },
 "nbformat": 4,
 "nbformat_minor": 5
}
