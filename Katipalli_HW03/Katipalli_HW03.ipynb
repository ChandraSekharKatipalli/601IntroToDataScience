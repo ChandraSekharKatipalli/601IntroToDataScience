{
 "cells": [
  {
   "cell_type": "markdown",
   "id": "876350fe",
   "metadata": {},
   "source": [
    "### Exercise 1: List Filtering"
   ]
  },
  {
   "cell_type": "code",
   "execution_count": 1,
   "id": "0fe4f55a",
   "metadata": {},
   "outputs": [],
   "source": [
    "#1)  Given a list of numbers, create a new list that contains only the even numbers."
   ]
  },
  {
   "cell_type": "code",
   "execution_count": 3,
   "id": "bd7b4a9e",
   "metadata": {},
   "outputs": [
    {
     "name": "stdout",
     "output_type": "stream",
     "text": [
      "Given List = [1, 2, 3, 4, 5, 6, 7, 8, 9, 10, 11, 12, 13, 14, 15, 16, 17, 18, 19, 20, 21, 22, 23, 24, 25, 26, 27, 28, 29, 30, 31, 32, 33, 34, 35, 36, 37, 38, 39, 40, 41, 42, 43, 44, 45, 46, 47, 48, 49, 50, 51, 52, 53, 54, 55, 56, 57, 58, 59, 60, 61, 62, 63, 64, 65, 66, 67, 68, 69, 70, 71, 72, 73, 74, 75, 76, 77, 78, 79, 80, 81, 82, 83, 84, 85, 86, 87, 88, 89, 90, 91, 92, 93, 94, 95, 96, 97, 98, 99, 100]\n"
     ]
    }
   ],
   "source": [
    "#Creating Given List\n",
    "givenList = []\n",
    "\n",
    "for i in range(1, 101):\n",
    "    givenList.append(i)\n",
    "\n",
    "print('Given List =', givenList)"
   ]
  },
  {
   "cell_type": "code",
   "execution_count": 4,
   "id": "1da97016",
   "metadata": {},
   "outputs": [
    {
     "name": "stdout",
     "output_type": "stream",
     "text": [
      "Even List =  [2, 4, 6, 8, 10, 12, 14, 16, 18, 20, 22, 24, 26, 28, 30, 32, 34, 36, 38, 40, 42, 44, 46, 48, 50, 52, 54, 56, 58, 60, 62, 64, 66, 68, 70, 72, 74, 76, 78, 80, 82, 84, 86, 88, 90, 92, 94, 96, 98, 100]\n"
     ]
    }
   ],
   "source": [
    "#Creating even number list from given list\n",
    "evenList = []\n",
    "\n",
    "for i in givenList:\n",
    "    if i % 2 == 0:\n",
    "        evenList.append(i)\n",
    "\n",
    "print('Even List = ', evenList)"
   ]
  },
  {
   "cell_type": "markdown",
   "id": "d0ab0963",
   "metadata": {},
   "source": [
    "### Exercise 2: Tuple Unpacking"
   ]
  },
  {
   "cell_type": "code",
   "execution_count": null,
   "id": "60167e3f",
   "metadata": {},
   "outputs": [],
   "source": [
    "#2: Create a tuple of coordinates (x, y, z), and then unpack and print each coordinate separately."
   ]
  },
  {
   "cell_type": "code",
   "execution_count": 6,
   "id": "ef17eeca",
   "metadata": {},
   "outputs": [
    {
     "name": "stdout",
     "output_type": "stream",
     "text": [
      "x = 12\n",
      "y = 45\n",
      "z = 78\n"
     ]
    }
   ],
   "source": [
    "co_ordinates = (12, 45, 78)\n",
    "\n",
    "#unpacking the coordinates\n",
    "(x, y, z) = co_ordinates\n",
    "\n",
    "print('x =', x)\n",
    "print('y =', y)\n",
    "print('z =', z)"
   ]
  },
  {
   "cell_type": "markdown",
   "id": "9fa6b335",
   "metadata": {},
   "source": [
    "### Exercise 3: List Concatenation"
   ]
  },
  {
   "cell_type": "code",
   "execution_count": null,
   "id": "82cb5993",
   "metadata": {},
   "outputs": [],
   "source": [
    "#3: Given two lists, merge them into a single list without duplicates."
   ]
  },
  {
   "cell_type": "code",
   "execution_count": 46,
   "id": "2d8688cb",
   "metadata": {},
   "outputs": [
    {
     "name": "stdout",
     "output_type": "stream",
     "text": [
      "A = [1, 8, 8, 5, 4]\n",
      "B = [5, 2, 8, 8, 5]\n",
      "Merged List = [1, 2, 4, 5, 8]\n"
     ]
    }
   ],
   "source": [
    "import random\n",
    "\n",
    "A = []\n",
    "B = []\n",
    "for i in range(1, 6):\n",
    "    A.append(random.randint(1, 10))\n",
    "    B.append(random.randint(1, 10))\n",
    "\n",
    "print('A =', A)\n",
    "print('B =', B)\n",
    "\n",
    "# merging B into A\n",
    "A.extend(B)\n",
    "\n",
    "# Removing duplicate values\n",
    "C = list(set(A))\n",
    "\n",
    "print('Merged List =', C)"
   ]
  },
  {
   "cell_type": "markdown",
   "id": "bc8b5508",
   "metadata": {},
   "source": [
    "### Exercise 4: Conditional List Comprehension"
   ]
  },
  {
   "cell_type": "code",
   "execution_count": 43,
   "id": "4eeb4b10",
   "metadata": {},
   "outputs": [],
   "source": [
    "# 4 Create a list that contains squares of even numbers and cubes of odd numbers from 1 to 10 using list comprehension."
   ]
  },
  {
   "cell_type": "code",
   "execution_count": 49,
   "id": "c6e94233",
   "metadata": {},
   "outputs": [
    {
     "name": "stdout",
     "output_type": "stream",
     "text": [
      "[1, 4, 27, 16, 125, 36, 343, 64, 729, 100]\n"
     ]
    }
   ],
   "source": [
    "#conditional list comperhension\n",
    "list = [i**2 if i % 2 == 0 else i**3 for i in range(1, 11)]\n",
    "\n",
    "print(list)"
   ]
  },
  {
   "cell_type": "markdown",
   "id": "4bf29df9",
   "metadata": {},
   "source": [
    "## Exercise 5: List of Lists"
   ]
  },
  {
   "cell_type": "code",
   "execution_count": 58,
   "id": "af7582ba",
   "metadata": {},
   "outputs": [
    {
     "name": "stdout",
     "output_type": "stream",
     "text": [
      "[1, 2, 3, 4, 5, 6, 7, 8]\n"
     ]
    }
   ],
   "source": [
    "#Problem: Given a list of lists, flatten it into a single list.\n",
    "    \n",
    "nested_list = [[1, 2, 3], [4, 5], [6, 7, 8]]\n",
    "single_list = [] #empty list\n",
    "\n",
    "#iterating through list and extending to new empty list\n",
    "for i in range(len(nested_list)):\n",
    "    single_list.extend(nested_list[i])\n",
    "\n",
    "print(single_list)"
   ]
  },
  {
   "cell_type": "markdown",
   "id": "65650e7f",
   "metadata": {},
   "source": [
    "## Exercise 6: List of Tuples"
   ]
  },
  {
   "cell_type": "code",
   "execution_count": 65,
   "id": "ad35dd00",
   "metadata": {},
   "outputs": [
    {
     "name": "stdout",
     "output_type": "stream",
     "text": [
      "[(4, 1), (3, 2), (1, 5), (2, 8)]\n"
     ]
    }
   ],
   "source": [
    "#Problem: Given a list of tuples, sort them based on the second element of each tuple.\n",
    "data = [(1, 5), (3, 2), (2, 8), (4, 1)]\n",
    "\n",
    "sortedList = sorted(data, key=lambda i: i[1])\n",
    "\n",
    "print(sortedList)"
   ]
  },
  {
   "cell_type": "markdown",
   "id": "d4ea0014",
   "metadata": {},
   "source": [
    "## Exercise 7: Nested List Comprehension\n",
    "\n",
    "Problem: Create a matrix represented as a list of lists and transpose it using nested list comprehensions.\n"
   ]
  },
  {
   "cell_type": "code",
   "execution_count": 71,
   "id": "de5ac108",
   "metadata": {},
   "outputs": [
    {
     "name": "stdout",
     "output_type": "stream",
     "text": [
      "[[1, 4, 7], [2, 5, 8], [3, 6, 9]]\n"
     ]
    }
   ],
   "source": [
    "matrix = [\n",
    "    [1, 2, 3], \n",
    "    [4, 5, 6], \n",
    "    [7, 8, 9]\n",
    "    ]\n",
    "\n",
    "#Transposing using list comprehension\n",
    "transpose = [[row[i] for row in matrix] for i in range(len(matrix[0]))]\n",
    "\n",
    "print(transpose)"
   ]
  },
  {
   "cell_type": "markdown",
   "id": "445b7344",
   "metadata": {},
   "source": [
    "## Exercise 8: Fibonacci Sequence\n",
    "\n",
    "Problem: Generate the first 10 numbers of the Fibonacci sequence using a list.\n",
    "Each number should be the sum of the previous two."
   ]
  },
  {
   "cell_type": "code",
   "execution_count": 86,
   "id": "dba40c44",
   "metadata": {},
   "outputs": [
    {
     "name": "stdout",
     "output_type": "stream",
     "text": [
      "1,2,3,5,8,13,21,34,55,89,"
     ]
    }
   ],
   "source": [
    "count = 1\n",
    "n1 = 0\n",
    "n2 = 1\n",
    "n3 = 1\n",
    "\n",
    "while count <= 10:\n",
    "    print(n3, end=',')\n",
    "    n1, n2 = n2, n3\n",
    "    n3 = n1 + n2\n",
    "    count += 1"
   ]
  },
  {
   "cell_type": "markdown",
   "id": "5f033379",
   "metadata": {},
   "source": [
    "## Exercise 9: Prime Numbers\n",
    "\n",
    "Problem: Generate a list of prime numbers from 1 to 50"
   ]
  },
  {
   "cell_type": "code",
   "execution_count": 87,
   "id": "24496e8b",
   "metadata": {},
   "outputs": [
    {
     "name": "stdout",
     "output_type": "stream",
     "text": [
      "2\n",
      "3\n",
      "5\n",
      "7\n",
      "11\n",
      "13\n",
      "17\n",
      "19\n",
      "23\n",
      "29\n",
      "31\n",
      "37\n",
      "41\n",
      "43\n",
      "47\n"
     ]
    }
   ],
   "source": [
    "for  i in range(2, 51):\n",
    "    #Assuming the number is prime\n",
    "    isPrime = True\n",
    "\n",
    "    for j in range(2, i):\n",
    "        #checking other factors\n",
    "        if i % j == 0:\n",
    "            #if other factors found the making this false\n",
    "            isPrime = False\n",
    "            \n",
    "    if isPrime:\n",
    "        print(i)\n",
    "            \n",
    "            "
   ]
  },
  {
   "cell_type": "code",
   "execution_count": null,
   "id": "dd1fe865",
   "metadata": {},
   "outputs": [],
   "source": []
  },
  {
   "cell_type": "code",
   "execution_count": null,
   "id": "4c5482da",
   "metadata": {},
   "outputs": [],
   "source": []
  }
 ],
 "metadata": {
  "kernelspec": {
   "display_name": "Python 3 (ipykernel)",
   "language": "python",
   "name": "python3"
  },
  "language_info": {
   "codemirror_mode": {
    "name": "ipython",
    "version": 3
   },
   "file_extension": ".py",
   "mimetype": "text/x-python",
   "name": "python",
   "nbconvert_exporter": "python",
   "pygments_lexer": "ipython3",
   "version": "3.7.3"
  }
 },
 "nbformat": 4,
 "nbformat_minor": 5
}
