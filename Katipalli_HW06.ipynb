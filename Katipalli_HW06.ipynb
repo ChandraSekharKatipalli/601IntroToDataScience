{
 "cells": [
  {
   "cell_type": "markdown",
   "id": "e8d212f1",
   "metadata": {},
   "source": [
    "### Q1: Explain the central limit theorem and give examples of when you can use it in a real-world problem. ###"
   ]
  },
  {
   "cell_type": "markdown",
   "id": "38ae1b0f",
   "metadata": {},
   "source": [
    "The Central Limit Theorem tells that in a large sample the distribution of sample means will be approximately equals to normal distribution irrespective of original population's distribution.\n",
    "\n",
    "Here are few examples;\n",
    "\n",
    "1. **Financial Risk Assesment**: The CLT can be used to predict the distribution of returns over time when modeling financial risk.\n",
    "\n",
    "2. **Biological Studies**:  In biological research, when studying the effects of a drug on a population, the CLT allows you to make inferences about the mean response to the drug, even if individual responses vary widely.\n",
    "\n",
    "\n",
    "3. **Quality Control**: In manufacturing, when inspecting a large batch of products for defects, the CLT allows you to use a normal distribution to estimate the proportion of defective items, even if the underlying distribution of defects is not normal."
   ]
  },
  {
   "cell_type": "markdown",
   "id": "4c888f65",
   "metadata": {},
   "source": [
    "### Q2: Briefly explain the A/B testing and its application? What are some common pitfalls encountered in A/B testing? ###"
   ]
  },
  {
   "cell_type": "markdown",
   "id": "955012bf",
   "metadata": {},
   "source": [
    "A/B Testing is a method of testing where two versions of a feature or a web page are compared to determine which one performs better. The main goal of this this testing is to measure outcomes between A and B which results best suited version, outcomes can be higher click-through rates, conversion rates, or more KPIs etc.\n",
    "\n",
    "common pitfalls during A/B testing;\n",
    "\n",
    "1. **Seasonal effects**: User behavior changes throughout the course of the year can effect the test results. For instance, increasing traffic on an e-commerce site over the holiday season may have an impact on test results.\n",
    "\n",
    "2. **Overlooking secondary parameters**: By concentrating just on the primary statistic, such as click-through rate, it is possible to overlook the influence on other crucial secondary metrics, such as bounce rate and user engagement.\n",
    "\n",
    "3. **Long term effects**: A/B tests often focus on short-term gains and may overlook potential long-term impacts that are not immediately evident.\n"
   ]
  },
  {
   "cell_type": "markdown",
   "id": "a230ebe1",
   "metadata": {},
   "source": [
    "### Q3: Describe briefly the hypothesis testing and p-value in layman’s term? And give a practical application for them ?"
   ]
  },
  {
   "cell_type": "markdown",
   "id": "10a27915",
   "metadata": {},
   "source": [
    "**Hypothesis Testing**: The Hypothesis Testing is done based on a hunch or by asking a question. For example, to check the effectiveness of a new feature or a new advertisement two sets of data is collected, one is effectiveness after implementing new feature and another is before implementing.\n",
    "\n",
    "**P-Value**: The strength of the evidence that contradicts your hunch or question is indicated by the p-value. It reveals the possibility of seeing outcomes as harsh as what you saw if your hunch had been completely off. Your hunch may be correct if the p-value is very low (less than 0.05), which indicates that the data may not be the result of random coincidence. Your hunch might not be confirmed by the evidence if it is larger.\n",
    "\n",
    "\n",
    "*Practical example :* A business may believe that switching the green \"Buy Now\" button on their website to red will boost sales. In an A/B test, Group A is shown the green button whereas Group B is shown the red button. They can assess whether the button color change significantly influences sales by examining the data and establishing a p-value. The alteration may be effective if the p-value is low, in which case they can choose the hue with confidence."
   ]
  },
  {
   "cell_type": "markdown",
   "id": "8867eea6",
   "metadata": {},
   "source": [
    "### Q4: Given a left-skewed distribution that has a median of 60, what conclusions can we draw about the mean and the mode of the data? ###"
   ]
  },
  {
   "cell_type": "markdown",
   "id": "8b218176",
   "metadata": {},
   "source": [
    "In a **left-skewed distribution** the *mean* will be *less* than *median* and the *mode* will be *grater* than the *median*. if the median is 60 then the mean will be less than 60 and the mode is greater than 60. This tells us that data is more focused towards the *rightside* of the distribution so *median* and *mean* are also pulled to the *same right direction*."
   ]
  },
  {
   "cell_type": "markdown",
   "id": "194b9db4",
   "metadata": {},
   "source": [
    "### Q5: What is the meaning of selection bias and how to avoid it? ###"
   ]
  },
  {
   "cell_type": "markdown",
   "id": "18f5504d",
   "metadata": {},
   "source": [
    "**Selection bias** is a sort of bias that happens when the people or things in a sample are not typical of the larger population. Particularly in research and statistics, this bias might result in incorrect results. Typically, it occurs when the selection procedure is defective or not random, leading to an imbalance between the representation of specific groups or features in the sample.\n",
    "\n",
    "These strategies help avoid bias;\n",
    "\n",
    "1. **Random Sampling**: Use random sampling methods to select your sample. Randomly choosing individuals or items from the population ensures that each member has an equal chance of being included, reducing the risk of bias.\n",
    "\n",
    "2. **Peer Review**: Involve peer review in your research process. External reviewers can help identify potential biases and suggest improvements.\n",
    "\n",
    "3. **Longitudinal Studies**: In some instances, longitudinal research can aid in the prevention of selection bias by tracking changes in the same participants over time."
   ]
  },
  {
   "cell_type": "markdown",
   "id": "a6bd9dc7",
   "metadata": {},
   "source": [
    "### Q6: Explain the long-tailed distribution and provide three examples of relevant phenomena that have long tails. Why are they important in classification and regression problems? ###"
   ]
  },
  {
   "cell_type": "markdown",
   "id": "c47e66e1",
   "metadata": {},
   "source": [
    "**Long-tailed distribution** is a probability distributuion of larger number of rare or extreme events compared to normal events distribution. In this scenario, the tail of the curve extends much further than in a typical bell shaped distribution.\n",
    "\n",
    "examples of phenomena with long-tailed distributions and why they are important in classification and regression problems:\n",
    "\n",
    "1. **Web Traffic:** The number of website visitors or page views frequently has a lengthy tail. There are many smaller websites with much fewer visits, compared to a limited number of really popular websites. In order for content recommendation algorithms to take into account both popular and niche content, it is essential to comprehend this distribution. Handling this long-tailed character in classification and regression problems related to web analytics is crucial for precise predictions.\n",
    "\n",
    "2. **Social Media**:  In social media, the number of connections or followers an individual has can also follow a long-tailed distribution. A small fraction of users may have an exceptionally large number of connections, while most have a modest number. For tasks like influencer identification, targeted advertising, or content dissemination, it's essential to understand the distribution of connections in the network. Neglecting the long-tailed nature could lead to missing out on influential users."
   ]
  },
  {
   "cell_type": "markdown",
   "id": "9f279b21",
   "metadata": {},
   "source": [
    "### Q7: What is the meaning of KPI in statistics ###"
   ]
  },
  {
   "cell_type": "markdown",
   "id": "12b76f80",
   "metadata": {},
   "source": [
    "KPIs means Key Performance Idicators in statistics and analysis. They are used to measure the performance of any satistical concept."
   ]
  },
  {
   "cell_type": "markdown",
   "id": "ed254d94",
   "metadata": {},
   "source": [
    "### Q8: Say you flip a coin 10 times and observe only one head. What would be the null hypothesis and p-value for testing whether the coin is fair or not? ###"
   ]
  },
  {
   "cell_type": "markdown",
   "id": "0f72c569",
   "metadata": {},
   "source": [
    "**Null Hypothesis**: The coin is fair, and the probability of getting a head on each flip (p) is 0.5.\n",
    "\n",
    "Since you observed one head in 10 flips, you can use the binomial distribution to calculate the probability of getting exactly one head in 10 trials when the probability of success (getting a head) is 0.5. If the p-value is very low (typically below a significance level, such as 0.05), you might reject the null hypothesis in favor of an alternative hypothesis.\n",
    "\n",
    "\n",
    "**Alternative Hypothesis**: The coin is not fair because p != 0.5\n",
    "\n",
    "You would then calculate the p-value based on this alternative hypothesis. If the p-value is less than your chosen significance level (e.g., 0.05), you might conclude that there is enough evidence to reject the null hypothesis and suggest that the coin is not fair."
   ]
  },
  {
   "cell_type": "markdown",
   "id": "a47139a3",
   "metadata": {},
   "source": [
    "### Q9: You are testing hundreds of hypotheses, each with a t-test. What considerations would you take into account when doing this? ###"
   ]
  },
  {
   "cell_type": "markdown",
   "id": "800afe91",
   "metadata": {},
   "source": [
    "When testing hundreds of hypotheses, each with a t-test or any statistical test, it's important to consider multiple testing issues to avoid false discoveries and maintain the integrity of your results. Here are some key considerations:\n",
    "\n",
    "1. **Significance Level**: Be careful when selecting the significance level (alpha) for each test. A stricter alpha level can be required to ensure statistical rigor if you run a lot of tests.\n",
    "\n",
    "2. **Effect Size**: Consider not only statistical significance but also the practical importance or effect size. Small effect sizes may be statistically significant with large sample sizes but have limited practical relevance.\n",
    "\n",
    "3. **Data Preprocessing**: Carefully preprocess your data, address outliers, and check for violations of assumptions before conducting tests. Data quality and cleaning can significantly affect the results.\n",
    "\n",
    "4. **Replication**: Whenever possible, perform replication studies to confirm the results. Replication helps reduce the risk of false positives.\n",
    "\n",
    "5. **Data Visualization**: Visualize your results using plots and charts to get a sense of the overall data patterns. Visualization can provide insights and help identify potential outliers or peculiarities.\n",
    "\n",
    "6. **Transparent Reporting**: Ensure transparent and complete reporting of your methods and results. Make your data and code available to allow others to verify your findings.\n",
    "\n",
    "7. **Data Collection Bias**: Be cautious of potential biases in data collection. Biased data can lead to incorrect conclusions.\n",
    "\n",
    "8. **Expert Review**: Have your work reviewed by peers or experts in the field to check the validity of your hypotheses and the appropriateness of your statistical approach.\n",
    "\n",
    "\n",
    "\n",
    "\n",
    "\n",
    "\n"
   ]
  },
  {
   "cell_type": "markdown",
   "id": "6f0dad6f",
   "metadata": {},
   "source": [
    "### Q10: What general conditions must be satisfied for the central limit theorem to hold? ###"
   ]
  },
  {
   "cell_type": "markdown",
   "id": "fc98ca76",
   "metadata": {},
   "source": [
    "General conditions must be satisfied for the central limit theorem:\n",
    "\n",
    "1. The data must follow the randomization condition. It must be sampled randomly.\n",
    "\n",
    "2. Samples should be independent of each other. One sample should not influence the other samples.\n",
    "\n",
    "3. Sample size should be not more than 10% of the population when sampling is done without replacement.\n",
    "\n",
    "4. The sample size should be sufficiently large. Now, how will we figure out how large this size should be? Well, it depends on the population. When the population is skewed or asymmetric, the sample size should be large. If the population is symmetric, then we can draw small samples as well.\n"
   ]
  },
  {
   "cell_type": "markdown",
   "id": "f93e1565",
   "metadata": {},
   "source": [
    "### Q11: What is skewness discuss two methods to measure it? ###"
   ]
  },
  {
   "cell_type": "markdown",
   "id": "c20216fb",
   "metadata": {},
   "source": [
    "A statistical measure called **skewness** and  describes the asymmetry or lack of symmetry in a dataset's probability distribution. It measures how uneven or skewed the distribution is.\n",
    "\n",
    "Two measuring methods on skewness are:\n",
    "\n",
    "1. Pearson's First Coefficient of Skewness.\n",
    "\n",
    "2. Karl Pearson's Coefficient of Skewness."
   ]
  },
  {
   "cell_type": "markdown",
   "id": "f6684eb8",
   "metadata": {},
   "source": [
    "\n",
    "### Q13: Discuss the Chi-square, ANOVA, and t-test ###"
   ]
  },
  {
   "cell_type": "markdown",
   "id": "ada7f41b",
   "metadata": {},
   "source": [
    "**Chi-Square**: The chi-square test is used to determine whether there is a significant association (or independence) between two categorical variables in a dataset. There are two primary types of chi-square tests, the Chi-Square Test for Independence (used when assessing the relationship between two categorical variables) and the Chi-Square Goodness of Fit Test (used when comparing observed and expected frequencies within a single categorical variable).\n",
    "\n",
    "\n",
    "**ANOVA**: ANOVA is used to compare the means of three or more groups or treatments to determine if there are statistically significant differences. One-way ANOVA (comparing multiple groups to a single factor), Two-way ANOVA (comparing multiple groups to two factors), and N-way ANOVA (comparing multiple groups to multiple factors).\n",
    "\n",
    "\n",
    "**t-test**: The t-test is used to compare the means of two groups or treatments to determine if there is a statistically significant difference between them.  Independent samples t-test (used when comparing two independent groups) and paired samples t-test (used when comparing two related groups)."
   ]
  },
  {
   "cell_type": "markdown",
   "id": "bebacfbd",
   "metadata": {},
   "source": [
    "### Q16: What is the Law of Large Numbers in statistics and how it can be used in data science ? ###"
   ]
  },
  {
   "cell_type": "markdown",
   "id": "33e41729",
   "metadata": {},
   "source": [
    "**The Law of Large Numbers** (LLN) is a fundamental theorem in statistics that describes the behavior of sample averages as the sample size increases. There are two main forms of the Law of Large Numbers: the Weak Law of Large Numbers (WLLN) and the Strong Law of Large Numbers (SLLN).\n",
    "\n",
    "It is used in statistical interface to perform hypothesis testing, estimation accuracy, Big data analysis, risk assessment."
   ]
  },
  {
   "cell_type": "markdown",
   "id": "09c1032d",
   "metadata": {},
   "source": [
    "### Q17: ? ###What is the difference between a confidence interval and a prediction interval, and how do you calculate them"
   ]
  },
  {
   "attachments": {
    "image-2.png": {
     "image/png": "[encoded data removed]"
    },
    "image.png": {
     "image/png": "[encoded data removed]"
    }
   },
   "cell_type": "markdown",
   "id": "1978c0c1",
   "metadata": {},
   "source": [
    "Key differences between confidence interval and a prediction interval:\n",
    "\n",
    "1. A prediction interval includes a wider range of values than a confidence interval.\n",
    "2. A prediction interval is less certain than a confidence interval.\n",
    "3. A prediction interval predicts an individual number, whereas a confidence interval predicts the mean value.\n",
    "4. A prediction interval focuses on future events, whereas a confidence interval focuses on past or current events\n",
    "\n",
    "There are formules to calculate confidence interval and prediction interval,\n",
    "\n",
    "![image.png](attachment:image.png)\n",
    "\n",
    "Where:\n",
    "\n",
    "x is the sample mean.\n",
    "\n",
    "Z is the critical value from the standard normal distribution corresponding to the desired confidence level.\n",
    "\n",
    "σ is the population standard deviation (known).\n",
    "\n",
    "n is the sample size.\n",
    "\n",
    "\n",
    "\n",
    "\n",
    "\n",
    "![image-2.png](attachment:image-2.png)\n",
    "\n",
    "Where:\n",
    "\n",
    "y is the predicted value for a given x.\n",
    "\n",
    "t is the critical value from the t-distribution corresponding to the desired confidence level and degrees of freedom.\n",
    "\n",
    "s is the standard error of the residuals.\n",
    "\n",
    "n is the sample size.\n",
    "\n",
    "x is the predictor value.\n",
    "\n",
    "ˉ\n",
    "x is the mean of the predictor variable.\n",
    "\n"
   ]
  }
 ],
 "metadata": {
  "kernelspec": {
   "display_name": "Python 3 (ipykernel)",
   "language": "python",
   "name": "python3"
  },
  "language_info": {
   "codemirror_mode": {
    "name": "ipython",
    "version": 3
   },
   "file_extension": ".py",
   "mimetype": "text/x-python",
   "name": "python",
   "nbconvert_exporter": "python",
   "pygments_lexer": "ipython3",
   "version": "3.9.12"
  }
 },
 "nbformat": 4,
 "nbformat_minor": 5
}
